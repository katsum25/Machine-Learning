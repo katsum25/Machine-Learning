{
 "cells": [
  {
   "cell_type": "code",
   "execution_count": 1,
   "id": "17c0fa15",
   "metadata": {},
   "outputs": [],
   "source": [
    "import numpy as np\n",
    "import matplotlib.pyplot as plt\n",
    "import pandas as pd\n",
    "import seaborn as sns "
   ]
  },
  {
   "cell_type": "markdown",
   "id": "c49daf02",
   "metadata": {},
   "source": [
    "# Прогнозирование инсульта\n",
    "\n",
    "### Чтение данных"
   ]
  },
  {
   "cell_type": "code",
   "execution_count": 2,
   "id": "aab5f1cf",
   "metadata": {},
   "outputs": [
    {
     "data": {
      "text/plain": [
       "pandas.core.frame.DataFrame"
      ]
     },
     "execution_count": 2,
     "metadata": {},
     "output_type": "execute_result"
    }
   ],
   "source": [
    "data = pd.read_csv('healthcare-dataset-stroke-data.csv', sep=',', header=0,  engine='python')\n",
    "type(data)"
   ]
  },
  {
   "cell_type": "code",
   "execution_count": 3,
   "id": "6ed94dd7",
   "metadata": {
    "scrolled": true
   },
   "outputs": [
    {
     "data": {
      "text/html": [
       "<div>\n",
       "<style scoped>\n",
       "    .dataframe tbody tr th:only-of-type {\n",
       "        vertical-align: middle;\n",
       "    }\n",
       "\n",
       "    .dataframe tbody tr th {\n",
       "        vertical-align: top;\n",
       "    }\n",
       "\n",
       "    .dataframe thead th {\n",
       "        text-align: right;\n",
       "    }\n",
       "</style>\n",
       "<table border=\"1\" class=\"dataframe\">\n",
       "  <thead>\n",
       "    <tr style=\"text-align: right;\">\n",
       "      <th></th>\n",
       "      <th>id</th>\n",
       "      <th>gender</th>\n",
       "      <th>age</th>\n",
       "      <th>hypertension</th>\n",
       "      <th>heart_disease</th>\n",
       "      <th>ever_married</th>\n",
       "      <th>work_type</th>\n",
       "      <th>Residence_type</th>\n",
       "      <th>avg_glucose_level</th>\n",
       "      <th>bmi</th>\n",
       "      <th>smoking_status</th>\n",
       "      <th>stroke</th>\n",
       "    </tr>\n",
       "  </thead>\n",
       "  <tbody>\n",
       "    <tr>\n",
       "      <th>0</th>\n",
       "      <td>9046</td>\n",
       "      <td>Male</td>\n",
       "      <td>67.0</td>\n",
       "      <td>0</td>\n",
       "      <td>1</td>\n",
       "      <td>Yes</td>\n",
       "      <td>Private</td>\n",
       "      <td>Urban</td>\n",
       "      <td>228.69</td>\n",
       "      <td>36.6</td>\n",
       "      <td>formerly smoked</td>\n",
       "      <td>1</td>\n",
       "    </tr>\n",
       "    <tr>\n",
       "      <th>1</th>\n",
       "      <td>51676</td>\n",
       "      <td>Female</td>\n",
       "      <td>61.0</td>\n",
       "      <td>0</td>\n",
       "      <td>0</td>\n",
       "      <td>Yes</td>\n",
       "      <td>Self-employed</td>\n",
       "      <td>Rural</td>\n",
       "      <td>202.21</td>\n",
       "      <td>NaN</td>\n",
       "      <td>never smoked</td>\n",
       "      <td>1</td>\n",
       "    </tr>\n",
       "    <tr>\n",
       "      <th>2</th>\n",
       "      <td>31112</td>\n",
       "      <td>Male</td>\n",
       "      <td>80.0</td>\n",
       "      <td>0</td>\n",
       "      <td>1</td>\n",
       "      <td>Yes</td>\n",
       "      <td>Private</td>\n",
       "      <td>Rural</td>\n",
       "      <td>105.92</td>\n",
       "      <td>32.5</td>\n",
       "      <td>never smoked</td>\n",
       "      <td>1</td>\n",
       "    </tr>\n",
       "    <tr>\n",
       "      <th>3</th>\n",
       "      <td>60182</td>\n",
       "      <td>Female</td>\n",
       "      <td>49.0</td>\n",
       "      <td>0</td>\n",
       "      <td>0</td>\n",
       "      <td>Yes</td>\n",
       "      <td>Private</td>\n",
       "      <td>Urban</td>\n",
       "      <td>171.23</td>\n",
       "      <td>34.4</td>\n",
       "      <td>smokes</td>\n",
       "      <td>1</td>\n",
       "    </tr>\n",
       "    <tr>\n",
       "      <th>4</th>\n",
       "      <td>1665</td>\n",
       "      <td>Female</td>\n",
       "      <td>79.0</td>\n",
       "      <td>1</td>\n",
       "      <td>0</td>\n",
       "      <td>Yes</td>\n",
       "      <td>Self-employed</td>\n",
       "      <td>Rural</td>\n",
       "      <td>174.12</td>\n",
       "      <td>24.0</td>\n",
       "      <td>never smoked</td>\n",
       "      <td>1</td>\n",
       "    </tr>\n",
       "    <tr>\n",
       "      <th>...</th>\n",
       "      <td>...</td>\n",
       "      <td>...</td>\n",
       "      <td>...</td>\n",
       "      <td>...</td>\n",
       "      <td>...</td>\n",
       "      <td>...</td>\n",
       "      <td>...</td>\n",
       "      <td>...</td>\n",
       "      <td>...</td>\n",
       "      <td>...</td>\n",
       "      <td>...</td>\n",
       "      <td>...</td>\n",
       "    </tr>\n",
       "    <tr>\n",
       "      <th>5105</th>\n",
       "      <td>18234</td>\n",
       "      <td>Female</td>\n",
       "      <td>80.0</td>\n",
       "      <td>1</td>\n",
       "      <td>0</td>\n",
       "      <td>Yes</td>\n",
       "      <td>Private</td>\n",
       "      <td>Urban</td>\n",
       "      <td>83.75</td>\n",
       "      <td>NaN</td>\n",
       "      <td>never smoked</td>\n",
       "      <td>0</td>\n",
       "    </tr>\n",
       "    <tr>\n",
       "      <th>5106</th>\n",
       "      <td>44873</td>\n",
       "      <td>Female</td>\n",
       "      <td>81.0</td>\n",
       "      <td>0</td>\n",
       "      <td>0</td>\n",
       "      <td>Yes</td>\n",
       "      <td>Self-employed</td>\n",
       "      <td>Urban</td>\n",
       "      <td>125.20</td>\n",
       "      <td>40.0</td>\n",
       "      <td>never smoked</td>\n",
       "      <td>0</td>\n",
       "    </tr>\n",
       "    <tr>\n",
       "      <th>5107</th>\n",
       "      <td>19723</td>\n",
       "      <td>Female</td>\n",
       "      <td>35.0</td>\n",
       "      <td>0</td>\n",
       "      <td>0</td>\n",
       "      <td>Yes</td>\n",
       "      <td>Self-employed</td>\n",
       "      <td>Rural</td>\n",
       "      <td>82.99</td>\n",
       "      <td>30.6</td>\n",
       "      <td>never smoked</td>\n",
       "      <td>0</td>\n",
       "    </tr>\n",
       "    <tr>\n",
       "      <th>5108</th>\n",
       "      <td>37544</td>\n",
       "      <td>Male</td>\n",
       "      <td>51.0</td>\n",
       "      <td>0</td>\n",
       "      <td>0</td>\n",
       "      <td>Yes</td>\n",
       "      <td>Private</td>\n",
       "      <td>Rural</td>\n",
       "      <td>166.29</td>\n",
       "      <td>25.6</td>\n",
       "      <td>formerly smoked</td>\n",
       "      <td>0</td>\n",
       "    </tr>\n",
       "    <tr>\n",
       "      <th>5109</th>\n",
       "      <td>44679</td>\n",
       "      <td>Female</td>\n",
       "      <td>44.0</td>\n",
       "      <td>0</td>\n",
       "      <td>0</td>\n",
       "      <td>Yes</td>\n",
       "      <td>Govt_job</td>\n",
       "      <td>Urban</td>\n",
       "      <td>85.28</td>\n",
       "      <td>26.2</td>\n",
       "      <td>Unknown</td>\n",
       "      <td>0</td>\n",
       "    </tr>\n",
       "  </tbody>\n",
       "</table>\n",
       "<p>5110 rows × 12 columns</p>\n",
       "</div>"
      ],
      "text/plain": [
       "         id  gender   age  hypertension  heart_disease ever_married  \\\n",
       "0      9046    Male  67.0             0              1          Yes   \n",
       "1     51676  Female  61.0             0              0          Yes   \n",
       "2     31112    Male  80.0             0              1          Yes   \n",
       "3     60182  Female  49.0             0              0          Yes   \n",
       "4      1665  Female  79.0             1              0          Yes   \n",
       "...     ...     ...   ...           ...            ...          ...   \n",
       "5105  18234  Female  80.0             1              0          Yes   \n",
       "5106  44873  Female  81.0             0              0          Yes   \n",
       "5107  19723  Female  35.0             0              0          Yes   \n",
       "5108  37544    Male  51.0             0              0          Yes   \n",
       "5109  44679  Female  44.0             0              0          Yes   \n",
       "\n",
       "          work_type Residence_type  avg_glucose_level   bmi   smoking_status  \\\n",
       "0           Private          Urban             228.69  36.6  formerly smoked   \n",
       "1     Self-employed          Rural             202.21   NaN     never smoked   \n",
       "2           Private          Rural             105.92  32.5     never smoked   \n",
       "3           Private          Urban             171.23  34.4           smokes   \n",
       "4     Self-employed          Rural             174.12  24.0     never smoked   \n",
       "...             ...            ...                ...   ...              ...   \n",
       "5105        Private          Urban              83.75   NaN     never smoked   \n",
       "5106  Self-employed          Urban             125.20  40.0     never smoked   \n",
       "5107  Self-employed          Rural              82.99  30.6     never smoked   \n",
       "5108        Private          Rural             166.29  25.6  formerly smoked   \n",
       "5109       Govt_job          Urban              85.28  26.2          Unknown   \n",
       "\n",
       "      stroke  \n",
       "0          1  \n",
       "1          1  \n",
       "2          1  \n",
       "3          1  \n",
       "4          1  \n",
       "...      ...  \n",
       "5105       0  \n",
       "5106       0  \n",
       "5107       0  \n",
       "5108       0  \n",
       "5109       0  \n",
       "\n",
       "[5110 rows x 12 columns]"
      ]
     },
     "execution_count": 3,
     "metadata": {},
     "output_type": "execute_result"
    }
   ],
   "source": [
    "data"
   ]
  },
  {
   "cell_type": "markdown",
   "id": "66d7c70f",
   "metadata": {},
   "source": [
    "### Рассматриваемые признаки\n",
    "1. id\n",
    "2. Age - возраст пациента;\n",
    "3. Hypertension - синдром повышения систолического артериального давления (САД) от 140 мм рт. ст. и выше, и одновременно или самостоятельно — диастолического АД (ДАД) ≥ 90 мм рт. ст.;\n",
    "4. heart_disease - наличие болезней, связанных с сердцем;\n",
    "5. ever_married - состоял ли человек в браке;\n",
    "6. work_type - тип работы, которой занимался(занимается) пациент;\n",
    "7. Residence_type - тип жилья, в котором жил(живет) пациент;\n",
    "8. avg_glucose_level - уровень глюкозы в крови;\n",
    "9. bmi - индекс массы тела;\n",
    "10. smoking_status - отношение человека к курению;\n",
    "11. stroke - акт инсульта."
   ]
  },
  {
   "cell_type": "markdown",
   "id": "f163d993",
   "metadata": {},
   "source": [
    "## Обработка пропущенных значений"
   ]
  },
  {
   "cell_type": "code",
   "execution_count": 4,
   "id": "5999e792",
   "metadata": {},
   "outputs": [
    {
     "data": {
      "text/plain": [
       "id                     0\n",
       "gender                 0\n",
       "age                    0\n",
       "hypertension           0\n",
       "heart_disease          0\n",
       "ever_married           0\n",
       "work_type              0\n",
       "Residence_type         0\n",
       "avg_glucose_level      0\n",
       "bmi                  201\n",
       "smoking_status         0\n",
       "stroke                 0\n",
       "dtype: int64"
      ]
     },
     "execution_count": 4,
     "metadata": {},
     "output_type": "execute_result"
    }
   ],
   "source": [
    "data.isna().sum()"
   ]
  },
  {
   "cell_type": "code",
   "execution_count": 5,
   "id": "4321e3e5",
   "metadata": {},
   "outputs": [],
   "source": [
    "\n",
    "data0 = data[data['stroke'] == 0]\n",
    "data1 = data[data['stroke'] == 1]\n",
    "data0 = data0[0: data1.shape[0]//3*2]\n",
    "#data0# меньше\n",
    "data = pd.concat((data0, data1), axis = 0)"
   ]
  },
  {
   "cell_type": "markdown",
   "id": "0f9e6366",
   "metadata": {},
   "source": [
    "### Находим категориальные признаки"
   ]
  },
  {
   "cell_type": "code",
   "execution_count": 6,
   "id": "3a21d944",
   "metadata": {},
   "outputs": [
    {
     "name": "stdout",
     "output_type": "stream",
     "text": [
      "['gender', 'ever_married', 'work_type', 'Residence_type', 'smoking_status']\n",
      "['id', 'age', 'hypertension', 'heart_disease', 'avg_glucose_level', 'bmi', 'stroke']\n"
     ]
    },
    {
     "data": {
      "text/plain": [
       "(415, 12)"
      ]
     },
     "execution_count": 6,
     "metadata": {},
     "output_type": "execute_result"
    }
   ],
   "source": [
    "categorical_columns = [c for c in data.columns if data[c].dtype.name == 'object']\n",
    "numerical_columns   = [c for c in data.columns if data[c].dtype.name != 'object']\n",
    "print(categorical_columns)\n",
    "print(numerical_columns)\n",
    "data.shape"
   ]
  },
  {
   "cell_type": "code",
   "execution_count": 7,
   "id": "15398dc0",
   "metadata": {
    "scrolled": true
   },
   "outputs": [
    {
     "data": {
      "text/plain": [
       "(373, 12)"
      ]
     },
     "execution_count": 7,
     "metadata": {},
     "output_type": "execute_result"
    }
   ],
   "source": [
    "data.dropna(axis = 0).shape"
   ]
  },
  {
   "cell_type": "markdown",
   "id": "0f36663b",
   "metadata": {},
   "source": [
    "Есть пропущенные значения. Заполняем медианными значениями"
   ]
  },
  {
   "cell_type": "code",
   "execution_count": 8,
   "id": "986e2c7b",
   "metadata": {
    "scrolled": true
   },
   "outputs": [
    {
     "data": {
      "text/plain": [
       "(415, 12)"
      ]
     },
     "execution_count": 8,
     "metadata": {},
     "output_type": "execute_result"
    }
   ],
   "source": [
    "data = data.fillna(data.median(axis = 0, numeric_only=True), axis = 0)\n",
    "data.shape"
   ]
  },
  {
   "cell_type": "code",
   "execution_count": 9,
   "id": "cdcc258e",
   "metadata": {},
   "outputs": [
    {
     "data": {
      "text/plain": [
       "<AxesSubplot:xlabel='stroke', ylabel='count'>"
      ]
     },
     "execution_count": 9,
     "metadata": {},
     "output_type": "execute_result"
    },
    {
     "data": {
      "image/png": "[encoded data removed]",
      "text/plain": [
       "<Figure size 432x288 with 1 Axes>"
      ]
     },
     "metadata": {
      "needs_background": "light"
     },
     "output_type": "display_data"
    }
   ],
   "source": [
    "sns.countplot(x='stroke', data=data)"
   ]
  },
  {
   "cell_type": "code",
   "execution_count": null,
   "id": "4760892d",
   "metadata": {},
   "outputs": [],
   "source": []
  },
  {
   "cell_type": "markdown",
   "id": "62908cfc",
   "metadata": {},
   "source": [
    "### Векторизируем данные"
   ]
  },
  {
   "cell_type": "code",
   "execution_count": 10,
   "id": "bde64fd1",
   "metadata": {
    "scrolled": true
   },
   "outputs": [],
   "source": [
    "data_describe = data.describe(include = [object])"
   ]
  },
  {
   "cell_type": "markdown",
   "id": "9c3ec391",
   "metadata": {},
   "source": [
    "Векторизация бинарных данных."
   ]
  },
  {
   "cell_type": "code",
   "execution_count": 11,
   "id": "c3ca2001",
   "metadata": {},
   "outputs": [
    {
     "data": {
      "text/plain": [
       "count     415\n",
       "unique      2\n",
       "top         0\n",
       "freq      211\n",
       "Name: Residence_type, dtype: int64"
      ]
     },
     "execution_count": 11,
     "metadata": {},
     "output_type": "execute_result"
    }
   ],
   "source": [
    "\n",
    "data.at[data['ever_married'] == 'No', 'ever_married'] = 0\n",
    "data.at[data['ever_married'] == 'Yes', 'ever_married'] = 1\n",
    "data['ever_married'].describe()\n",
    "\n",
    "data.at[data['Residence_type'] == 'Urban', 'Residence_type'] = 0\n",
    "data.at[data['Residence_type'] == 'Rural', 'Residence_type'] = 1\n",
    "data['Residence_type'].describe()\n",
    "\n",
    "#for c in categorical_columns:\n",
    "#    data[c] = data[c].fillna(data_describe[c]['top'])\n",
    "#data.describe(include = [object])\n",
    "\n",
    "#binary_columns    = [c for c in categorical_columns if data_describe[c]['unique'] == 2]\n",
    "#nonbinary_columns = [c for c in categorical_columns if data_describe[c]['unique'] > 2]\n",
    "\n",
    "#data_nonbinary = pd.get_dummies(data[nonbinary_columns])\n",
    "#print(data_nonbinary.columns)\n",
    "\n",
    "#categorical_columns = [c for c in data.columns if data[c].dtype.name == 'object']\n",
    "#categorical_columns\n"
   ]
  },
  {
   "cell_type": "code",
   "execution_count": 12,
   "id": "6c3408fd",
   "metadata": {},
   "outputs": [],
   "source": [
    "from sklearn import preprocessing\n",
    "data_describe = data.describe(include = [object])\n",
    "number = preprocessing.LabelEncoder()\n",
    "data[\"gender\"] = number.fit_transform(data[\"gender\"])\n",
    "data[\"ever_married\"] = number.fit_transform(data[\"ever_married\"])\n",
    "data[\"work_type\"] = number.fit_transform(data[\"work_type\"])\n",
    "data[\"smoking_status\"] = number.fit_transform(data[\"smoking_status\"])\n",
    "data[\"Residence_type\"] = number.fit_transform(data[\"Residence_type\"])"
   ]
  },
  {
   "cell_type": "code",
   "execution_count": 13,
   "id": "f973ba0e",
   "metadata": {},
   "outputs": [],
   "source": [
    "binary_columns = [c for c in categorical_columns if data_describe[c]['unique'] == 2]\n",
    "binary_columns = binary_columns[:0]\n"
   ]
  },
  {
   "cell_type": "code",
   "execution_count": 14,
   "id": "859ec014",
   "metadata": {},
   "outputs": [
    {
     "data": {
      "text/plain": [
       "array([0, 1], dtype=int64)"
      ]
     },
     "execution_count": 14,
     "metadata": {},
     "output_type": "execute_result"
    }
   ],
   "source": [
    "data['stroke'].unique()"
   ]
  },
  {
   "cell_type": "code",
   "execution_count": 15,
   "id": "96f6dda7",
   "metadata": {},
   "outputs": [
    {
     "data": {
      "text/plain": [
       "count    415.000000\n",
       "mean       0.491566\n",
       "std        0.500532\n",
       "min        0.000000\n",
       "25%        0.000000\n",
       "50%        0.000000\n",
       "75%        1.000000\n",
       "max        1.000000\n",
       "Name: Residence_type, dtype: float64"
      ]
     },
     "execution_count": 15,
     "metadata": {},
     "output_type": "execute_result"
    }
   ],
   "source": [
    "data.at[data['Residence_type'] == 'Urban', 'Residence_type'] = 1\n",
    "data.at[data['Residence_type'] == 'Rural', 'Residence_type'] = 0\n",
    "data['Residence_type'].describe()"
   ]
  },
  {
   "cell_type": "markdown",
   "id": "21d49db1",
   "metadata": {
    "scrolled": true
   },
   "source": [
    "### Нормализация "
   ]
  },
  {
   "cell_type": "code",
   "execution_count": 16,
   "id": "e9094c11",
   "metadata": {},
   "outputs": [
    {
     "name": "stdout",
     "output_type": "stream",
     "text": [
      "['stroke']\n"
     ]
    },
    {
     "data": {
      "text/plain": [
       "['id',\n",
       " 'gender',\n",
       " 'age',\n",
       " 'hypertension',\n",
       " 'heart_disease',\n",
       " 'ever_married',\n",
       " 'work_type',\n",
       " 'Residence_type',\n",
       " 'avg_glucose_level',\n",
       " 'bmi',\n",
       " 'smoking_status']"
      ]
     },
     "execution_count": 16,
     "metadata": {},
     "output_type": "execute_result"
    }
   ],
   "source": [
    "numerical_columns = [c for c in data.columns if data[c].dtype.name != 'object']\n",
    "len(numerical_columns)\n",
    "binary_columns = numerical_columns[11:]\n",
    "print(binary_columns)\n",
    "numerical_columns = numerical_columns[:11]\n",
    "numerical_columns"
   ]
  },
  {
   "cell_type": "code",
   "execution_count": 17,
   "id": "e1e16b19",
   "metadata": {},
   "outputs": [],
   "source": [
    "data_numerical = data[numerical_columns].astype('float32')"
   ]
  },
  {
   "cell_type": "code",
   "execution_count": 18,
   "id": "523a3ec2",
   "metadata": {},
   "outputs": [
    {
     "data": {
      "text/plain": [
       "id                   21571.460938\n",
       "gender                   0.490489\n",
       "age                     20.970556\n",
       "hypertension             0.402281\n",
       "heart_disease            0.342072\n",
       "ever_married             0.396818\n",
       "work_type                0.969304\n",
       "Residence_type           0.500532\n",
       "avg_glucose_level       58.695858\n",
       "bmi                      7.127557\n",
       "smoking_status           1.023261\n",
       "dtype: float32"
      ]
     },
     "execution_count": 18,
     "metadata": {},
     "output_type": "execute_result"
    }
   ],
   "source": [
    "data_numerical.std(axis = 0)"
   ]
  },
  {
   "cell_type": "code",
   "execution_count": 19,
   "id": "429c12ef",
   "metadata": {},
   "outputs": [],
   "source": [
    "data_numerical = (data_numerical - data_numerical.mean(axis = 0))/data_numerical.std(axis = 0)\n",
    "data_numerical = data_numerical.fillna(0.0)"
   ]
  },
  {
   "cell_type": "code",
   "execution_count": null,
   "id": "eb05c6f7",
   "metadata": {},
   "outputs": [],
   "source": []
  },
  {
   "cell_type": "code",
   "execution_count": 20,
   "id": "e317c601",
   "metadata": {},
   "outputs": [
    {
     "data": {
      "text/plain": [
       "array([0, 1], dtype=int64)"
      ]
     },
     "execution_count": 20,
     "metadata": {},
     "output_type": "execute_result"
    }
   ],
   "source": [
    "data['stroke'].unique()"
   ]
  },
  {
   "cell_type": "code",
   "execution_count": null,
   "id": "db4eb781",
   "metadata": {},
   "outputs": [],
   "source": []
  },
  {
   "cell_type": "code",
   "execution_count": 21,
   "id": "81a81f16",
   "metadata": {},
   "outputs": [],
   "source": [
    "#data.at[data['stroke'] == 'ever_married', 'stroke'] = 1\n",
    "#data.at[data['stroke'] == 'Residence_type', 'stroke'] = 0\n",
    "#data['stroke'].describe()"
   ]
  },
  {
   "cell_type": "markdown",
   "id": "7fc43be6",
   "metadata": {},
   "source": [
    "### Соединяем все в матрицу"
   ]
  },
  {
   "cell_type": "code",
   "execution_count": 22,
   "id": "62508598",
   "metadata": {},
   "outputs": [
    {
     "data": {
      "text/plain": [
       "(415, 12)"
      ]
     },
     "execution_count": 22,
     "metadata": {},
     "output_type": "execute_result"
    }
   ],
   "source": [
    "data = pd.concat((data_numerical, data[binary_columns]), axis = 1)\n",
    "data.shape\n"
   ]
  },
  {
   "cell_type": "code",
   "execution_count": 23,
   "id": "eebcdf86",
   "metadata": {},
   "outputs": [
    {
     "data": {
      "text/plain": [
       "id                   0\n",
       "gender               0\n",
       "age                  0\n",
       "hypertension         0\n",
       "heart_disease        0\n",
       "ever_married         0\n",
       "work_type            0\n",
       "Residence_type       0\n",
       "avg_glucose_level    0\n",
       "bmi                  0\n",
       "smoking_status       0\n",
       "stroke               0\n",
       "dtype: int64"
      ]
     },
     "execution_count": 23,
     "metadata": {},
     "output_type": "execute_result"
    }
   ],
   "source": [
    "data.isna().sum()"
   ]
  },
  {
   "cell_type": "markdown",
   "id": "02c389c5",
   "metadata": {},
   "source": [
    "Видно, что пропусков не осталось"
   ]
  },
  {
   "cell_type": "code",
   "execution_count": 24,
   "id": "97d06c2e",
   "metadata": {
    "scrolled": false
   },
   "outputs": [
    {
     "data": {
      "text/html": [
       "<div>\n",
       "<style scoped>\n",
       "    .dataframe tbody tr th:only-of-type {\n",
       "        vertical-align: middle;\n",
       "    }\n",
       "\n",
       "    .dataframe tbody tr th {\n",
       "        vertical-align: top;\n",
       "    }\n",
       "\n",
       "    .dataframe thead th {\n",
       "        text-align: right;\n",
       "    }\n",
       "</style>\n",
       "<table border=\"1\" class=\"dataframe\">\n",
       "  <thead>\n",
       "    <tr style=\"text-align: right;\">\n",
       "      <th></th>\n",
       "      <th>id</th>\n",
       "      <th>gender</th>\n",
       "      <th>age</th>\n",
       "      <th>hypertension</th>\n",
       "      <th>heart_disease</th>\n",
       "      <th>ever_married</th>\n",
       "      <th>work_type</th>\n",
       "      <th>Residence_type</th>\n",
       "      <th>avg_glucose_level</th>\n",
       "      <th>bmi</th>\n",
       "      <th>smoking_status</th>\n",
       "      <th>stroke</th>\n",
       "    </tr>\n",
       "  </thead>\n",
       "  <tbody>\n",
       "    <tr>\n",
       "      <th>249</th>\n",
       "      <td>-0.319097</td>\n",
       "      <td>1.223269</td>\n",
       "      <td>-2.613629</td>\n",
       "      <td>-0.503155</td>\n",
       "      <td>-0.394478</td>\n",
       "      <td>-2.028182</td>\n",
       "      <td>1.991244</td>\n",
       "      <td>1.015786</td>\n",
       "      <td>-0.499688</td>\n",
       "      <td>-1.695506</td>\n",
       "      <td>-1.441175</td>\n",
       "      <td>0</td>\n",
       "    </tr>\n",
       "    <tr>\n",
       "      <th>250</th>\n",
       "      <td>-0.328415</td>\n",
       "      <td>1.223269</td>\n",
       "      <td>0.009096</td>\n",
       "      <td>1.982670</td>\n",
       "      <td>-0.394478</td>\n",
       "      <td>0.491864</td>\n",
       "      <td>-0.072093</td>\n",
       "      <td>-0.982087</td>\n",
       "      <td>-0.621673</td>\n",
       "      <td>1.278865</td>\n",
       "      <td>0.513360</td>\n",
       "      <td>0</td>\n",
       "    </tr>\n",
       "    <tr>\n",
       "      <th>251</th>\n",
       "      <td>-0.974871</td>\n",
       "      <td>-0.815512</td>\n",
       "      <td>-2.375200</td>\n",
       "      <td>-0.503155</td>\n",
       "      <td>-0.394478</td>\n",
       "      <td>-2.028182</td>\n",
       "      <td>-0.072093</td>\n",
       "      <td>-0.982087</td>\n",
       "      <td>-0.231015</td>\n",
       "      <td>-1.751626</td>\n",
       "      <td>-1.441175</td>\n",
       "      <td>0</td>\n",
       "    </tr>\n",
       "    <tr>\n",
       "      <th>252</th>\n",
       "      <td>0.880358</td>\n",
       "      <td>-0.815512</td>\n",
       "      <td>0.581327</td>\n",
       "      <td>-0.503155</td>\n",
       "      <td>-0.394478</td>\n",
       "      <td>0.491864</td>\n",
       "      <td>-0.072093</td>\n",
       "      <td>1.015786</td>\n",
       "      <td>-0.944012</td>\n",
       "      <td>0.815873</td>\n",
       "      <td>-0.463908</td>\n",
       "      <td>0</td>\n",
       "    </tr>\n",
       "    <tr>\n",
       "      <th>253</th>\n",
       "      <td>0.397915</td>\n",
       "      <td>1.223269</td>\n",
       "      <td>-2.089084</td>\n",
       "      <td>-0.503155</td>\n",
       "      <td>-0.394478</td>\n",
       "      <td>-2.028182</td>\n",
       "      <td>-1.103761</td>\n",
       "      <td>1.015786</td>\n",
       "      <td>0.627479</td>\n",
       "      <td>-1.541176</td>\n",
       "      <td>-1.441175</td>\n",
       "      <td>0</td>\n",
       "    </tr>\n",
       "    <tr>\n",
       "      <th>...</th>\n",
       "      <td>...</td>\n",
       "      <td>...</td>\n",
       "      <td>...</td>\n",
       "      <td>...</td>\n",
       "      <td>...</td>\n",
       "      <td>...</td>\n",
       "      <td>...</td>\n",
       "      <td>...</td>\n",
       "      <td>...</td>\n",
       "      <td>...</td>\n",
       "      <td>...</td>\n",
       "      <td>...</td>\n",
       "    </tr>\n",
       "    <tr>\n",
       "      <th>244</th>\n",
       "      <td>-0.918500</td>\n",
       "      <td>1.223269</td>\n",
       "      <td>-0.038590</td>\n",
       "      <td>-0.503155</td>\n",
       "      <td>-0.394478</td>\n",
       "      <td>0.491864</td>\n",
       "      <td>-0.072093</td>\n",
       "      <td>1.015786</td>\n",
       "      <td>-0.672784</td>\n",
       "      <td>0.928114</td>\n",
       "      <td>-1.441175</td>\n",
       "      <td>1</td>\n",
       "    </tr>\n",
       "    <tr>\n",
       "      <th>245</th>\n",
       "      <td>0.561696</td>\n",
       "      <td>-0.815512</td>\n",
       "      <td>-2.089084</td>\n",
       "      <td>-0.503155</td>\n",
       "      <td>-0.394478</td>\n",
       "      <td>-2.028182</td>\n",
       "      <td>1.991244</td>\n",
       "      <td>1.015786</td>\n",
       "      <td>-1.133293</td>\n",
       "      <td>0.114370</td>\n",
       "      <td>-1.441175</td>\n",
       "      <td>1</td>\n",
       "    </tr>\n",
       "    <tr>\n",
       "      <th>246</th>\n",
       "      <td>-0.482090</td>\n",
       "      <td>-0.815512</td>\n",
       "      <td>0.819756</td>\n",
       "      <td>-0.503155</td>\n",
       "      <td>-0.394478</td>\n",
       "      <td>0.491864</td>\n",
       "      <td>0.959576</td>\n",
       "      <td>1.015786</td>\n",
       "      <td>-0.777731</td>\n",
       "      <td>-0.110110</td>\n",
       "      <td>-0.463908</td>\n",
       "      <td>1</td>\n",
       "    </tr>\n",
       "    <tr>\n",
       "      <th>247</th>\n",
       "      <td>-0.161898</td>\n",
       "      <td>1.223269</td>\n",
       "      <td>0.629013</td>\n",
       "      <td>1.982670</td>\n",
       "      <td>-0.394478</td>\n",
       "      <td>0.491864</td>\n",
       "      <td>0.959576</td>\n",
       "      <td>1.015786</td>\n",
       "      <td>-0.624398</td>\n",
       "      <td>-0.152201</td>\n",
       "      <td>-1.441175</td>\n",
       "      <td>1</td>\n",
       "    </tr>\n",
       "    <tr>\n",
       "      <th>248</th>\n",
       "      <td>0.272194</td>\n",
       "      <td>-0.815512</td>\n",
       "      <td>0.962814</td>\n",
       "      <td>-0.503155</td>\n",
       "      <td>-0.394478</td>\n",
       "      <td>0.491864</td>\n",
       "      <td>-0.072093</td>\n",
       "      <td>1.015786</td>\n",
       "      <td>-0.777561</td>\n",
       "      <td>-1.471025</td>\n",
       "      <td>-1.441175</td>\n",
       "      <td>1</td>\n",
       "    </tr>\n",
       "  </tbody>\n",
       "</table>\n",
       "<p>415 rows × 12 columns</p>\n",
       "</div>"
      ],
      "text/plain": [
       "           id    gender       age  hypertension  heart_disease  ever_married  \\\n",
       "249 -0.319097  1.223269 -2.613629     -0.503155      -0.394478     -2.028182   \n",
       "250 -0.328415  1.223269  0.009096      1.982670      -0.394478      0.491864   \n",
       "251 -0.974871 -0.815512 -2.375200     -0.503155      -0.394478     -2.028182   \n",
       "252  0.880358 -0.815512  0.581327     -0.503155      -0.394478      0.491864   \n",
       "253  0.397915  1.223269 -2.089084     -0.503155      -0.394478     -2.028182   \n",
       "..        ...       ...       ...           ...            ...           ...   \n",
       "244 -0.918500  1.223269 -0.038590     -0.503155      -0.394478      0.491864   \n",
       "245  0.561696 -0.815512 -2.089084     -0.503155      -0.394478     -2.028182   \n",
       "246 -0.482090 -0.815512  0.819756     -0.503155      -0.394478      0.491864   \n",
       "247 -0.161898  1.223269  0.629013      1.982670      -0.394478      0.491864   \n",
       "248  0.272194 -0.815512  0.962814     -0.503155      -0.394478      0.491864   \n",
       "\n",
       "     work_type  Residence_type  avg_glucose_level       bmi  smoking_status  \\\n",
       "249   1.991244        1.015786          -0.499688 -1.695506       -1.441175   \n",
       "250  -0.072093       -0.982087          -0.621673  1.278865        0.513360   \n",
       "251  -0.072093       -0.982087          -0.231015 -1.751626       -1.441175   \n",
       "252  -0.072093        1.015786          -0.944012  0.815873       -0.463908   \n",
       "253  -1.103761        1.015786           0.627479 -1.541176       -1.441175   \n",
       "..         ...             ...                ...       ...             ...   \n",
       "244  -0.072093        1.015786          -0.672784  0.928114       -1.441175   \n",
       "245   1.991244        1.015786          -1.133293  0.114370       -1.441175   \n",
       "246   0.959576        1.015786          -0.777731 -0.110110       -0.463908   \n",
       "247   0.959576        1.015786          -0.624398 -0.152201       -1.441175   \n",
       "248  -0.072093        1.015786          -0.777561 -1.471025       -1.441175   \n",
       "\n",
       "     stroke  \n",
       "249       0  \n",
       "250       0  \n",
       "251       0  \n",
       "252       0  \n",
       "253       0  \n",
       "..      ...  \n",
       "244       1  \n",
       "245       1  \n",
       "246       1  \n",
       "247       1  \n",
       "248       1  \n",
       "\n",
       "[415 rows x 12 columns]"
      ]
     },
     "execution_count": 24,
     "metadata": {},
     "output_type": "execute_result"
    }
   ],
   "source": [
    "data"
   ]
  },
  {
   "cell_type": "code",
   "execution_count": 25,
   "id": "da5751b9",
   "metadata": {},
   "outputs": [
    {
     "data": {
      "text/plain": [
       "<AxesSubplot:xlabel='stroke', ylabel='count'>"
      ]
     },
     "execution_count": 25,
     "metadata": {},
     "output_type": "execute_result"
    },
    {
     "data": {
      "image/png": "[encoded data removed]",
      "text/plain": [
       "<Figure size 432x288 with 1 Axes>"
      ]
     },
     "metadata": {
      "needs_background": "light"
     },
     "output_type": "display_data"
    }
   ],
   "source": [
    "sns.countplot(x='stroke', data=data)"
   ]
  },
  {
   "cell_type": "code",
   "execution_count": 26,
   "id": "d426b097",
   "metadata": {},
   "outputs": [],
   "source": [
    "#data_0 = data[data['stroke'] == 4.417948]\n",
    "#data_1 = data[data['stroke'] == -0.226305]\n",
    "#data_0 = data_0[0: data_1.shape[0]*2]\n",
    "#data0# меньше\n",
    "#data = pd.concat((data_0, data_1), axis = 0)"
   ]
  },
  {
   "cell_type": "code",
   "execution_count": 27,
   "id": "0c2713de",
   "metadata": {},
   "outputs": [],
   "source": [
    "#sns.countplot(x='stroke', data=data)"
   ]
  },
  {
   "cell_type": "markdown",
   "id": "259eddfa",
   "metadata": {},
   "source": [
    "## Разбиение данных на обучающую и тестовую выборки"
   ]
  },
  {
   "cell_type": "code",
   "execution_count": 28,
   "id": "e1b1013d",
   "metadata": {},
   "outputs": [],
   "source": [
    "data = data.sample(frac=1)\n",
    "X = data.drop('stroke', axis = 1)\n",
    "y = data['stroke']\n",
    "X = X.to_numpy()\n",
    "y = y.to_numpy(dtype='int32')\n",
    "\n"
   ]
  },
  {
   "cell_type": "code",
   "execution_count": 29,
   "id": "55119f5f",
   "metadata": {},
   "outputs": [
    {
     "data": {
      "text/plain": [
       "(415, 11)"
      ]
     },
     "execution_count": 29,
     "metadata": {},
     "output_type": "execute_result"
    }
   ],
   "source": [
    "X.shape"
   ]
  },
  {
   "cell_type": "code",
   "execution_count": 30,
   "id": "8bf92b5b",
   "metadata": {},
   "outputs": [
    {
     "data": {
      "text/plain": [
       "(415,)"
      ]
     },
     "execution_count": 30,
     "metadata": {},
     "output_type": "execute_result"
    }
   ],
   "source": [
    "y.shape"
   ]
  },
  {
   "cell_type": "code",
   "execution_count": 31,
   "id": "e879930e",
   "metadata": {},
   "outputs": [
    {
     "name": "stdout",
     "output_type": "stream",
     "text": [
      "290 125\n"
     ]
    }
   ],
   "source": [
    "from sklearn.model_selection import train_test_split\n",
    "\n",
    "X_train, X_test, y_train, y_test = train_test_split(X, y, test_size = 0.3, random_state = 42)\n",
    "\n",
    "N_train, _ = X_train.shape\n",
    "N_test,  _ = X_test.shape\n",
    "\n",
    "print(N_train, N_test)"
   ]
  },
  {
   "cell_type": "code",
   "execution_count": 32,
   "id": "fb6b359f",
   "metadata": {},
   "outputs": [
    {
     "data": {
      "text/plain": [
       "array([1, 0, 1, 0, 1, 1, 0, 1, 0, 1, 0, 0, 1, 1, 1, 0, 1, 0, 0, 0, 1, 1,\n",
       "       1, 1, 0, 1, 1, 1, 1, 1, 0, 1, 1, 0, 1, 1, 1, 1, 1, 1, 1, 0, 1, 0,\n",
       "       0, 0, 1, 1, 0, 0, 1, 1, 1, 0, 0, 1, 1, 1, 0, 0, 1, 1, 1, 0, 1, 1,\n",
       "       1, 1, 1, 1, 0, 1, 1, 0, 0, 1, 1, 0, 0, 1, 1, 0, 1, 0, 0, 0, 0, 0,\n",
       "       1, 0, 0, 1, 1, 1, 1, 0, 1, 0, 1, 0, 1, 0, 1, 1, 0, 1, 1, 0, 0, 1,\n",
       "       1, 1, 0, 0, 1, 0, 1, 1, 1, 0, 1, 0, 1, 0, 1])"
      ]
     },
     "execution_count": 32,
     "metadata": {},
     "output_type": "execute_result"
    }
   ],
   "source": [
    "y_test"
   ]
  },
  {
   "cell_type": "code",
   "execution_count": 33,
   "id": "164a476a",
   "metadata": {},
   "outputs": [
    {
     "data": {
      "text/plain": [
       "array([1, 0, 0, 0, 1, 1, 0, 0, 1, 1, 0, 1, 1, 1, 1, 1, 0, 0, 1, 0, 0, 1,\n",
       "       1, 1, 1, 0, 0, 1, 1, 1, 1, 1, 0, 1, 0, 1, 0, 1, 1, 0, 0, 0, 0, 0,\n",
       "       1, 1, 1, 1, 0, 0, 1, 1, 1, 1, 1, 0, 1, 1, 0, 0, 1, 0, 1, 0, 0, 0,\n",
       "       1, 0, 0, 0, 0, 1, 0, 1, 0, 1, 0, 1, 1, 1, 0, 0, 1, 1, 0, 1, 1, 1,\n",
       "       0, 1, 1, 1, 0, 1, 0, 0, 0, 1, 0, 1, 1, 0, 1, 1, 1, 1, 1, 1, 1, 1,\n",
       "       0, 0, 0, 1, 1, 1, 1, 1, 0, 0, 1, 1, 0, 1, 1, 0, 1, 1, 1, 0, 1, 0,\n",
       "       0, 1, 1, 1, 1, 1, 1, 1, 0, 0, 1, 0, 1, 1, 1, 0, 0, 1, 1, 0, 1, 0,\n",
       "       1, 1, 1, 1, 0, 1, 0, 0, 0, 1, 0, 1, 0, 0, 1, 0, 1, 1, 1, 0, 1, 1,\n",
       "       0, 1, 0, 0, 1, 1, 1, 1, 1, 1, 0, 0, 1, 1, 0, 1, 1, 1, 0, 0, 1, 1,\n",
       "       1, 0, 0, 1, 0, 1, 1, 1, 1, 1, 0, 1, 1, 1, 1, 1, 1, 0, 1, 1, 0, 1,\n",
       "       1, 1, 1, 0, 0, 0, 1, 1, 1, 1, 0, 1, 0, 1, 0, 1, 1, 0, 1, 1, 1, 1,\n",
       "       0, 1, 0, 1, 1, 0, 1, 1, 0, 0, 1, 1, 1, 1, 1, 0, 1, 0, 0, 1, 0, 1,\n",
       "       0, 0, 0, 0, 0, 1, 1, 0, 1, 1, 0, 0, 0, 1, 1, 1, 0, 0, 1, 1, 0, 1,\n",
       "       1, 1, 0, 0])"
      ]
     },
     "execution_count": 33,
     "metadata": {},
     "output_type": "execute_result"
    }
   ],
   "source": [
    "y_train"
   ]
  },
  {
   "cell_type": "code",
   "execution_count": 34,
   "id": "c37dd0a5",
   "metadata": {},
   "outputs": [
    {
     "data": {
      "text/plain": [
       "array([0, 1])"
      ]
     },
     "execution_count": 34,
     "metadata": {},
     "output_type": "execute_result"
    }
   ],
   "source": [
    "np.unique(y_test)"
   ]
  },
  {
   "cell_type": "code",
   "execution_count": 35,
   "id": "8f54c723",
   "metadata": {},
   "outputs": [
    {
     "data": {
      "text/plain": [
       "array([0, 1])"
      ]
     },
     "execution_count": 35,
     "metadata": {},
     "output_type": "execute_result"
    }
   ],
   "source": [
    "np.unique(y_train)"
   ]
  },
  {
   "cell_type": "markdown",
   "id": "33b58adb",
   "metadata": {},
   "source": [
    "# Обучаем классификатор"
   ]
  },
  {
   "cell_type": "markdown",
   "id": "14ddfd42",
   "metadata": {},
   "source": [
    "## 1 скрытный слой"
   ]
  },
  {
   "cell_type": "code",
   "execution_count": 36,
   "id": "5498b2c7",
   "metadata": {},
   "outputs": [],
   "source": [
    "from sklearn.neural_network import MLPClassifier"
   ]
  },
  {
   "cell_type": "code",
   "execution_count": 37,
   "id": "951ea7a7",
   "metadata": {},
   "outputs": [],
   "source": [
    "mlp_model = MLPClassifier(hidden_layer_sizes = (50,),\n",
    "                          solver = 'adam', \n",
    "                          activation = 'logistic',\n",
    "                          max_iter=2000,\n",
    "                          random_state = 42,\n",
    "                          verbose=1,\n",
    "                          tol=1e-4)"
   ]
  },
  {
   "cell_type": "code",
   "execution_count": 38,
   "id": "be703106",
   "metadata": {},
   "outputs": [
    {
     "name": "stdout",
     "output_type": "stream",
     "text": [
      "Iteration 1, loss = 0.88527586\n",
      "Iteration 2, loss = 0.86643256\n",
      "Iteration 3, loss = 0.84949336\n",
      "Iteration 4, loss = 0.83298361\n",
      "Iteration 5, loss = 0.81677188\n",
      "Iteration 6, loss = 0.80143711\n",
      "Iteration 7, loss = 0.78670110\n",
      "Iteration 8, loss = 0.77343420\n",
      "Iteration 9, loss = 0.76083450\n",
      "Iteration 10, loss = 0.74843083\n",
      "Iteration 11, loss = 0.73712736\n",
      "Iteration 12, loss = 0.72664106\n",
      "Iteration 13, loss = 0.71739730\n",
      "Iteration 14, loss = 0.70812524\n",
      "Iteration 15, loss = 0.69995994\n",
      "Iteration 16, loss = 0.69290758\n",
      "Iteration 17, loss = 0.68573769\n",
      "Iteration 18, loss = 0.67944175\n",
      "Iteration 19, loss = 0.67423147\n",
      "Iteration 20, loss = 0.66905878\n",
      "Iteration 21, loss = 0.66422269\n",
      "Iteration 22, loss = 0.66009978\n",
      "Iteration 23, loss = 0.65635048\n",
      "Iteration 24, loss = 0.65295503\n",
      "Iteration 25, loss = 0.65002202\n",
      "Iteration 26, loss = 0.64719351\n",
      "Iteration 27, loss = 0.64465582\n",
      "Iteration 28, loss = 0.64269848\n",
      "Iteration 29, loss = 0.64034614\n",
      "Iteration 30, loss = 0.63854495\n",
      "Iteration 31, loss = 0.63679999\n",
      "Iteration 32, loss = 0.63519271\n",
      "Iteration 33, loss = 0.63373284\n",
      "Iteration 34, loss = 0.63241839\n",
      "Iteration 35, loss = 0.63117749\n",
      "Iteration 36, loss = 0.62974679\n",
      "Iteration 37, loss = 0.62855075\n",
      "Iteration 38, loss = 0.62737975\n",
      "Iteration 39, loss = 0.62615538\n",
      "Iteration 40, loss = 0.62507620\n",
      "Iteration 41, loss = 0.62390353\n",
      "Iteration 42, loss = 0.62288206\n",
      "Iteration 43, loss = 0.62167225\n",
      "Iteration 44, loss = 0.62057900\n",
      "Iteration 45, loss = 0.61959856\n",
      "Iteration 46, loss = 0.61848229\n",
      "Iteration 47, loss = 0.61741893\n",
      "Iteration 48, loss = 0.61640593\n",
      "Iteration 49, loss = 0.61528628\n",
      "Iteration 50, loss = 0.61428497\n",
      "Iteration 51, loss = 0.61331233\n",
      "Iteration 52, loss = 0.61225236\n",
      "Iteration 53, loss = 0.61125343\n",
      "Iteration 54, loss = 0.61028624\n",
      "Iteration 55, loss = 0.60929243\n",
      "Iteration 56, loss = 0.60831559\n",
      "Iteration 57, loss = 0.60739026\n",
      "Iteration 58, loss = 0.60642912\n",
      "Iteration 59, loss = 0.60554923\n",
      "Iteration 60, loss = 0.60453446\n",
      "Iteration 61, loss = 0.60369984\n",
      "Iteration 62, loss = 0.60277269\n",
      "Iteration 63, loss = 0.60182472\n",
      "Iteration 64, loss = 0.60093893\n",
      "Iteration 65, loss = 0.60002165\n",
      "Iteration 66, loss = 0.59912117\n",
      "Iteration 67, loss = 0.59820688\n",
      "Iteration 68, loss = 0.59734424\n",
      "Iteration 69, loss = 0.59643022\n",
      "Iteration 70, loss = 0.59557497\n",
      "Iteration 71, loss = 0.59466394\n",
      "Iteration 72, loss = 0.59376993\n",
      "Iteration 73, loss = 0.59292877\n",
      "Iteration 74, loss = 0.59205925\n",
      "Iteration 75, loss = 0.59124085\n",
      "Iteration 76, loss = 0.59034127\n",
      "Iteration 77, loss = 0.58957443\n",
      "Iteration 78, loss = 0.58870990\n",
      "Iteration 79, loss = 0.58787869\n",
      "Iteration 80, loss = 0.58708894\n",
      "Iteration 81, loss = 0.58633190\n",
      "Iteration 82, loss = 0.58550838\n",
      "Iteration 83, loss = 0.58473415\n",
      "Iteration 84, loss = 0.58387355\n",
      "Iteration 85, loss = 0.58310156\n",
      "Iteration 86, loss = 0.58229252\n",
      "Iteration 87, loss = 0.58153855\n",
      "Iteration 88, loss = 0.58067783\n",
      "Iteration 89, loss = 0.58002588\n",
      "Iteration 90, loss = 0.57921334\n",
      "Iteration 91, loss = 0.57840290\n",
      "Iteration 92, loss = 0.57767792\n",
      "Iteration 93, loss = 0.57697535\n",
      "Iteration 94, loss = 0.57618604\n",
      "Iteration 95, loss = 0.57543638\n",
      "Iteration 96, loss = 0.57476820\n",
      "Iteration 97, loss = 0.57394473\n",
      "Iteration 98, loss = 0.57326153\n",
      "Iteration 99, loss = 0.57252644\n",
      "Iteration 100, loss = 0.57175520\n",
      "Iteration 101, loss = 0.57105879\n",
      "Iteration 102, loss = 0.57030878\n",
      "Iteration 103, loss = 0.56959414\n",
      "Iteration 104, loss = 0.56888366\n",
      "Iteration 105, loss = 0.56821334\n",
      "Iteration 106, loss = 0.56749685\n",
      "Iteration 107, loss = 0.56682621\n",
      "Iteration 108, loss = 0.56615690\n",
      "Iteration 109, loss = 0.56545110\n",
      "Iteration 110, loss = 0.56478434\n",
      "Iteration 111, loss = 0.56409084\n",
      "Iteration 112, loss = 0.56339076\n",
      "Iteration 113, loss = 0.56273066\n",
      "Iteration 114, loss = 0.56208788\n",
      "Iteration 115, loss = 0.56143598\n",
      "Iteration 116, loss = 0.56075909\n",
      "Iteration 117, loss = 0.56009059\n",
      "Iteration 118, loss = 0.55945862\n",
      "Iteration 119, loss = 0.55879724\n",
      "Iteration 120, loss = 0.55816068\n",
      "Iteration 121, loss = 0.55754697\n",
      "Iteration 122, loss = 0.55690856\n",
      "Iteration 123, loss = 0.55626871\n",
      "Iteration 124, loss = 0.55571241\n",
      "Iteration 125, loss = 0.55504353\n",
      "Iteration 126, loss = 0.55444666\n",
      "Iteration 127, loss = 0.55380745\n",
      "Iteration 128, loss = 0.55319612\n",
      "Iteration 129, loss = 0.55264889\n",
      "Iteration 130, loss = 0.55201714\n",
      "Iteration 131, loss = 0.55144367\n",
      "Iteration 132, loss = 0.55083544\n",
      "Iteration 133, loss = 0.55022382\n",
      "Iteration 134, loss = 0.54963157\n",
      "Iteration 135, loss = 0.54900421\n",
      "Iteration 136, loss = 0.54843769\n",
      "Iteration 137, loss = 0.54779614\n",
      "Iteration 138, loss = 0.54722549\n",
      "Iteration 139, loss = 0.54661339\n",
      "Iteration 140, loss = 0.54605239\n",
      "Iteration 141, loss = 0.54544289\n",
      "Iteration 142, loss = 0.54484711\n",
      "Iteration 143, loss = 0.54429917\n",
      "Iteration 144, loss = 0.54370652\n",
      "Iteration 145, loss = 0.54313593\n",
      "Iteration 146, loss = 0.54258667\n",
      "Iteration 147, loss = 0.54204458\n",
      "Iteration 148, loss = 0.54147274\n",
      "Iteration 149, loss = 0.54092441\n",
      "Iteration 150, loss = 0.54040948\n",
      "Iteration 151, loss = 0.53988536\n",
      "Iteration 152, loss = 0.53937015\n",
      "Iteration 153, loss = 0.53883602\n",
      "Iteration 154, loss = 0.53831420\n",
      "Iteration 155, loss = 0.53780670\n",
      "Iteration 156, loss = 0.53732156\n",
      "Iteration 157, loss = 0.53676393\n",
      "Iteration 158, loss = 0.53626240\n",
      "Iteration 159, loss = 0.53574869\n",
      "Iteration 160, loss = 0.53526377\n",
      "Iteration 161, loss = 0.53469286\n",
      "Iteration 162, loss = 0.53425179\n",
      "Iteration 163, loss = 0.53369334\n",
      "Iteration 164, loss = 0.53324203\n",
      "Iteration 165, loss = 0.53272913\n",
      "Iteration 166, loss = 0.53226536\n",
      "Iteration 167, loss = 0.53174999\n",
      "Iteration 168, loss = 0.53122003\n",
      "Iteration 169, loss = 0.53078718\n",
      "Iteration 170, loss = 0.53030427\n",
      "Iteration 171, loss = 0.52981584\n",
      "Iteration 172, loss = 0.52932824\n",
      "Iteration 173, loss = 0.52887108\n",
      "Iteration 174, loss = 0.52838617\n",
      "Iteration 175, loss = 0.52795441\n",
      "Iteration 176, loss = 0.52750279\n",
      "Iteration 177, loss = 0.52705244\n",
      "Iteration 178, loss = 0.52659017\n",
      "Iteration 179, loss = 0.52610671\n",
      "Iteration 180, loss = 0.52562770\n",
      "Iteration 181, loss = 0.52519132\n",
      "Iteration 182, loss = 0.52477141\n",
      "Iteration 183, loss = 0.52424700\n",
      "Iteration 184, loss = 0.52382811\n",
      "Iteration 185, loss = 0.52338060\n",
      "Iteration 186, loss = 0.52293639\n",
      "Iteration 187, loss = 0.52247449\n",
      "Iteration 188, loss = 0.52203963\n",
      "Iteration 189, loss = 0.52174403\n",
      "Iteration 190, loss = 0.52120774\n",
      "Iteration 191, loss = 0.52085427\n",
      "Iteration 192, loss = 0.52032945\n",
      "Iteration 193, loss = 0.51994535\n",
      "Iteration 194, loss = 0.51946202\n",
      "Iteration 195, loss = 0.51900999\n",
      "Iteration 196, loss = 0.51867208\n",
      "Iteration 197, loss = 0.51823144\n",
      "Iteration 198, loss = 0.51779595\n",
      "Iteration 199, loss = 0.51741194\n",
      "Iteration 200, loss = 0.51701281\n",
      "Iteration 201, loss = 0.51660991\n",
      "Iteration 202, loss = 0.51627870\n",
      "Iteration 203, loss = 0.51580028\n",
      "Iteration 204, loss = 0.51544809\n",
      "Iteration 205, loss = 0.51510055\n",
      "Iteration 206, loss = 0.51469135\n",
      "Iteration 207, loss = 0.51435393\n",
      "Iteration 208, loss = 0.51396468\n",
      "Iteration 209, loss = 0.51358681\n",
      "Iteration 210, loss = 0.51321178\n",
      "Iteration 211, loss = 0.51277957\n",
      "Iteration 212, loss = 0.51240186\n",
      "Iteration 213, loss = 0.51194262\n",
      "Iteration 214, loss = 0.51154874\n",
      "Iteration 215, loss = 0.51113556\n",
      "Iteration 216, loss = 0.51071973\n",
      "Iteration 217, loss = 0.51044367\n",
      "Iteration 218, loss = 0.51001410\n",
      "Iteration 219, loss = 0.50972298\n",
      "Iteration 220, loss = 0.50939182\n",
      "Iteration 221, loss = 0.50895214\n",
      "Iteration 222, loss = 0.50860984\n",
      "Iteration 223, loss = 0.50826613\n",
      "Iteration 224, loss = 0.50789255\n",
      "Iteration 225, loss = 0.50747514\n",
      "Iteration 226, loss = 0.50716274\n",
      "Iteration 227, loss = 0.50680663\n",
      "Iteration 228, loss = 0.50641767\n",
      "Iteration 229, loss = 0.50604318\n",
      "Iteration 230, loss = 0.50574421\n",
      "Iteration 231, loss = 0.50537760\n",
      "Iteration 232, loss = 0.50514774\n",
      "Iteration 233, loss = 0.50470369\n",
      "Iteration 234, loss = 0.50441217\n",
      "Iteration 235, loss = 0.50403375\n",
      "Iteration 236, loss = 0.50367863\n",
      "Iteration 237, loss = 0.50342123\n",
      "Iteration 238, loss = 0.50304886\n",
      "Iteration 239, loss = 0.50269496\n",
      "Iteration 240, loss = 0.50237585\n",
      "Iteration 241, loss = 0.50202576\n",
      "Iteration 242, loss = 0.50169161\n",
      "Iteration 243, loss = 0.50139926\n",
      "Iteration 244, loss = 0.50102628\n",
      "Iteration 245, loss = 0.50080153\n",
      "Iteration 246, loss = 0.50050703\n",
      "Iteration 247, loss = 0.50016104\n",
      "Iteration 248, loss = 0.49983079\n",
      "Iteration 249, loss = 0.49953086\n",
      "Iteration 250, loss = 0.49921986\n",
      "Iteration 251, loss = 0.49888120\n",
      "Iteration 252, loss = 0.49863470\n",
      "Iteration 253, loss = 0.49829430\n",
      "Iteration 254, loss = 0.49799611\n",
      "Iteration 255, loss = 0.49768836\n",
      "Iteration 256, loss = 0.49740719\n",
      "Iteration 257, loss = 0.49711389\n",
      "Iteration 258, loss = 0.49686867\n",
      "Iteration 259, loss = 0.49649831\n",
      "Iteration 260, loss = 0.49621629\n",
      "Iteration 261, loss = 0.49593653\n",
      "Iteration 262, loss = 0.49566127\n",
      "Iteration 263, loss = 0.49534756\n",
      "Iteration 264, loss = 0.49507895\n",
      "Iteration 265, loss = 0.49483677\n",
      "Iteration 266, loss = 0.49450798\n",
      "Iteration 267, loss = 0.49433517\n",
      "Iteration 268, loss = 0.49401660\n",
      "Iteration 269, loss = 0.49380956\n",
      "Iteration 270, loss = 0.49349066\n",
      "Iteration 271, loss = 0.49326857\n",
      "Iteration 272, loss = 0.49302131\n",
      "Iteration 273, loss = 0.49275670\n",
      "Iteration 274, loss = 0.49245803\n",
      "Iteration 275, loss = 0.49220172\n",
      "Iteration 276, loss = 0.49195725\n",
      "Iteration 277, loss = 0.49166714\n",
      "Iteration 278, loss = 0.49145433\n",
      "Iteration 279, loss = 0.49118650\n",
      "Iteration 280, loss = 0.49093945\n",
      "Iteration 281, loss = 0.49067720\n",
      "Iteration 282, loss = 0.49040749\n",
      "Iteration 283, loss = 0.49023297\n",
      "Iteration 284, loss = 0.48993282\n",
      "Iteration 285, loss = 0.48968390\n",
      "Iteration 286, loss = 0.48948304\n",
      "Iteration 287, loss = 0.48920839\n",
      "Iteration 288, loss = 0.48897387\n",
      "Iteration 289, loss = 0.48872665\n",
      "Iteration 290, loss = 0.48851669\n",
      "Iteration 291, loss = 0.48829509\n"
     ]
    },
    {
     "name": "stdout",
     "output_type": "stream",
     "text": [
      "Iteration 292, loss = 0.48810493\n",
      "Iteration 293, loss = 0.48790584\n",
      "Iteration 294, loss = 0.48769633\n",
      "Iteration 295, loss = 0.48750140\n",
      "Iteration 296, loss = 0.48728139\n",
      "Iteration 297, loss = 0.48706262\n",
      "Iteration 298, loss = 0.48687869\n",
      "Iteration 299, loss = 0.48665000\n",
      "Iteration 300, loss = 0.48643217\n",
      "Iteration 301, loss = 0.48630217\n",
      "Iteration 302, loss = 0.48608385\n",
      "Iteration 303, loss = 0.48589709\n",
      "Iteration 304, loss = 0.48574734\n",
      "Iteration 305, loss = 0.48563004\n",
      "Iteration 306, loss = 0.48541786\n",
      "Iteration 307, loss = 0.48526054\n",
      "Iteration 308, loss = 0.48506930\n",
      "Iteration 309, loss = 0.48490728\n",
      "Iteration 310, loss = 0.48466896\n",
      "Iteration 311, loss = 0.48445144\n",
      "Iteration 312, loss = 0.48432610\n",
      "Iteration 313, loss = 0.48408873\n",
      "Iteration 314, loss = 0.48389309\n",
      "Iteration 315, loss = 0.48372065\n",
      "Iteration 316, loss = 0.48351856\n",
      "Iteration 317, loss = 0.48339602\n",
      "Iteration 318, loss = 0.48319360\n",
      "Iteration 319, loss = 0.48305909\n",
      "Iteration 320, loss = 0.48287886\n",
      "Iteration 321, loss = 0.48269947\n",
      "Iteration 322, loss = 0.48256709\n",
      "Iteration 323, loss = 0.48241387\n",
      "Iteration 324, loss = 0.48223281\n",
      "Iteration 325, loss = 0.48209480\n",
      "Iteration 326, loss = 0.48196269\n",
      "Iteration 327, loss = 0.48181564\n",
      "Iteration 328, loss = 0.48167976\n",
      "Iteration 329, loss = 0.48151762\n",
      "Iteration 330, loss = 0.48145244\n",
      "Iteration 331, loss = 0.48134956\n",
      "Iteration 332, loss = 0.48113349\n",
      "Iteration 333, loss = 0.48102127\n",
      "Iteration 334, loss = 0.48088442\n",
      "Iteration 335, loss = 0.48077694\n",
      "Iteration 336, loss = 0.48064282\n",
      "Iteration 337, loss = 0.48054046\n",
      "Iteration 338, loss = 0.48046666\n",
      "Iteration 339, loss = 0.48047368\n",
      "Iteration 340, loss = 0.48026968\n",
      "Iteration 341, loss = 0.48017279\n",
      "Iteration 342, loss = 0.48004366\n",
      "Iteration 343, loss = 0.47989924\n",
      "Iteration 344, loss = 0.47972631\n",
      "Iteration 345, loss = 0.47963035\n",
      "Iteration 346, loss = 0.47950644\n",
      "Iteration 347, loss = 0.47933671\n",
      "Iteration 348, loss = 0.47935598\n",
      "Iteration 349, loss = 0.47913347\n",
      "Iteration 350, loss = 0.47903614\n",
      "Iteration 351, loss = 0.47895172\n",
      "Iteration 352, loss = 0.47880914\n",
      "Iteration 353, loss = 0.47873206\n",
      "Iteration 354, loss = 0.47862392\n",
      "Iteration 355, loss = 0.47848886\n",
      "Iteration 356, loss = 0.47840626\n",
      "Iteration 357, loss = 0.47841108\n",
      "Iteration 358, loss = 0.47828183\n",
      "Iteration 359, loss = 0.47822243\n",
      "Iteration 360, loss = 0.47810087\n",
      "Iteration 361, loss = 0.47805461\n",
      "Iteration 362, loss = 0.47796343\n",
      "Iteration 363, loss = 0.47791455\n",
      "Iteration 364, loss = 0.47775610\n",
      "Iteration 365, loss = 0.47765321\n",
      "Iteration 366, loss = 0.47748511\n",
      "Iteration 367, loss = 0.47740685\n",
      "Iteration 368, loss = 0.47735263\n",
      "Iteration 369, loss = 0.47723231\n",
      "Iteration 370, loss = 0.47720351\n",
      "Iteration 371, loss = 0.47710911\n",
      "Iteration 372, loss = 0.47703241\n",
      "Iteration 373, loss = 0.47697227\n",
      "Iteration 374, loss = 0.47691899\n",
      "Iteration 375, loss = 0.47684472\n",
      "Iteration 376, loss = 0.47673973\n",
      "Iteration 377, loss = 0.47663983\n",
      "Iteration 378, loss = 0.47658350\n",
      "Iteration 379, loss = 0.47647853\n",
      "Iteration 380, loss = 0.47639322\n",
      "Iteration 381, loss = 0.47632091\n",
      "Iteration 382, loss = 0.47620980\n",
      "Iteration 383, loss = 0.47613350\n",
      "Iteration 384, loss = 0.47605374\n",
      "Iteration 385, loss = 0.47604201\n",
      "Iteration 386, loss = 0.47594632\n",
      "Iteration 387, loss = 0.47587611\n",
      "Iteration 388, loss = 0.47582201\n",
      "Iteration 389, loss = 0.47573085\n",
      "Iteration 390, loss = 0.47568361\n",
      "Iteration 391, loss = 0.47562135\n",
      "Iteration 392, loss = 0.47559600\n",
      "Iteration 393, loss = 0.47549248\n",
      "Iteration 394, loss = 0.47543375\n",
      "Iteration 395, loss = 0.47538048\n",
      "Iteration 396, loss = 0.47539896\n",
      "Iteration 397, loss = 0.47532994\n",
      "Iteration 398, loss = 0.47519195\n",
      "Iteration 399, loss = 0.47517708\n",
      "Iteration 400, loss = 0.47512369\n",
      "Iteration 401, loss = 0.47502352\n",
      "Iteration 402, loss = 0.47499584\n",
      "Iteration 403, loss = 0.47493958\n",
      "Iteration 404, loss = 0.47487864\n",
      "Iteration 405, loss = 0.47476831\n",
      "Iteration 406, loss = 0.47484091\n",
      "Iteration 407, loss = 0.47482362\n",
      "Iteration 408, loss = 0.47466846\n",
      "Iteration 409, loss = 0.47460323\n",
      "Iteration 410, loss = 0.47456252\n",
      "Iteration 411, loss = 0.47453007\n",
      "Iteration 412, loss = 0.47445468\n",
      "Iteration 413, loss = 0.47444268\n",
      "Iteration 414, loss = 0.47435671\n",
      "Iteration 415, loss = 0.47432169\n",
      "Iteration 416, loss = 0.47426368\n",
      "Training loss did not improve more than tol=0.000100 for 10 consecutive epochs. Stopping.\n",
      "Wall time: 1.62 s\n"
     ]
    },
    {
     "data": {
      "text/plain": [
       "MLPClassifier(activation='logistic', hidden_layer_sizes=(50,), max_iter=2000,\n",
       "              random_state=42, verbose=1)"
      ]
     },
     "execution_count": 38,
     "metadata": {},
     "output_type": "execute_result"
    }
   ],
   "source": [
    "%%time\n",
    "mlp_model.fit(X_train, y_train)"
   ]
  },
  {
   "cell_type": "markdown",
   "id": "a786c2eb",
   "metadata": {},
   "source": [
    "Ошибки на тестовой выборке"
   ]
  },
  {
   "cell_type": "code",
   "execution_count": 39,
   "id": "86811c3b",
   "metadata": {},
   "outputs": [
    {
     "data": {
      "text/plain": [
       "0.256"
      ]
     },
     "execution_count": 39,
     "metadata": {},
     "output_type": "execute_result"
    }
   ],
   "source": [
    "y_test_pred = mlp_model.predict(X_test)\n",
    "err_test  = np.mean(y_test  != y_test_pred)\n",
    "err_test"
   ]
  },
  {
   "cell_type": "markdown",
   "id": "d357495c",
   "metadata": {},
   "source": [
    "Ошибки на тренировочной выборке"
   ]
  },
  {
   "cell_type": "code",
   "execution_count": 40,
   "id": "65b4080e",
   "metadata": {},
   "outputs": [
    {
     "data": {
      "text/plain": [
       "0.21724137931034482"
      ]
     },
     "execution_count": 40,
     "metadata": {},
     "output_type": "execute_result"
    }
   ],
   "source": [
    "y_train_pred = mlp_model.predict(X_train)\n",
    "err_train  = np.mean(y_train  != y_train_pred)\n",
    "err_train"
   ]
  },
  {
   "cell_type": "markdown",
   "id": "64a556d4",
   "metadata": {},
   "source": [
    "## 2 скрытых слоя"
   ]
  },
  {
   "cell_type": "code",
   "execution_count": 41,
   "id": "299dac33",
   "metadata": {},
   "outputs": [],
   "source": [
    "from sklearn.neural_network import MLPClassifier\n",
    "\n",
    "mlp_model = MLPClassifier(hidden_layer_sizes = (50, 12),\n",
    "                          solver = 'adam', \n",
    "                          activation = 'logistic',\n",
    "                          max_iter=2000,\n",
    "                          random_state = 42,\n",
    "                          verbose=1,\n",
    "                          tol=1e-4)"
   ]
  },
  {
   "cell_type": "code",
   "execution_count": 42,
   "id": "e123a883",
   "metadata": {},
   "outputs": [
    {
     "name": "stdout",
     "output_type": "stream",
     "text": [
      "Iteration 1, loss = 0.70008737\n",
      "Iteration 2, loss = 0.69468045\n",
      "Iteration 3, loss = 0.68974213\n",
      "Iteration 4, loss = 0.68604120\n",
      "Iteration 5, loss = 0.68134746\n",
      "Iteration 6, loss = 0.67900745\n",
      "Iteration 7, loss = 0.67647883\n",
      "Iteration 8, loss = 0.67423540\n",
      "Iteration 9, loss = 0.67216206\n",
      "Iteration 10, loss = 0.67060658\n",
      "Iteration 11, loss = 0.66969757\n",
      "Iteration 12, loss = 0.66837354\n",
      "Iteration 13, loss = 0.66755378\n",
      "Iteration 14, loss = 0.66684301\n",
      "Iteration 15, loss = 0.66632303\n",
      "Iteration 16, loss = 0.66592918\n",
      "Iteration 17, loss = 0.66537729\n",
      "Iteration 18, loss = 0.66485267\n",
      "Iteration 19, loss = 0.66437881\n",
      "Iteration 20, loss = 0.66388275\n",
      "Iteration 21, loss = 0.66326566\n",
      "Iteration 22, loss = 0.66263746\n",
      "Iteration 23, loss = 0.66202924\n",
      "Iteration 24, loss = 0.66129695\n",
      "Iteration 25, loss = 0.66079756\n",
      "Iteration 26, loss = 0.66014863\n",
      "Iteration 27, loss = 0.65940925\n",
      "Iteration 28, loss = 0.65878345\n",
      "Iteration 29, loss = 0.65810482\n",
      "Iteration 30, loss = 0.65738928\n",
      "Iteration 31, loss = 0.65667529\n",
      "Iteration 32, loss = 0.65591219\n",
      "Iteration 33, loss = 0.65519185\n",
      "Iteration 34, loss = 0.65441542\n",
      "Iteration 35, loss = 0.65357634\n",
      "Iteration 36, loss = 0.65289558\n",
      "Iteration 37, loss = 0.65206369\n",
      "Iteration 38, loss = 0.65118825\n",
      "Iteration 39, loss = 0.65028866\n",
      "Iteration 40, loss = 0.64938741\n",
      "Iteration 41, loss = 0.64848370\n",
      "Iteration 42, loss = 0.64742591\n",
      "Iteration 43, loss = 0.64645845\n",
      "Iteration 44, loss = 0.64539590\n",
      "Iteration 45, loss = 0.64428392\n",
      "Iteration 46, loss = 0.64322075\n",
      "Iteration 47, loss = 0.64211487\n",
      "Iteration 48, loss = 0.64092430\n",
      "Iteration 49, loss = 0.63979253\n",
      "Iteration 50, loss = 0.63847353\n",
      "Iteration 51, loss = 0.63731688\n",
      "Iteration 52, loss = 0.63605144\n",
      "Iteration 53, loss = 0.63471975\n",
      "Iteration 54, loss = 0.63339804\n",
      "Iteration 55, loss = 0.63201811\n",
      "Iteration 56, loss = 0.63073545\n",
      "Iteration 57, loss = 0.62928090\n",
      "Iteration 58, loss = 0.62784538\n",
      "Iteration 59, loss = 0.62640920\n",
      "Iteration 60, loss = 0.62496069\n",
      "Iteration 61, loss = 0.62340438\n",
      "Iteration 62, loss = 0.62202386\n",
      "Iteration 63, loss = 0.62040769\n",
      "Iteration 64, loss = 0.61876459\n",
      "Iteration 65, loss = 0.61727298\n",
      "Iteration 66, loss = 0.61569105\n",
      "Iteration 67, loss = 0.61414408\n",
      "Iteration 68, loss = 0.61252929\n",
      "Iteration 69, loss = 0.61091764\n",
      "Iteration 70, loss = 0.60942071\n",
      "Iteration 71, loss = 0.60775217\n",
      "Iteration 72, loss = 0.60602417\n",
      "Iteration 73, loss = 0.60445412\n",
      "Iteration 74, loss = 0.60288903\n",
      "Iteration 75, loss = 0.60112188\n",
      "Iteration 76, loss = 0.59939097\n",
      "Iteration 77, loss = 0.59770282\n",
      "Iteration 78, loss = 0.59608952\n",
      "Iteration 79, loss = 0.59445806\n",
      "Iteration 80, loss = 0.59275385\n",
      "Iteration 81, loss = 0.59113058\n",
      "Iteration 82, loss = 0.58940749\n",
      "Iteration 83, loss = 0.58780108\n",
      "Iteration 84, loss = 0.58609220\n",
      "Iteration 85, loss = 0.58448590\n",
      "Iteration 86, loss = 0.58292956\n",
      "Iteration 87, loss = 0.58126537\n",
      "Iteration 88, loss = 0.57968213\n",
      "Iteration 89, loss = 0.57793551\n",
      "Iteration 90, loss = 0.57638256\n",
      "Iteration 91, loss = 0.57492569\n",
      "Iteration 92, loss = 0.57322052\n",
      "Iteration 93, loss = 0.57179759\n",
      "Iteration 94, loss = 0.57014621\n",
      "Iteration 95, loss = 0.56880990\n",
      "Iteration 96, loss = 0.56723082\n",
      "Iteration 97, loss = 0.56581686\n",
      "Iteration 98, loss = 0.56427998\n",
      "Iteration 99, loss = 0.56292616\n",
      "Iteration 100, loss = 0.56160945\n",
      "Iteration 101, loss = 0.56022163\n",
      "Iteration 102, loss = 0.55878353\n",
      "Iteration 103, loss = 0.55753412\n",
      "Iteration 104, loss = 0.55614765\n",
      "Iteration 105, loss = 0.55483753\n",
      "Iteration 106, loss = 0.55359518\n",
      "Iteration 107, loss = 0.55224640\n",
      "Iteration 108, loss = 0.55095799\n",
      "Iteration 109, loss = 0.54970052\n",
      "Iteration 110, loss = 0.54851762\n",
      "Iteration 111, loss = 0.54720013\n",
      "Iteration 112, loss = 0.54597519\n",
      "Iteration 113, loss = 0.54491982\n",
      "Iteration 114, loss = 0.54378813\n",
      "Iteration 115, loss = 0.54264345\n",
      "Iteration 116, loss = 0.54143971\n",
      "Iteration 117, loss = 0.54034290\n",
      "Iteration 118, loss = 0.53911271\n",
      "Iteration 119, loss = 0.53805241\n",
      "Iteration 120, loss = 0.53688500\n",
      "Iteration 121, loss = 0.53572408\n",
      "Iteration 122, loss = 0.53473356\n",
      "Iteration 123, loss = 0.53361873\n",
      "Iteration 124, loss = 0.53250456\n",
      "Iteration 125, loss = 0.53146056\n",
      "Iteration 126, loss = 0.53044390\n",
      "Iteration 127, loss = 0.52944287\n",
      "Iteration 128, loss = 0.52847120\n",
      "Iteration 129, loss = 0.52743839\n",
      "Iteration 130, loss = 0.52641906\n",
      "Iteration 131, loss = 0.52546839\n",
      "Iteration 132, loss = 0.52436408\n",
      "Iteration 133, loss = 0.52339107\n",
      "Iteration 134, loss = 0.52235120\n",
      "Iteration 135, loss = 0.52137278\n",
      "Iteration 136, loss = 0.52043325\n",
      "Iteration 137, loss = 0.51948746\n",
      "Iteration 138, loss = 0.51850691\n",
      "Iteration 139, loss = 0.51759622\n",
      "Iteration 140, loss = 0.51680351\n",
      "Iteration 141, loss = 0.51576037\n",
      "Iteration 142, loss = 0.51484502\n",
      "Iteration 143, loss = 0.51404955\n",
      "Iteration 144, loss = 0.51330538\n",
      "Iteration 145, loss = 0.51245037\n",
      "Iteration 146, loss = 0.51158729\n",
      "Iteration 147, loss = 0.51079488\n",
      "Iteration 148, loss = 0.50993261\n",
      "Iteration 149, loss = 0.50922369\n",
      "Iteration 150, loss = 0.50841320\n",
      "Iteration 151, loss = 0.50770662\n",
      "Iteration 152, loss = 0.50690882\n",
      "Iteration 153, loss = 0.50624854\n",
      "Iteration 154, loss = 0.50555335\n",
      "Iteration 155, loss = 0.50488514\n",
      "Iteration 156, loss = 0.50422699\n",
      "Iteration 157, loss = 0.50356844\n",
      "Iteration 158, loss = 0.50283394\n",
      "Iteration 159, loss = 0.50240114\n",
      "Iteration 160, loss = 0.50156776\n",
      "Iteration 161, loss = 0.50082319\n",
      "Iteration 162, loss = 0.50031812\n",
      "Iteration 163, loss = 0.49968252\n",
      "Iteration 164, loss = 0.49899396\n",
      "Iteration 165, loss = 0.49842290\n",
      "Iteration 166, loss = 0.49781246\n",
      "Iteration 167, loss = 0.49721420\n",
      "Iteration 168, loss = 0.49656032\n",
      "Iteration 169, loss = 0.49605982\n",
      "Iteration 170, loss = 0.49543984\n",
      "Iteration 171, loss = 0.49491298\n",
      "Iteration 172, loss = 0.49434786\n",
      "Iteration 173, loss = 0.49382860\n",
      "Iteration 174, loss = 0.49321162\n",
      "Iteration 175, loss = 0.49265920\n",
      "Iteration 176, loss = 0.49215011\n",
      "Iteration 177, loss = 0.49160392\n",
      "Iteration 178, loss = 0.49103777\n",
      "Iteration 179, loss = 0.49061794\n",
      "Iteration 180, loss = 0.49019713\n",
      "Iteration 181, loss = 0.48969202\n",
      "Iteration 182, loss = 0.48925189\n",
      "Iteration 183, loss = 0.48878823\n",
      "Iteration 184, loss = 0.48825077\n",
      "Iteration 185, loss = 0.48770422\n",
      "Iteration 186, loss = 0.48756652\n",
      "Iteration 187, loss = 0.48711582\n",
      "Iteration 188, loss = 0.48697708\n",
      "Iteration 189, loss = 0.48662737\n",
      "Iteration 190, loss = 0.48615071\n",
      "Iteration 191, loss = 0.48583265\n",
      "Iteration 192, loss = 0.48543915\n",
      "Iteration 193, loss = 0.48502238\n",
      "Iteration 194, loss = 0.48465089\n",
      "Iteration 195, loss = 0.48425113\n",
      "Iteration 196, loss = 0.48384131\n",
      "Iteration 197, loss = 0.48342471\n",
      "Iteration 198, loss = 0.48311285\n",
      "Iteration 199, loss = 0.48281901\n",
      "Iteration 200, loss = 0.48246416\n",
      "Iteration 201, loss = 0.48222309\n",
      "Iteration 202, loss = 0.48193045\n",
      "Iteration 203, loss = 0.48172956\n",
      "Iteration 204, loss = 0.48135363\n",
      "Iteration 205, loss = 0.48105051\n",
      "Iteration 206, loss = 0.48078402\n",
      "Iteration 207, loss = 0.48050163\n",
      "Iteration 208, loss = 0.48024873\n",
      "Iteration 209, loss = 0.48001318\n",
      "Iteration 210, loss = 0.47976154\n",
      "Iteration 211, loss = 0.47958645\n",
      "Iteration 212, loss = 0.47932111\n",
      "Iteration 213, loss = 0.47918432\n",
      "Iteration 214, loss = 0.47891573\n",
      "Iteration 215, loss = 0.47867513\n",
      "Iteration 216, loss = 0.47841832\n",
      "Iteration 217, loss = 0.47840966\n",
      "Iteration 218, loss = 0.47799313\n",
      "Iteration 219, loss = 0.47780879\n",
      "Iteration 220, loss = 0.47763511\n",
      "Iteration 221, loss = 0.47749104\n",
      "Iteration 222, loss = 0.47728656\n",
      "Iteration 223, loss = 0.47712734\n",
      "Iteration 224, loss = 0.47709223\n",
      "Iteration 225, loss = 0.47688708\n",
      "Iteration 226, loss = 0.47673391\n",
      "Iteration 227, loss = 0.47649116\n",
      "Iteration 228, loss = 0.47650320\n",
      "Iteration 229, loss = 0.47613790\n",
      "Iteration 230, loss = 0.47592206\n",
      "Iteration 231, loss = 0.47573909\n",
      "Iteration 232, loss = 0.47563321\n",
      "Iteration 233, loss = 0.47561171\n",
      "Iteration 234, loss = 0.47565958\n",
      "Iteration 235, loss = 0.47550840\n",
      "Iteration 236, loss = 0.47531044\n",
      "Iteration 237, loss = 0.47512594\n",
      "Iteration 238, loss = 0.47499989\n",
      "Iteration 239, loss = 0.47478860\n",
      "Iteration 240, loss = 0.47469021\n",
      "Iteration 241, loss = 0.47466057\n",
      "Iteration 242, loss = 0.47450157\n",
      "Iteration 243, loss = 0.47441204\n",
      "Iteration 244, loss = 0.47430148\n",
      "Iteration 245, loss = 0.47419768\n",
      "Iteration 246, loss = 0.47408339\n",
      "Iteration 247, loss = 0.47403566\n",
      "Iteration 248, loss = 0.47396164\n",
      "Iteration 249, loss = 0.47389154\n",
      "Iteration 250, loss = 0.47378520\n",
      "Iteration 251, loss = 0.47366280\n",
      "Iteration 252, loss = 0.47362322\n",
      "Iteration 253, loss = 0.47351609\n",
      "Iteration 254, loss = 0.47346372\n",
      "Iteration 255, loss = 0.47344210\n",
      "Iteration 256, loss = 0.47327559\n",
      "Iteration 257, loss = 0.47319393\n",
      "Iteration 258, loss = 0.47317472\n",
      "Iteration 259, loss = 0.47311302\n",
      "Iteration 260, loss = 0.47313227\n",
      "Iteration 261, loss = 0.47302423\n",
      "Iteration 262, loss = 0.47295914\n",
      "Iteration 263, loss = 0.47280411\n"
     ]
    },
    {
     "name": "stdout",
     "output_type": "stream",
     "text": [
      "Iteration 264, loss = 0.47274815\n",
      "Iteration 265, loss = 0.47269346\n",
      "Iteration 266, loss = 0.47262285\n",
      "Iteration 267, loss = 0.47262047\n",
      "Iteration 268, loss = 0.47255411\n",
      "Iteration 269, loss = 0.47251530\n",
      "Iteration 270, loss = 0.47250910\n",
      "Iteration 271, loss = 0.47239588\n",
      "Iteration 272, loss = 0.47232238\n",
      "Iteration 273, loss = 0.47227657\n",
      "Iteration 274, loss = 0.47217600\n",
      "Iteration 275, loss = 0.47210625\n",
      "Iteration 276, loss = 0.47201926\n",
      "Iteration 277, loss = 0.47200221\n",
      "Iteration 278, loss = 0.47193626\n",
      "Iteration 279, loss = 0.47183183\n",
      "Iteration 280, loss = 0.47176470\n",
      "Iteration 281, loss = 0.47171535\n",
      "Iteration 282, loss = 0.47176234\n",
      "Iteration 283, loss = 0.47173400\n",
      "Iteration 284, loss = 0.47178424\n",
      "Iteration 285, loss = 0.47182105\n",
      "Iteration 286, loss = 0.47177424\n",
      "Iteration 287, loss = 0.47167586\n",
      "Iteration 288, loss = 0.47160271\n",
      "Iteration 289, loss = 0.47151981\n",
      "Iteration 290, loss = 0.47138123\n",
      "Iteration 291, loss = 0.47151829\n",
      "Iteration 292, loss = 0.47147992\n",
      "Iteration 293, loss = 0.47141179\n",
      "Iteration 294, loss = 0.47141155\n",
      "Iteration 295, loss = 0.47131909\n",
      "Iteration 296, loss = 0.47129104\n",
      "Iteration 297, loss = 0.47128537\n",
      "Iteration 298, loss = 0.47121432\n",
      "Iteration 299, loss = 0.47113444\n",
      "Iteration 300, loss = 0.47112480\n",
      "Iteration 301, loss = 0.47113248\n",
      "Training loss did not improve more than tol=0.000100 for 10 consecutive epochs. Stopping.\n",
      "Wall time: 1.3 s\n"
     ]
    },
    {
     "data": {
      "text/plain": [
       "MLPClassifier(activation='logistic', hidden_layer_sizes=(50, 12), max_iter=2000,\n",
       "              random_state=42, verbose=1)"
      ]
     },
     "execution_count": 42,
     "metadata": {},
     "output_type": "execute_result"
    }
   ],
   "source": [
    "%%time\n",
    "mlp_model.fit(X_train, y_train)"
   ]
  },
  {
   "cell_type": "markdown",
   "id": "3887eb22",
   "metadata": {},
   "source": [
    "Ошибки на тестовой выборке"
   ]
  },
  {
   "cell_type": "code",
   "execution_count": 43,
   "id": "31b54fc5",
   "metadata": {},
   "outputs": [
    {
     "data": {
      "text/plain": [
       "0.256"
      ]
     },
     "execution_count": 43,
     "metadata": {},
     "output_type": "execute_result"
    }
   ],
   "source": [
    "y_test_predict = mlp_model.predict(X_test)\n",
    "err_test  = np.mean(y_test  != y_test_predict)\n",
    "err_test"
   ]
  },
  {
   "cell_type": "markdown",
   "id": "431f93eb",
   "metadata": {},
   "source": [
    "Ошибки на тренировочной выборке"
   ]
  },
  {
   "cell_type": "code",
   "execution_count": 44,
   "id": "1ca431a3",
   "metadata": {},
   "outputs": [
    {
     "data": {
      "text/plain": [
       "0.2206896551724138"
      ]
     },
     "execution_count": 44,
     "metadata": {},
     "output_type": "execute_result"
    }
   ],
   "source": [
    "y_train_predict = mlp_model.predict(X_train)\n",
    "err_train  = np.mean(y_train  != y_train_predict)\n",
    "err_train"
   ]
  },
  {
   "cell_type": "markdown",
   "id": "96f6d084",
   "metadata": {},
   "source": [
    "# Подберем оптимальное значение параметра регуляризации alpha\n",
    "## 1 скрытый слой"
   ]
  },
  {
   "cell_type": "code",
   "execution_count": 45,
   "id": "137cab60",
   "metadata": {},
   "outputs": [
    {
     "name": "stderr",
     "output_type": "stream",
     "text": [
      "C:\\TEMP/ipykernel_12692/3799792417.py:9: TqdmDeprecationWarning: This function will be removed in tqdm==5.0.0\n",
      "Please use `tqdm.notebook.tqdm` instead of `tqdm.tqdm_notebook`\n",
      "  for alpha in tqdm.tqdm_notebook(alpha_arr):\n"
     ]
    },
    {
     "data": {
      "application/vnd.jupyter.widget-view+json": {
       "model_id": "a04c6b5888474cd0b3ce34ecd12ae77f",
       "version_major": 2,
       "version_minor": 0
      },
      "text/plain": [
       "  0%|          | 0/21 [00:00<?, ?it/s]"
      ]
     },
     "metadata": {},
     "output_type": "display_data"
    }
   ],
   "source": [
    "from sklearn.metrics import accuracy_score\n",
    "import tqdm\n",
    "alpha_arr = np.logspace(-10, 10, 21)\n",
    "test_err = []\n",
    "train_err = []\n",
    "train_acc = []\n",
    "test_acc = []\n",
    "\n",
    "for alpha in tqdm.tqdm_notebook(alpha_arr):\n",
    "    mlp_model = MLPClassifier(alpha=alpha,\n",
    "                              hidden_layer_sizes = (50,),\n",
    "                              solver = 'adam', \n",
    "                              activation = 'logistic',\n",
    "                              max_iter=2000,\n",
    "                              random_state = 42,\n",
    "                              #verbose=1,\n",
    "                              tol=1e-4)\n",
    "    mlp_model.fit(X_train, y_train)\n",
    "\n",
    "    y_train_pred = mlp_model.predict(X_train)\n",
    "    y_test_pred = mlp_model.predict(X_test)\n",
    "    \n",
    "    train_err.append(np.mean(y_train != y_train_pred))\n",
    "    test_err.append(np.mean(y_test != y_test_pred))\n",
    "    train_acc.append(accuracy_score(y_train, y_train_pred))\n",
    "    test_acc.append(accuracy_score(y_test, y_test_pred))"
   ]
  },
  {
   "cell_type": "code",
   "execution_count": 46,
   "id": "38ab33f3",
   "metadata": {},
   "outputs": [
    {
     "data": {
      "text/plain": [
       "<matplotlib.legend.Legend at 0x14236ce8>"
      ]
     },
     "execution_count": 46,
     "metadata": {},
     "output_type": "execute_result"
    },
    {
     "data": {
      "image/png": "[encoded data removed]",
      "text/plain": [
       "<Figure size 432x288 with 1 Axes>"
      ]
     },
     "metadata": {
      "needs_background": "light"
     },
     "output_type": "display_data"
    }
   ],
   "source": [
    "plt.semilogx(alpha_arr, train_err, 'b-o', label = 'train')\n",
    "plt.semilogx(alpha_arr, test_err, 'r-o', label = 'test')\n",
    "plt.xlim([np.min(alpha_arr), np.max(alpha_arr)])\n",
    "plt.title('Error vs. alpha')\n",
    "plt.xlabel('alpha')\n",
    "plt.ylabel('error')\n",
    "plt.legend()"
   ]
  },
  {
   "cell_type": "markdown",
   "id": "ce9d0a6f",
   "metadata": {},
   "source": [
    "### Рассмотрим как у нас менялась метрика в зависимости от гиперпараметра:"
   ]
  },
  {
   "cell_type": "code",
   "execution_count": 47,
   "id": "97a4df8b",
   "metadata": {},
   "outputs": [
    {
     "data": {
      "text/plain": [
       "<matplotlib.legend.Legend at 0x14983e50>"
      ]
     },
     "execution_count": 47,
     "metadata": {},
     "output_type": "execute_result"
    },
    {
     "data": {
      "image/png": "[encoded data removed]",
      "text/plain": [
       "<Figure size 432x288 with 1 Axes>"
      ]
     },
     "metadata": {
      "needs_background": "light"
     },
     "output_type": "display_data"
    }
   ],
   "source": [
    "plt.semilogx(alpha_arr, train_acc, 'r-o', label = 'train')\n",
    "plt.semilogx(alpha_arr, test_acc, 'b-o', label = 'test')\n",
    "plt.xlim([np.min(alpha_arr), np.max(alpha_arr)])\n",
    "plt.title('Accuracy vs. alpha')\n",
    "plt.xlabel('alpha')\n",
    "plt.ylabel('Accuracy')\n",
    "plt.legend()"
   ]
  },
  {
   "cell_type": "markdown",
   "id": "58f7a63c",
   "metadata": {},
   "source": [
    "Минимальное значение ошибки:"
   ]
  },
  {
   "cell_type": "code",
   "execution_count": 48,
   "id": "90f81901",
   "metadata": {},
   "outputs": [
    {
     "name": "stdout",
     "output_type": "stream",
     "text": [
      "0.21379310344827587 0.24\n"
     ]
    }
   ],
   "source": [
    "min_train_err = np.min(train_err)\n",
    "min_test_err = np.min(test_err)\n",
    "print(min_train_err, min_test_err)"
   ]
  },
  {
   "cell_type": "markdown",
   "id": "57f1b11c",
   "metadata": {},
   "source": [
    "Оптимальное значение alpha:"
   ]
  },
  {
   "cell_type": "code",
   "execution_count": 49,
   "id": "896453b2",
   "metadata": {},
   "outputs": [
    {
     "name": "stdout",
     "output_type": "stream",
     "text": [
      "[0.1 1. ]\n"
     ]
    }
   ],
   "source": [
    "alpha_opt = alpha_arr[test_err == min_test_err]\n",
    "print(alpha_opt)"
   ]
  },
  {
   "cell_type": "code",
   "execution_count": 1,
   "id": "6393cb99",
   "metadata": {},
   "outputs": [
    {
     "ename": "NameError",
     "evalue": "name 'alpha_opt' is not defined",
     "output_type": "error",
     "traceback": [
      "\u001b[1;31m---------------------------------------------------------------------------\u001b[0m",
      "\u001b[1;31mNameError\u001b[0m                                 Traceback (most recent call last)",
      "\u001b[1;32mC:\\TEMP/ipykernel_6592/3534504975.py\u001b[0m in \u001b[0;36m<module>\u001b[1;34m\u001b[0m\n\u001b[1;32m----> 1\u001b[1;33m \u001b[0malpha_opt\u001b[0m \u001b[1;33m=\u001b[0m \u001b[0malpha_opt\u001b[0m\u001b[1;33m[\u001b[0m\u001b[1;36m0\u001b[0m\u001b[1;33m]\u001b[0m\u001b[1;33m\u001b[0m\u001b[1;33m\u001b[0m\u001b[0m\n\u001b[0m",
      "\u001b[1;31mNameError\u001b[0m: name 'alpha_opt' is not defined"
     ]
    }
   ],
   "source": [
    "alpha_opt = alpha_opt[0]"
   ]
  },
  {
   "cell_type": "markdown",
   "id": "a700a8a6",
   "metadata": {},
   "source": [
    "## Подбор числа нейронов (1 скрытый слой)"
   ]
  },
  {
   "cell_type": "code",
   "execution_count": 51,
   "id": "9c9cc84e",
   "metadata": {},
   "outputs": [
    {
     "name": "stderr",
     "output_type": "stream",
     "text": [
      "C:\\TEMP/ipykernel_12692/1571838247.py:9: TqdmDeprecationWarning: This function will be removed in tqdm==5.0.0\n",
      "Please use `tqdm.notebook.tqdm` instead of `tqdm.tqdm_notebook`\n",
      "  for neurons_count in tqdm.tqdm_notebook(neurons_count_arr):\n"
     ]
    },
    {
     "data": {
      "application/vnd.jupyter.widget-view+json": {
       "model_id": "c2d36b28c4954cccb5f4379a65935f5f",
       "version_major": 2,
       "version_minor": 0
      },
      "text/plain": [
       "  0%|          | 0/99 [00:00<?, ?it/s]"
      ]
     },
     "metadata": {},
     "output_type": "display_data"
    }
   ],
   "source": [
    "from sklearn.metrics import accuracy_score\n",
    "import tqdm\n",
    "neurons_count_arr = np.array([i for i in range(2, 100+1)])\n",
    "test_err = []\n",
    "train_err = []\n",
    "train_acc = []\n",
    "test_acc = []\n",
    "\n",
    "for neurons_count in tqdm.tqdm_notebook(neurons_count_arr):\n",
    "    mlp_model = MLPClassifier(alpha=alpha_opt,\n",
    "                              hidden_layer_sizes = (neurons_count,),\n",
    "                              solver = 'adam', \n",
    "                              activation = 'logistic',\n",
    "                              max_iter=2000,\n",
    "                              random_state = 42,\n",
    "                              #verbose=1,\n",
    "                              tol=1e-3)\n",
    "    mlp_model.fit(X_train, y_train)\n",
    "\n",
    "    y_train_pred = mlp_model.predict(X_train)\n",
    "    y_test_pred = mlp_model.predict(X_test)\n",
    "    \n",
    "    train_err.append(np.mean(y_train != y_train_pred))\n",
    "    test_err.append(np.mean(y_test != y_test_pred))\n",
    "    train_acc.append(accuracy_score(y_train, y_train_pred))\n",
    "    test_acc.append(accuracy_score(y_test, y_test_pred))"
   ]
  },
  {
   "cell_type": "code",
   "execution_count": 52,
   "id": "189e64be",
   "metadata": {},
   "outputs": [
    {
     "data": {
      "text/plain": [
       "<matplotlib.legend.Legend at 0x14219f58>"
      ]
     },
     "execution_count": 52,
     "metadata": {},
     "output_type": "execute_result"
    },
    {
     "data": {
      "image/png": "[encoded data removed]",
      "text/plain": [
       "<Figure size 432x288 with 1 Axes>"
      ]
     },
     "metadata": {
      "needs_background": "light"
     },
     "output_type": "display_data"
    }
   ],
   "source": [
    "plt.semilogx(neurons_count_arr, train_err, 'b-o', label = 'train')\n",
    "plt.semilogx(neurons_count_arr, test_err, 'r-o', label = 'test')\n",
    "plt.xlim([np.min(neurons_count_arr), np.max(neurons_count_arr)])\n",
    "plt.title('Error vs. neurons count')\n",
    "plt.xlabel('neurons count')\n",
    "plt.ylabel('error')\n",
    "plt.legend()"
   ]
  },
  {
   "cell_type": "code",
   "execution_count": 53,
   "id": "be0fbbd9",
   "metadata": {},
   "outputs": [
    {
     "data": {
      "text/plain": [
       "<matplotlib.legend.Legend at 0x14a82fd0>"
      ]
     },
     "execution_count": 53,
     "metadata": {},
     "output_type": "execute_result"
    },
    {
     "data": {
      "image/png": "[encoded data removed]",
      "text/plain": [
       "<Figure size 432x288 with 1 Axes>"
      ]
     },
     "metadata": {
      "needs_background": "light"
     },
     "output_type": "display_data"
    }
   ],
   "source": [
    "plt.semilogx(neurons_count_arr, train_acc, 'r-o', label = 'train')\n",
    "plt.semilogx(neurons_count_arr, test_acc, 'b-o', label = 'test')\n",
    "plt.xlim([np.min(neurons_count_arr), np.max(neurons_count_arr)])\n",
    "plt.title('Accuracy vs. neurons count')\n",
    "plt.xlabel('neurons count')\n",
    "plt.ylabel('Accuracy')\n",
    "plt.legend()"
   ]
  },
  {
   "cell_type": "code",
   "execution_count": 54,
   "id": "b886df79",
   "metadata": {},
   "outputs": [
    {
     "data": {
      "text/plain": [
       "100"
      ]
     },
     "execution_count": 54,
     "metadata": {},
     "output_type": "execute_result"
    }
   ],
   "source": [
    "max_accuracy = max(test_acc)\n",
    "id_of_maximum = 0\n",
    "for i in range(len(test_acc)):\n",
    "    if test_acc[i] == max_accuracy:\n",
    "        id_of_maximum = i\n",
    "neurons = neurons_count_arr[id_of_maximum]\n",
    "neurons"
   ]
  },
  {
   "cell_type": "markdown",
   "id": "156bd080",
   "metadata": {},
   "source": [
    "# Финальное обучение с оптимальными параметрами (по точности и времени)"
   ]
  },
  {
   "cell_type": "code",
   "execution_count": 55,
   "id": "70a420b2",
   "metadata": {},
   "outputs": [],
   "source": [
    "from sklearn.neural_network import MLPClassifier\n",
    "\n",
    "mlp_model = MLPClassifier(hidden_layer_sizes = (neurons,),\n",
    "                          alpha=alpha_opt,\n",
    "                          solver = 'adam', \n",
    "                          activation = 'logistic',\n",
    "                          max_iter=2000,\n",
    "                          random_state = 42,\n",
    "                          #verbose=1,\n",
    "                          tol=1e-4)"
   ]
  },
  {
   "cell_type": "code",
   "execution_count": 56,
   "id": "b0f47785",
   "metadata": {},
   "outputs": [
    {
     "name": "stdout",
     "output_type": "stream",
     "text": [
      "Wall time: 1.08 s\n"
     ]
    },
    {
     "data": {
      "text/plain": [
       "MLPClassifier(activation='logistic', alpha=0.1, max_iter=2000, random_state=42)"
      ]
     },
     "execution_count": 56,
     "metadata": {},
     "output_type": "execute_result"
    }
   ],
   "source": [
    "%%time\n",
    "mlp_model.fit(X_train, y_train)"
   ]
  },
  {
   "cell_type": "markdown",
   "id": "f0e737fa",
   "metadata": {},
   "source": [
    "Ошибки на тестовой выборке"
   ]
  },
  {
   "cell_type": "code",
   "execution_count": 57,
   "id": "49984ec5",
   "metadata": {},
   "outputs": [
    {
     "data": {
      "text/plain": [
       "0.24"
      ]
     },
     "execution_count": 57,
     "metadata": {},
     "output_type": "execute_result"
    }
   ],
   "source": [
    "y_test_predict = mlp_model.predict(X_test)\n",
    "err_test  = np.mean(y_test  != y_test_predict)\n",
    "err_test"
   ]
  },
  {
   "cell_type": "markdown",
   "id": "6a874127",
   "metadata": {},
   "source": [
    "Ошибки на тренировочной выборке"
   ]
  },
  {
   "cell_type": "code",
   "execution_count": 58,
   "id": "3d1f719a",
   "metadata": {},
   "outputs": [
    {
     "data": {
      "text/plain": [
       "0.21379310344827587"
      ]
     },
     "execution_count": 58,
     "metadata": {},
     "output_type": "execute_result"
    }
   ],
   "source": [
    "y_train_predict = mlp_model.predict(X_train)\n",
    "err_train  = np.mean(y_train  != y_train_predict)\n",
    "err_train"
   ]
  },
  {
   "cell_type": "code",
   "execution_count": 59,
   "id": "38c5e8cf",
   "metadata": {},
   "outputs": [
    {
     "data": {
      "text/plain": [
       "(0.76, 0.7862068965517242)"
      ]
     },
     "execution_count": 59,
     "metadata": {},
     "output_type": "execute_result"
    }
   ],
   "source": [
    "1-err_test, 1-err_train"
   ]
  },
  {
   "cell_type": "code",
   "execution_count": null,
   "id": "ed434eee",
   "metadata": {},
   "outputs": [],
   "source": []
  },
  {
   "cell_type": "markdown",
   "id": "e2319092",
   "metadata": {},
   "source": [
    "## Матрица рассогласования:"
   ]
  },
  {
   "cell_type": "code",
   "execution_count": 60,
   "id": "128dd946",
   "metadata": {},
   "outputs": [
    {
     "name": "stdout",
     "output_type": "stream",
     "text": [
      "[[26  4]\n",
      " [24 71]]\n"
     ]
    },
    {
     "data": {
      "text/plain": [
       "array([1, 0, 1, 0, 1, 1, 0, 1, 1, 1, 0, 0, 1, 1, 1, 1, 1, 1, 1, 0, 1, 1,\n",
       "       1, 1, 0, 1, 1, 1, 1, 1, 1, 1, 1, 1, 1, 1, 0, 1, 1, 1, 0, 0, 1, 0,\n",
       "       0, 0, 1, 1, 1, 1, 1, 1, 1, 0, 1, 1, 1, 1, 0, 1, 1, 1, 1, 0, 1, 1,\n",
       "       1, 1, 1, 1, 0, 1, 1, 0, 1, 1, 1, 0, 0, 1, 1, 1, 1, 1, 1, 1, 1, 1,\n",
       "       1, 0, 0, 1, 1, 1, 1, 0, 0, 1, 1, 1, 1, 1, 1, 1, 1, 1, 0, 0, 0, 1,\n",
       "       1, 1, 1, 1, 1, 0, 1, 1, 1, 0, 1, 1, 1, 0, 1])"
      ]
     },
     "execution_count": 60,
     "metadata": {},
     "output_type": "execute_result"
    }
   ],
   "source": [
    "from sklearn.metrics import confusion_matrix\n",
    "print(confusion_matrix(y_test_pred, y_test))\n",
    "y_test_pred"
   ]
  },
  {
   "cell_type": "code",
   "execution_count": 61,
   "id": "9318dcf7",
   "metadata": {},
   "outputs": [
    {
     "data": {
      "text/plain": [
       "array([1, 0, 1, 0, 1, 1, 0, 1, 0, 1, 0, 0, 1, 1, 1, 0, 1, 0, 0, 0, 1, 1,\n",
       "       1, 1, 0, 1, 1, 1, 1, 1, 0, 1, 1, 0, 1, 1, 1, 1, 1, 1, 1, 0, 1, 0,\n",
       "       0, 0, 1, 1, 0, 0, 1, 1, 1, 0, 0, 1, 1, 1, 0, 0, 1, 1, 1, 0, 1, 1,\n",
       "       1, 1, 1, 1, 0, 1, 1, 0, 0, 1, 1, 0, 0, 1, 1, 0, 1, 0, 0, 0, 0, 0,\n",
       "       1, 0, 0, 1, 1, 1, 1, 0, 1, 0, 1, 0, 1, 0, 1, 1, 0, 1, 1, 0, 0, 1,\n",
       "       1, 1, 0, 0, 1, 0, 1, 1, 1, 0, 1, 0, 1, 0, 1])"
      ]
     },
     "execution_count": 61,
     "metadata": {},
     "output_type": "execute_result"
    }
   ],
   "source": [
    "y_test"
   ]
  },
  {
   "cell_type": "code",
   "execution_count": 62,
   "id": "b0134e0f",
   "metadata": {},
   "outputs": [
    {
     "data": {
      "image/png": "[encoded data removed]",
      "text/plain": [
       "<Figure size 432x288 with 2 Axes>"
      ]
     },
     "metadata": {
      "needs_background": "light"
     },
     "output_type": "display_data"
    }
   ],
   "source": [
    "M = confusion_matrix(y_test_pred, y_test)\n",
    "M = np.sqrt(M)\n",
    "plt.imshow(M, interpolation = 'nearest')\n",
    "plt.set_cmap('binary')\n",
    "plt.xticks(range(2))\n",
    "plt.yticks(range(2))\n",
    "plt.xlabel(\"true label\")\n",
    "plt.ylabel(\"predicted label\")\n",
    "plt.colorbar()\n",
    "pass"
   ]
  },
  {
   "cell_type": "markdown",
   "id": "2076d0c0",
   "metadata": {},
   "source": [
    "# Метрики качества:"
   ]
  },
  {
   "cell_type": "code",
   "execution_count": 63,
   "id": "435c1e20",
   "metadata": {},
   "outputs": [
    {
     "name": "stdout",
     "output_type": "stream",
     "text": [
      "              precision    recall  f1-score   support\n",
      "\n",
      "           0       0.87      0.52      0.65        50\n",
      "           1       0.75      0.95      0.84        75\n",
      "\n",
      "    accuracy                           0.78       125\n",
      "   macro avg       0.81      0.73      0.74       125\n",
      "weighted avg       0.80      0.78      0.76       125\n",
      "\n"
     ]
    }
   ],
   "source": [
    "from sklearn.metrics import classification_report\n",
    "print(classification_report(y_test, y_test_pred))"
   ]
  },
  {
   "cell_type": "markdown",
   "id": "d95cbd7e",
   "metadata": {},
   "source": [
    "# Вывод\n",
    "Была получена полносвязная нейронная сеть. Были найдены оптимальные параметры по точности и времени обучения: 1 слой с 100 нейронами. Ошибка составляет ~20%. Данный результат объясняется малым количеством входных данных. Переобучение, недообучение не наблюдается."
   ]
  },
  {
   "cell_type": "code",
   "execution_count": null,
   "id": "9715bcc2",
   "metadata": {},
   "outputs": [],
   "source": []
  },
  {
   "cell_type": "code",
   "execution_count": null,
   "id": "d38f8d50",
   "metadata": {},
   "outputs": [],
   "source": []
  },
  {
   "cell_type": "code",
   "execution_count": null,
   "id": "921362c1",
   "metadata": {},
   "outputs": [],
   "source": []
  }
 ],
 "metadata": {
  "kernelspec": {
   "display_name": "Python 3 (ipykernel)",
   "language": "python",
   "name": "python3"
  },
  "language_info": {
   "codemirror_mode": {
    "name": "ipython",
    "version": 3
   },
   "file_extension": ".py",
   "mimetype": "text/x-python",
   "name": "python",
   "nbconvert_exporter": "python",
   "pygments_lexer": "ipython3",
   "version": "3.9.5"
  }
 },
 "nbformat": 4,
 "nbformat_minor": 5
}
