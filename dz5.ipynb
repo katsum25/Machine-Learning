{
 "cells": [
  {
   "cell_type": "code",
   "execution_count": 1,
   "id": "17c0fa15",
   "metadata": {},
   "outputs": [],
   "source": [
    "import numpy as np\n",
    "import matplotlib.pyplot as plt\n",
    "import pandas as pd\n",
    "import seaborn as sns "
   ]
  },
  {
   "cell_type": "markdown",
   "id": "c49daf02",
   "metadata": {},
   "source": [
    "# Прогнозирование инсульта\n",
    "\n",
    "### Чтение данных"
   ]
  },
  {
   "cell_type": "code",
   "execution_count": 2,
   "id": "aab5f1cf",
   "metadata": {},
   "outputs": [
    {
     "data": {
      "text/plain": [
       "pandas.core.frame.DataFrame"
      ]
     },
     "execution_count": 2,
     "metadata": {},
     "output_type": "execute_result"
    }
   ],
   "source": [
    "data = pd.read_csv('healthcare-dataset-stroke-data.csv', sep=',', header=0,  engine='python')\n",
    "type(data)"
   ]
  },
  {
   "cell_type": "code",
   "execution_count": 3,
   "id": "6ed94dd7",
   "metadata": {
    "scrolled": true
   },
   "outputs": [
    {
     "data": {
      "text/html": [
       "<div>\n",
       "<style scoped>\n",
       "    .dataframe tbody tr th:only-of-type {\n",
       "        vertical-align: middle;\n",
       "    }\n",
       "\n",
       "    .dataframe tbody tr th {\n",
       "        vertical-align: top;\n",
       "    }\n",
       "\n",
       "    .dataframe thead th {\n",
       "        text-align: right;\n",
       "    }\n",
       "</style>\n",
       "<table border=\"1\" class=\"dataframe\">\n",
       "  <thead>\n",
       "    <tr style=\"text-align: right;\">\n",
       "      <th></th>\n",
       "      <th>id</th>\n",
       "      <th>gender</th>\n",
       "      <th>age</th>\n",
       "      <th>hypertension</th>\n",
       "      <th>heart_disease</th>\n",
       "      <th>ever_married</th>\n",
       "      <th>work_type</th>\n",
       "      <th>Residence_type</th>\n",
       "      <th>avg_glucose_level</th>\n",
       "      <th>bmi</th>\n",
       "      <th>smoking_status</th>\n",
       "      <th>stroke</th>\n",
       "    </tr>\n",
       "  </thead>\n",
       "  <tbody>\n",
       "    <tr>\n",
       "      <th>0</th>\n",
       "      <td>9046</td>\n",
       "      <td>Male</td>\n",
       "      <td>67.0</td>\n",
       "      <td>0</td>\n",
       "      <td>1</td>\n",
       "      <td>Yes</td>\n",
       "      <td>Private</td>\n",
       "      <td>Urban</td>\n",
       "      <td>228.69</td>\n",
       "      <td>36.6</td>\n",
       "      <td>formerly smoked</td>\n",
       "      <td>1</td>\n",
       "    </tr>\n",
       "    <tr>\n",
       "      <th>1</th>\n",
       "      <td>51676</td>\n",
       "      <td>Female</td>\n",
       "      <td>61.0</td>\n",
       "      <td>0</td>\n",
       "      <td>0</td>\n",
       "      <td>Yes</td>\n",
       "      <td>Self-employed</td>\n",
       "      <td>Rural</td>\n",
       "      <td>202.21</td>\n",
       "      <td>NaN</td>\n",
       "      <td>never smoked</td>\n",
       "      <td>1</td>\n",
       "    </tr>\n",
       "    <tr>\n",
       "      <th>2</th>\n",
       "      <td>31112</td>\n",
       "      <td>Male</td>\n",
       "      <td>80.0</td>\n",
       "      <td>0</td>\n",
       "      <td>1</td>\n",
       "      <td>Yes</td>\n",
       "      <td>Private</td>\n",
       "      <td>Rural</td>\n",
       "      <td>105.92</td>\n",
       "      <td>32.5</td>\n",
       "      <td>never smoked</td>\n",
       "      <td>1</td>\n",
       "    </tr>\n",
       "    <tr>\n",
       "      <th>3</th>\n",
       "      <td>60182</td>\n",
       "      <td>Female</td>\n",
       "      <td>49.0</td>\n",
       "      <td>0</td>\n",
       "      <td>0</td>\n",
       "      <td>Yes</td>\n",
       "      <td>Private</td>\n",
       "      <td>Urban</td>\n",
       "      <td>171.23</td>\n",
       "      <td>34.4</td>\n",
       "      <td>smokes</td>\n",
       "      <td>1</td>\n",
       "    </tr>\n",
       "    <tr>\n",
       "      <th>4</th>\n",
       "      <td>1665</td>\n",
       "      <td>Female</td>\n",
       "      <td>79.0</td>\n",
       "      <td>1</td>\n",
       "      <td>0</td>\n",
       "      <td>Yes</td>\n",
       "      <td>Self-employed</td>\n",
       "      <td>Rural</td>\n",
       "      <td>174.12</td>\n",
       "      <td>24.0</td>\n",
       "      <td>never smoked</td>\n",
       "      <td>1</td>\n",
       "    </tr>\n",
       "    <tr>\n",
       "      <th>...</th>\n",
       "      <td>...</td>\n",
       "      <td>...</td>\n",
       "      <td>...</td>\n",
       "      <td>...</td>\n",
       "      <td>...</td>\n",
       "      <td>...</td>\n",
       "      <td>...</td>\n",
       "      <td>...</td>\n",
       "      <td>...</td>\n",
       "      <td>...</td>\n",
       "      <td>...</td>\n",
       "      <td>...</td>\n",
       "    </tr>\n",
       "    <tr>\n",
       "      <th>5105</th>\n",
       "      <td>18234</td>\n",
       "      <td>Female</td>\n",
       "      <td>80.0</td>\n",
       "      <td>1</td>\n",
       "      <td>0</td>\n",
       "      <td>Yes</td>\n",
       "      <td>Private</td>\n",
       "      <td>Urban</td>\n",
       "      <td>83.75</td>\n",
       "      <td>NaN</td>\n",
       "      <td>never smoked</td>\n",
       "      <td>0</td>\n",
       "    </tr>\n",
       "    <tr>\n",
       "      <th>5106</th>\n",
       "      <td>44873</td>\n",
       "      <td>Female</td>\n",
       "      <td>81.0</td>\n",
       "      <td>0</td>\n",
       "      <td>0</td>\n",
       "      <td>Yes</td>\n",
       "      <td>Self-employed</td>\n",
       "      <td>Urban</td>\n",
       "      <td>125.20</td>\n",
       "      <td>40.0</td>\n",
       "      <td>never smoked</td>\n",
       "      <td>0</td>\n",
       "    </tr>\n",
       "    <tr>\n",
       "      <th>5107</th>\n",
       "      <td>19723</td>\n",
       "      <td>Female</td>\n",
       "      <td>35.0</td>\n",
       "      <td>0</td>\n",
       "      <td>0</td>\n",
       "      <td>Yes</td>\n",
       "      <td>Self-employed</td>\n",
       "      <td>Rural</td>\n",
       "      <td>82.99</td>\n",
       "      <td>30.6</td>\n",
       "      <td>never smoked</td>\n",
       "      <td>0</td>\n",
       "    </tr>\n",
       "    <tr>\n",
       "      <th>5108</th>\n",
       "      <td>37544</td>\n",
       "      <td>Male</td>\n",
       "      <td>51.0</td>\n",
       "      <td>0</td>\n",
       "      <td>0</td>\n",
       "      <td>Yes</td>\n",
       "      <td>Private</td>\n",
       "      <td>Rural</td>\n",
       "      <td>166.29</td>\n",
       "      <td>25.6</td>\n",
       "      <td>formerly smoked</td>\n",
       "      <td>0</td>\n",
       "    </tr>\n",
       "    <tr>\n",
       "      <th>5109</th>\n",
       "      <td>44679</td>\n",
       "      <td>Female</td>\n",
       "      <td>44.0</td>\n",
       "      <td>0</td>\n",
       "      <td>0</td>\n",
       "      <td>Yes</td>\n",
       "      <td>Govt_job</td>\n",
       "      <td>Urban</td>\n",
       "      <td>85.28</td>\n",
       "      <td>26.2</td>\n",
       "      <td>Unknown</td>\n",
       "      <td>0</td>\n",
       "    </tr>\n",
       "  </tbody>\n",
       "</table>\n",
       "<p>5110 rows × 12 columns</p>\n",
       "</div>"
      ],
      "text/plain": [
       "         id  gender   age  hypertension  heart_disease ever_married  \\\n",
       "0      9046    Male  67.0             0              1          Yes   \n",
       "1     51676  Female  61.0             0              0          Yes   \n",
       "2     31112    Male  80.0             0              1          Yes   \n",
       "3     60182  Female  49.0             0              0          Yes   \n",
       "4      1665  Female  79.0             1              0          Yes   \n",
       "...     ...     ...   ...           ...            ...          ...   \n",
       "5105  18234  Female  80.0             1              0          Yes   \n",
       "5106  44873  Female  81.0             0              0          Yes   \n",
       "5107  19723  Female  35.0             0              0          Yes   \n",
       "5108  37544    Male  51.0             0              0          Yes   \n",
       "5109  44679  Female  44.0             0              0          Yes   \n",
       "\n",
       "          work_type Residence_type  avg_glucose_level   bmi   smoking_status  \\\n",
       "0           Private          Urban             228.69  36.6  formerly smoked   \n",
       "1     Self-employed          Rural             202.21   NaN     never smoked   \n",
       "2           Private          Rural             105.92  32.5     never smoked   \n",
       "3           Private          Urban             171.23  34.4           smokes   \n",
       "4     Self-employed          Rural             174.12  24.0     never smoked   \n",
       "...             ...            ...                ...   ...              ...   \n",
       "5105        Private          Urban              83.75   NaN     never smoked   \n",
       "5106  Self-employed          Urban             125.20  40.0     never smoked   \n",
       "5107  Self-employed          Rural              82.99  30.6     never smoked   \n",
       "5108        Private          Rural             166.29  25.6  formerly smoked   \n",
       "5109       Govt_job          Urban              85.28  26.2          Unknown   \n",
       "\n",
       "      stroke  \n",
       "0          1  \n",
       "1          1  \n",
       "2          1  \n",
       "3          1  \n",
       "4          1  \n",
       "...      ...  \n",
       "5105       0  \n",
       "5106       0  \n",
       "5107       0  \n",
       "5108       0  \n",
       "5109       0  \n",
       "\n",
       "[5110 rows x 12 columns]"
      ]
     },
     "execution_count": 3,
     "metadata": {},
     "output_type": "execute_result"
    }
   ],
   "source": [
    "data"
   ]
  },
  {
   "cell_type": "markdown",
   "id": "66d7c70f",
   "metadata": {},
   "source": [
    "### Рассматриваемые признаки\n",
    "1. id\n",
    "2. Age - возраст пациента;\n",
    "3. Hypertension - синдром повышения систолического артериального давления (САД) от 140 мм рт. ст. и выше, и одновременно или самостоятельно — диастолического АД (ДАД) ≥ 90 мм рт. ст.;\n",
    "4. heart_disease - наличие болезней, связанных с сердцем;\n",
    "5. ever_married - состоял ли человек в браке;\n",
    "6. work_type - тип работы, которой занимался(занимается) пациент;\n",
    "7. Residence_type - тип жилья, в котором жил(живет) пациент;\n",
    "8. avg_glucose_level - уровень глюкозы в крови;\n",
    "9. bmi - индекс массы тела;\n",
    "10. smoking_status - отношение человека к курению;\n",
    "11. stroke - акт инсульта."
   ]
  },
  {
   "cell_type": "markdown",
   "id": "f163d993",
   "metadata": {},
   "source": [
    "## Обработка пропущенных значений"
   ]
  },
  {
   "cell_type": "code",
   "execution_count": 4,
   "id": "5999e792",
   "metadata": {},
   "outputs": [
    {
     "data": {
      "text/plain": [
       "id                     0\n",
       "gender                 0\n",
       "age                    0\n",
       "hypertension           0\n",
       "heart_disease          0\n",
       "ever_married           0\n",
       "work_type              0\n",
       "Residence_type         0\n",
       "avg_glucose_level      0\n",
       "bmi                  201\n",
       "smoking_status         0\n",
       "stroke                 0\n",
       "dtype: int64"
      ]
     },
     "execution_count": 4,
     "metadata": {},
     "output_type": "execute_result"
    }
   ],
   "source": [
    "data.isna().sum()"
   ]
  },
  {
   "cell_type": "code",
   "execution_count": 5,
   "id": "4321e3e5",
   "metadata": {},
   "outputs": [],
   "source": [
    "\n",
    "data_0 = data[data['stroke'] == 0]\n",
    "data_1 = data[data['stroke'] == 1]\n",
    "data_0 = data_0[0: data_1.shape[0]//3*2]\n",
    "#data0# меньше\n",
    "data = pd.concat((data_0, data_1), axis = 0)"
   ]
  },
  {
   "cell_type": "markdown",
   "id": "0f9e6366",
   "metadata": {},
   "source": [
    "### Находим категориальные признаки"
   ]
  },
  {
   "cell_type": "code",
   "execution_count": 6,
   "id": "3a21d944",
   "metadata": {},
   "outputs": [
    {
     "name": "stdout",
     "output_type": "stream",
     "text": [
      "['gender', 'ever_married', 'work_type', 'Residence_type', 'smoking_status']\n",
      "['id', 'age', 'hypertension', 'heart_disease', 'avg_glucose_level', 'bmi', 'stroke']\n"
     ]
    },
    {
     "data": {
      "text/plain": [
       "(415, 12)"
      ]
     },
     "execution_count": 6,
     "metadata": {},
     "output_type": "execute_result"
    }
   ],
   "source": [
    "categorical_columns = [c for c in data.columns if data[c].dtype.name == 'object']\n",
    "numerical_columns   = [c for c in data.columns if data[c].dtype.name != 'object']\n",
    "print(categorical_columns)\n",
    "print(numerical_columns)\n",
    "data.shape"
   ]
  },
  {
   "cell_type": "code",
   "execution_count": 7,
   "id": "15398dc0",
   "metadata": {
    "scrolled": true
   },
   "outputs": [
    {
     "data": {
      "text/plain": [
       "(373, 12)"
      ]
     },
     "execution_count": 7,
     "metadata": {},
     "output_type": "execute_result"
    }
   ],
   "source": [
    "data.dropna(axis = 0).shape"
   ]
  },
  {
   "cell_type": "markdown",
   "id": "0f36663b",
   "metadata": {},
   "source": [
    "Есть пропущенные значения. Заполняем медианными значениями"
   ]
  },
  {
   "cell_type": "code",
   "execution_count": 8,
   "id": "986e2c7b",
   "metadata": {
    "scrolled": true
   },
   "outputs": [
    {
     "data": {
      "text/plain": [
       "(415, 12)"
      ]
     },
     "execution_count": 8,
     "metadata": {},
     "output_type": "execute_result"
    }
   ],
   "source": [
    "data = data.fillna(data.median(axis = 0, numeric_only=True), axis = 0)\n",
    "data.shape"
   ]
  },
  {
   "cell_type": "code",
   "execution_count": 9,
   "id": "cdcc258e",
   "metadata": {},
   "outputs": [
    {
     "data": {
      "text/plain": [
       "<AxesSubplot:xlabel='stroke', ylabel='count'>"
      ]
     },
     "execution_count": 9,
     "metadata": {},
     "output_type": "execute_result"
    },
    {
     "data": {
      "image/png": "[encoded data removed]",
      "text/plain": [
       "<Figure size 432x288 with 1 Axes>"
      ]
     },
     "metadata": {
      "needs_background": "light"
     },
     "output_type": "display_data"
    }
   ],
   "source": [
    "sns.countplot(x='stroke', data=data)"
   ]
  },
  {
   "cell_type": "code",
   "execution_count": null,
   "id": "4760892d",
   "metadata": {},
   "outputs": [],
   "source": []
  },
  {
   "cell_type": "markdown",
   "id": "62908cfc",
   "metadata": {},
   "source": [
    "### Векторизируем данные"
   ]
  },
  {
   "cell_type": "code",
   "execution_count": 10,
   "id": "bde64fd1",
   "metadata": {
    "scrolled": true
   },
   "outputs": [],
   "source": [
    "data_describe = data.describe(include = [object])"
   ]
  },
  {
   "cell_type": "markdown",
   "id": "9c3ec391",
   "metadata": {},
   "source": [
    "Векторизация бинарных данных"
   ]
  },
  {
   "cell_type": "code",
   "execution_count": 11,
   "id": "c3ca2001",
   "metadata": {},
   "outputs": [
    {
     "data": {
      "text/plain": [
       "count     415\n",
       "unique      2\n",
       "top         0\n",
       "freq      211\n",
       "Name: Residence_type, dtype: int64"
      ]
     },
     "execution_count": 11,
     "metadata": {},
     "output_type": "execute_result"
    }
   ],
   "source": [
    "\n",
    "data.at[data['ever_married'] == 'No', 'ever_married'] = 0\n",
    "data.at[data['ever_married'] == 'Yes', 'ever_married'] = 1\n",
    "data['ever_married'].describe()\n",
    "\n",
    "data.at[data['Residence_type'] == 'Urban', 'Residence_type'] = 0\n",
    "data.at[data['Residence_type'] == 'Rural', 'Residence_type'] = 1\n",
    "data['Residence_type'].describe()\n",
    "\n",
    "#for c in categorical_columns:\n",
    "#    data[c] = data[c].fillna(data_describe[c]['top'])\n",
    "#data.describe(include = [object])\n",
    "\n",
    "#binary_columns    = [c for c in categorical_columns if data_describe[c]['unique'] == 2]\n",
    "#nonbinary_columns = [c for c in categorical_columns if data_describe[c]['unique'] > 2]\n",
    "\n",
    "#data_nonbinary = pd.get_dummies(data[nonbinary_columns])\n",
    "#print(data_nonbinary.columns)\n",
    "\n",
    "#categorical_columns = [c for c in data.columns if data[c].dtype.name == 'object']\n",
    "#categorical_columns\n"
   ]
  },
  {
   "cell_type": "code",
   "execution_count": 12,
   "id": "6c3408fd",
   "metadata": {},
   "outputs": [],
   "source": [
    "from sklearn import preprocessing\n",
    "data_describe = data.describe(include = [object])\n",
    "number = preprocessing.LabelEncoder()\n",
    "data[\"gender\"] = number.fit_transform(data[\"gender\"])\n",
    "data[\"ever_married\"] = number.fit_transform(data[\"ever_married\"])\n",
    "data[\"work_type\"] = number.fit_transform(data[\"work_type\"])\n",
    "data[\"smoking_status\"] = number.fit_transform(data[\"smoking_status\"])\n",
    "data[\"Residence_type\"] = number.fit_transform(data[\"Residence_type\"])"
   ]
  },
  {
   "cell_type": "code",
   "execution_count": 13,
   "id": "f973ba0e",
   "metadata": {},
   "outputs": [],
   "source": [
    "binary_columns = [c for c in categorical_columns if data_describe[c]['unique'] == 2]\n",
    "binary_columns = binary_columns[:0]\n"
   ]
  },
  {
   "cell_type": "code",
   "execution_count": 14,
   "id": "859ec014",
   "metadata": {},
   "outputs": [
    {
     "data": {
      "text/plain": [
       "array([0, 1], dtype=int64)"
      ]
     },
     "execution_count": 14,
     "metadata": {},
     "output_type": "execute_result"
    }
   ],
   "source": [
    "data['stroke'].unique()"
   ]
  },
  {
   "cell_type": "code",
   "execution_count": 15,
   "id": "96f6dda7",
   "metadata": {},
   "outputs": [
    {
     "data": {
      "text/plain": [
       "count    415.000000\n",
       "mean       0.491566\n",
       "std        0.500532\n",
       "min        0.000000\n",
       "25%        0.000000\n",
       "50%        0.000000\n",
       "75%        1.000000\n",
       "max        1.000000\n",
       "Name: Residence_type, dtype: float64"
      ]
     },
     "execution_count": 15,
     "metadata": {},
     "output_type": "execute_result"
    }
   ],
   "source": [
    "data.at[data['Residence_type'] == 'Urban', 'Residence_type'] = 1\n",
    "data.at[data['Residence_type'] == 'Rural', 'Residence_type'] = 0\n",
    "data['Residence_type'].describe()"
   ]
  },
  {
   "cell_type": "markdown",
   "id": "21d49db1",
   "metadata": {
    "scrolled": true
   },
   "source": [
    "### Нормализация "
   ]
  },
  {
   "cell_type": "code",
   "execution_count": 16,
   "id": "e9094c11",
   "metadata": {},
   "outputs": [
    {
     "name": "stdout",
     "output_type": "stream",
     "text": [
      "['stroke']\n"
     ]
    },
    {
     "data": {
      "text/plain": [
       "['id',\n",
       " 'gender',\n",
       " 'age',\n",
       " 'hypertension',\n",
       " 'heart_disease',\n",
       " 'ever_married',\n",
       " 'work_type',\n",
       " 'Residence_type',\n",
       " 'avg_glucose_level',\n",
       " 'bmi',\n",
       " 'smoking_status']"
      ]
     },
     "execution_count": 16,
     "metadata": {},
     "output_type": "execute_result"
    }
   ],
   "source": [
    "numerical_columns = [c for c in data.columns if data[c].dtype.name != 'object']\n",
    "len(numerical_columns)\n",
    "binary_columns = numerical_columns[11:]\n",
    "print(binary_columns)\n",
    "numerical_columns = numerical_columns[:11]\n",
    "numerical_columns"
   ]
  },
  {
   "cell_type": "code",
   "execution_count": 17,
   "id": "e1e16b19",
   "metadata": {},
   "outputs": [],
   "source": [
    "data_numerical = data[numerical_columns].astype('float32')"
   ]
  },
  {
   "cell_type": "code",
   "execution_count": 18,
   "id": "523a3ec2",
   "metadata": {},
   "outputs": [
    {
     "data": {
      "text/plain": [
       "id                   21571.460938\n",
       "gender                   0.490489\n",
       "age                     20.970556\n",
       "hypertension             0.402281\n",
       "heart_disease            0.342072\n",
       "ever_married             0.396818\n",
       "work_type                0.969304\n",
       "Residence_type           0.500532\n",
       "avg_glucose_level       58.695858\n",
       "bmi                      7.127557\n",
       "smoking_status           1.023261\n",
       "dtype: float32"
      ]
     },
     "execution_count": 18,
     "metadata": {},
     "output_type": "execute_result"
    }
   ],
   "source": [
    "data_numerical.std(axis = 0)"
   ]
  },
  {
   "cell_type": "code",
   "execution_count": 19,
   "id": "429c12ef",
   "metadata": {},
   "outputs": [],
   "source": [
    "data_numerical = (data_numerical - data_numerical.mean(axis = 0))/data_numerical.std(axis = 0)\n",
    "data_numerical = data_numerical.fillna(0.0)"
   ]
  },
  {
   "cell_type": "code",
   "execution_count": null,
   "id": "eb05c6f7",
   "metadata": {},
   "outputs": [],
   "source": []
  },
  {
   "cell_type": "code",
   "execution_count": 20,
   "id": "e317c601",
   "metadata": {},
   "outputs": [
    {
     "data": {
      "text/plain": [
       "array([0, 1], dtype=int64)"
      ]
     },
     "execution_count": 20,
     "metadata": {},
     "output_type": "execute_result"
    }
   ],
   "source": [
    "data['stroke'].unique()"
   ]
  },
  {
   "cell_type": "code",
   "execution_count": null,
   "id": "db4eb781",
   "metadata": {},
   "outputs": [],
   "source": []
  },
  {
   "cell_type": "code",
   "execution_count": 21,
   "id": "81a81f16",
   "metadata": {},
   "outputs": [],
   "source": [
    "#data.at[data['stroke'] == 'ever_married', 'stroke'] = 1\n",
    "#data.at[data['stroke'] == 'Residence_type', 'stroke'] = 0\n",
    "#data['stroke'].describe()"
   ]
  },
  {
   "cell_type": "markdown",
   "id": "7fc43be6",
   "metadata": {},
   "source": [
    "### Соединяем все в матрицу"
   ]
  },
  {
   "cell_type": "code",
   "execution_count": 22,
   "id": "62508598",
   "metadata": {},
   "outputs": [
    {
     "data": {
      "text/plain": [
       "(415, 12)"
      ]
     },
     "execution_count": 22,
     "metadata": {},
     "output_type": "execute_result"
    }
   ],
   "source": [
    "data = pd.concat((data_numerical, data[binary_columns]), axis = 1)\n",
    "data.shape\n"
   ]
  },
  {
   "cell_type": "code",
   "execution_count": 23,
   "id": "eebcdf86",
   "metadata": {},
   "outputs": [
    {
     "data": {
      "text/plain": [
       "id                   0\n",
       "gender               0\n",
       "age                  0\n",
       "hypertension         0\n",
       "heart_disease        0\n",
       "ever_married         0\n",
       "work_type            0\n",
       "Residence_type       0\n",
       "avg_glucose_level    0\n",
       "bmi                  0\n",
       "smoking_status       0\n",
       "stroke               0\n",
       "dtype: int64"
      ]
     },
     "execution_count": 23,
     "metadata": {},
     "output_type": "execute_result"
    }
   ],
   "source": [
    "data.isna().sum()"
   ]
  },
  {
   "cell_type": "markdown",
   "id": "02c389c5",
   "metadata": {},
   "source": [
    "Видно, что пропусков не осталось"
   ]
  },
  {
   "cell_type": "code",
   "execution_count": 24,
   "id": "97d06c2e",
   "metadata": {
    "scrolled": false
   },
   "outputs": [
    {
     "data": {
      "text/html": [
       "<div>\n",
       "<style scoped>\n",
       "    .dataframe tbody tr th:only-of-type {\n",
       "        vertical-align: middle;\n",
       "    }\n",
       "\n",
       "    .dataframe tbody tr th {\n",
       "        vertical-align: top;\n",
       "    }\n",
       "\n",
       "    .dataframe thead th {\n",
       "        text-align: right;\n",
       "    }\n",
       "</style>\n",
       "<table border=\"1\" class=\"dataframe\">\n",
       "  <thead>\n",
       "    <tr style=\"text-align: right;\">\n",
       "      <th></th>\n",
       "      <th>id</th>\n",
       "      <th>gender</th>\n",
       "      <th>age</th>\n",
       "      <th>hypertension</th>\n",
       "      <th>heart_disease</th>\n",
       "      <th>ever_married</th>\n",
       "      <th>work_type</th>\n",
       "      <th>Residence_type</th>\n",
       "      <th>avg_glucose_level</th>\n",
       "      <th>bmi</th>\n",
       "      <th>smoking_status</th>\n",
       "      <th>stroke</th>\n",
       "    </tr>\n",
       "  </thead>\n",
       "  <tbody>\n",
       "    <tr>\n",
       "      <th>249</th>\n",
       "      <td>-0.319097</td>\n",
       "      <td>1.223269</td>\n",
       "      <td>-2.613629</td>\n",
       "      <td>-0.503155</td>\n",
       "      <td>-0.394478</td>\n",
       "      <td>-2.028182</td>\n",
       "      <td>1.991244</td>\n",
       "      <td>1.015786</td>\n",
       "      <td>-0.499688</td>\n",
       "      <td>-1.695506</td>\n",
       "      <td>-1.441175</td>\n",
       "      <td>0</td>\n",
       "    </tr>\n",
       "    <tr>\n",
       "      <th>250</th>\n",
       "      <td>-0.328415</td>\n",
       "      <td>1.223269</td>\n",
       "      <td>0.009096</td>\n",
       "      <td>1.982670</td>\n",
       "      <td>-0.394478</td>\n",
       "      <td>0.491864</td>\n",
       "      <td>-0.072093</td>\n",
       "      <td>-0.982087</td>\n",
       "      <td>-0.621673</td>\n",
       "      <td>1.278865</td>\n",
       "      <td>0.513360</td>\n",
       "      <td>0</td>\n",
       "    </tr>\n",
       "    <tr>\n",
       "      <th>251</th>\n",
       "      <td>-0.974871</td>\n",
       "      <td>-0.815512</td>\n",
       "      <td>-2.375200</td>\n",
       "      <td>-0.503155</td>\n",
       "      <td>-0.394478</td>\n",
       "      <td>-2.028182</td>\n",
       "      <td>-0.072093</td>\n",
       "      <td>-0.982087</td>\n",
       "      <td>-0.231015</td>\n",
       "      <td>-1.751626</td>\n",
       "      <td>-1.441175</td>\n",
       "      <td>0</td>\n",
       "    </tr>\n",
       "    <tr>\n",
       "      <th>252</th>\n",
       "      <td>0.880358</td>\n",
       "      <td>-0.815512</td>\n",
       "      <td>0.581327</td>\n",
       "      <td>-0.503155</td>\n",
       "      <td>-0.394478</td>\n",
       "      <td>0.491864</td>\n",
       "      <td>-0.072093</td>\n",
       "      <td>1.015786</td>\n",
       "      <td>-0.944012</td>\n",
       "      <td>0.815873</td>\n",
       "      <td>-0.463908</td>\n",
       "      <td>0</td>\n",
       "    </tr>\n",
       "    <tr>\n",
       "      <th>253</th>\n",
       "      <td>0.397915</td>\n",
       "      <td>1.223269</td>\n",
       "      <td>-2.089084</td>\n",
       "      <td>-0.503155</td>\n",
       "      <td>-0.394478</td>\n",
       "      <td>-2.028182</td>\n",
       "      <td>-1.103761</td>\n",
       "      <td>1.015786</td>\n",
       "      <td>0.627479</td>\n",
       "      <td>-1.541176</td>\n",
       "      <td>-1.441175</td>\n",
       "      <td>0</td>\n",
       "    </tr>\n",
       "    <tr>\n",
       "      <th>...</th>\n",
       "      <td>...</td>\n",
       "      <td>...</td>\n",
       "      <td>...</td>\n",
       "      <td>...</td>\n",
       "      <td>...</td>\n",
       "      <td>...</td>\n",
       "      <td>...</td>\n",
       "      <td>...</td>\n",
       "      <td>...</td>\n",
       "      <td>...</td>\n",
       "      <td>...</td>\n",
       "      <td>...</td>\n",
       "    </tr>\n",
       "    <tr>\n",
       "      <th>244</th>\n",
       "      <td>-0.918500</td>\n",
       "      <td>1.223269</td>\n",
       "      <td>-0.038590</td>\n",
       "      <td>-0.503155</td>\n",
       "      <td>-0.394478</td>\n",
       "      <td>0.491864</td>\n",
       "      <td>-0.072093</td>\n",
       "      <td>1.015786</td>\n",
       "      <td>-0.672784</td>\n",
       "      <td>0.928114</td>\n",
       "      <td>-1.441175</td>\n",
       "      <td>1</td>\n",
       "    </tr>\n",
       "    <tr>\n",
       "      <th>245</th>\n",
       "      <td>0.561696</td>\n",
       "      <td>-0.815512</td>\n",
       "      <td>-2.089084</td>\n",
       "      <td>-0.503155</td>\n",
       "      <td>-0.394478</td>\n",
       "      <td>-2.028182</td>\n",
       "      <td>1.991244</td>\n",
       "      <td>1.015786</td>\n",
       "      <td>-1.133293</td>\n",
       "      <td>0.114370</td>\n",
       "      <td>-1.441175</td>\n",
       "      <td>1</td>\n",
       "    </tr>\n",
       "    <tr>\n",
       "      <th>246</th>\n",
       "      <td>-0.482090</td>\n",
       "      <td>-0.815512</td>\n",
       "      <td>0.819756</td>\n",
       "      <td>-0.503155</td>\n",
       "      <td>-0.394478</td>\n",
       "      <td>0.491864</td>\n",
       "      <td>0.959576</td>\n",
       "      <td>1.015786</td>\n",
       "      <td>-0.777731</td>\n",
       "      <td>-0.110110</td>\n",
       "      <td>-0.463908</td>\n",
       "      <td>1</td>\n",
       "    </tr>\n",
       "    <tr>\n",
       "      <th>247</th>\n",
       "      <td>-0.161898</td>\n",
       "      <td>1.223269</td>\n",
       "      <td>0.629013</td>\n",
       "      <td>1.982670</td>\n",
       "      <td>-0.394478</td>\n",
       "      <td>0.491864</td>\n",
       "      <td>0.959576</td>\n",
       "      <td>1.015786</td>\n",
       "      <td>-0.624398</td>\n",
       "      <td>-0.152201</td>\n",
       "      <td>-1.441175</td>\n",
       "      <td>1</td>\n",
       "    </tr>\n",
       "    <tr>\n",
       "      <th>248</th>\n",
       "      <td>0.272194</td>\n",
       "      <td>-0.815512</td>\n",
       "      <td>0.962814</td>\n",
       "      <td>-0.503155</td>\n",
       "      <td>-0.394478</td>\n",
       "      <td>0.491864</td>\n",
       "      <td>-0.072093</td>\n",
       "      <td>1.015786</td>\n",
       "      <td>-0.777561</td>\n",
       "      <td>-1.471025</td>\n",
       "      <td>-1.441175</td>\n",
       "      <td>1</td>\n",
       "    </tr>\n",
       "  </tbody>\n",
       "</table>\n",
       "<p>415 rows × 12 columns</p>\n",
       "</div>"
      ],
      "text/plain": [
       "           id    gender       age  hypertension  heart_disease  ever_married  \\\n",
       "249 -0.319097  1.223269 -2.613629     -0.503155      -0.394478     -2.028182   \n",
       "250 -0.328415  1.223269  0.009096      1.982670      -0.394478      0.491864   \n",
       "251 -0.974871 -0.815512 -2.375200     -0.503155      -0.394478     -2.028182   \n",
       "252  0.880358 -0.815512  0.581327     -0.503155      -0.394478      0.491864   \n",
       "253  0.397915  1.223269 -2.089084     -0.503155      -0.394478     -2.028182   \n",
       "..        ...       ...       ...           ...            ...           ...   \n",
       "244 -0.918500  1.223269 -0.038590     -0.503155      -0.394478      0.491864   \n",
       "245  0.561696 -0.815512 -2.089084     -0.503155      -0.394478     -2.028182   \n",
       "246 -0.482090 -0.815512  0.819756     -0.503155      -0.394478      0.491864   \n",
       "247 -0.161898  1.223269  0.629013      1.982670      -0.394478      0.491864   \n",
       "248  0.272194 -0.815512  0.962814     -0.503155      -0.394478      0.491864   \n",
       "\n",
       "     work_type  Residence_type  avg_glucose_level       bmi  smoking_status  \\\n",
       "249   1.991244        1.015786          -0.499688 -1.695506       -1.441175   \n",
       "250  -0.072093       -0.982087          -0.621673  1.278865        0.513360   \n",
       "251  -0.072093       -0.982087          -0.231015 -1.751626       -1.441175   \n",
       "252  -0.072093        1.015786          -0.944012  0.815873       -0.463908   \n",
       "253  -1.103761        1.015786           0.627479 -1.541176       -1.441175   \n",
       "..         ...             ...                ...       ...             ...   \n",
       "244  -0.072093        1.015786          -0.672784  0.928114       -1.441175   \n",
       "245   1.991244        1.015786          -1.133293  0.114370       -1.441175   \n",
       "246   0.959576        1.015786          -0.777731 -0.110110       -0.463908   \n",
       "247   0.959576        1.015786          -0.624398 -0.152201       -1.441175   \n",
       "248  -0.072093        1.015786          -0.777561 -1.471025       -1.441175   \n",
       "\n",
       "     stroke  \n",
       "249       0  \n",
       "250       0  \n",
       "251       0  \n",
       "252       0  \n",
       "253       0  \n",
       "..      ...  \n",
       "244       1  \n",
       "245       1  \n",
       "246       1  \n",
       "247       1  \n",
       "248       1  \n",
       "\n",
       "[415 rows x 12 columns]"
      ]
     },
     "execution_count": 24,
     "metadata": {},
     "output_type": "execute_result"
    }
   ],
   "source": [
    "data"
   ]
  },
  {
   "cell_type": "code",
   "execution_count": 25,
   "id": "da5751b9",
   "metadata": {},
   "outputs": [
    {
     "data": {
      "text/plain": [
       "<AxesSubplot:xlabel='stroke', ylabel='count'>"
      ]
     },
     "execution_count": 25,
     "metadata": {},
     "output_type": "execute_result"
    },
    {
     "data": {
      "image/png": "[encoded data removed]",
      "text/plain": [
       "<Figure size 432x288 with 1 Axes>"
      ]
     },
     "metadata": {
      "needs_background": "light"
     },
     "output_type": "display_data"
    }
   ],
   "source": [
    "sns.countplot(x='stroke', data=data)"
   ]
  },
  {
   "cell_type": "code",
   "execution_count": 26,
   "id": "d426b097",
   "metadata": {},
   "outputs": [],
   "source": [
    "#data_0 = data[data['stroke'] == 4.417948]\n",
    "#data_1 = data[data['stroke'] == -0.226305]\n",
    "#data_0 = data_0[0: data_1.shape[0]*2]\n",
    "#data0# меньше\n",
    "#data = pd.concat((data_0, data_1), axis = 0)"
   ]
  },
  {
   "cell_type": "code",
   "execution_count": 27,
   "id": "0c2713de",
   "metadata": {},
   "outputs": [],
   "source": [
    "#sns.countplot(x='stroke', data=data)"
   ]
  },
  {
   "cell_type": "markdown",
   "id": "259eddfa",
   "metadata": {},
   "source": [
    "## Разбиение данных на обучающую и тестовую выборки"
   ]
  },
  {
   "cell_type": "code",
   "execution_count": 28,
   "id": "e1b1013d",
   "metadata": {},
   "outputs": [],
   "source": [
    "data = data.sample(frac=1)\n",
    "X = data.drop('stroke', axis = 1)\n",
    "y = data['stroke']\n",
    "X = X.to_numpy()\n",
    "y = y.to_numpy(dtype='int32')\n",
    "\n"
   ]
  },
  {
   "cell_type": "code",
   "execution_count": 29,
   "id": "55119f5f",
   "metadata": {},
   "outputs": [
    {
     "data": {
      "text/plain": [
       "(415, 11)"
      ]
     },
     "execution_count": 29,
     "metadata": {},
     "output_type": "execute_result"
    }
   ],
   "source": [
    "X.shape"
   ]
  },
  {
   "cell_type": "code",
   "execution_count": 30,
   "id": "8bf92b5b",
   "metadata": {},
   "outputs": [
    {
     "data": {
      "text/plain": [
       "(415,)"
      ]
     },
     "execution_count": 30,
     "metadata": {},
     "output_type": "execute_result"
    }
   ],
   "source": [
    "y.shape"
   ]
  },
  {
   "cell_type": "code",
   "execution_count": 31,
   "id": "e879930e",
   "metadata": {},
   "outputs": [
    {
     "name": "stdout",
     "output_type": "stream",
     "text": [
      "290 125\n"
     ]
    }
   ],
   "source": [
    "from sklearn.model_selection import train_test_split\n",
    "\n",
    "X_train, X_test, y_train, y_test = train_test_split(X, y, test_size = 0.3, random_state = 42)\n",
    "\n",
    "N_train, _ = X_train.shape\n",
    "N_test,  _ = X_test.shape\n",
    "\n",
    "print(N_train, N_test)"
   ]
  },
  {
   "cell_type": "code",
   "execution_count": 32,
   "id": "fb6b359f",
   "metadata": {},
   "outputs": [
    {
     "data": {
      "text/plain": [
       "array([1, 0, 0, 1, 0, 1, 1, 1, 0, 1, 0, 1, 1, 1, 0, 0, 1, 1, 0, 0, 0, 0,\n",
       "       1, 0, 1, 0, 0, 1, 1, 0, 1, 0, 1, 0, 0, 1, 0, 1, 1, 0, 1, 1, 0, 1,\n",
       "       1, 1, 1, 1, 1, 1, 1, 1, 1, 1, 1, 1, 1, 1, 1, 1, 0, 0, 1, 0, 0, 1,\n",
       "       1, 1, 0, 1, 1, 1, 1, 1, 0, 1, 1, 0, 1, 1, 0, 0, 0, 0, 1, 1, 1, 1,\n",
       "       1, 0, 0, 1, 0, 0, 1, 1, 1, 1, 0, 0, 0, 1, 1, 0, 0, 1, 1, 1, 1, 0,\n",
       "       1, 1, 0, 0, 0, 1, 1, 0, 0, 0, 1, 0, 0, 1, 0])"
      ]
     },
     "execution_count": 32,
     "metadata": {},
     "output_type": "execute_result"
    }
   ],
   "source": [
    "y_test"
   ]
  },
  {
   "cell_type": "code",
   "execution_count": 33,
   "id": "164a476a",
   "metadata": {},
   "outputs": [
    {
     "data": {
      "text/plain": [
       "array([1, 0, 1, 0, 0, 1, 0, 1, 1, 1, 1, 0, 1, 0, 1, 0, 1, 0, 0, 1, 1, 1,\n",
       "       0, 1, 1, 1, 0, 1, 1, 0, 0, 1, 0, 1, 0, 1, 1, 0, 1, 0, 0, 0, 0, 1,\n",
       "       1, 0, 0, 0, 1, 1, 1, 0, 1, 1, 1, 1, 1, 1, 1, 0, 1, 0, 1, 1, 1, 1,\n",
       "       1, 1, 0, 1, 0, 1, 1, 0, 1, 0, 1, 1, 1, 1, 1, 1, 0, 1, 0, 1, 1, 0,\n",
       "       1, 1, 1, 0, 1, 1, 0, 1, 0, 1, 1, 1, 1, 1, 0, 0, 1, 1, 0, 1, 0, 1,\n",
       "       1, 1, 1, 0, 1, 0, 1, 0, 1, 0, 0, 0, 1, 1, 1, 0, 0, 1, 1, 1, 0, 1,\n",
       "       0, 1, 1, 1, 1, 1, 0, 0, 1, 0, 1, 0, 0, 1, 0, 0, 0, 1, 0, 1, 1, 0,\n",
       "       0, 1, 1, 0, 0, 1, 1, 1, 0, 1, 1, 1, 1, 1, 0, 1, 1, 1, 0, 0, 1, 0,\n",
       "       1, 0, 1, 1, 1, 1, 1, 1, 0, 0, 0, 1, 0, 1, 1, 1, 1, 1, 0, 0, 0, 1,\n",
       "       1, 0, 1, 1, 1, 1, 0, 1, 1, 1, 1, 0, 0, 1, 1, 1, 1, 1, 0, 1, 1, 0,\n",
       "       0, 0, 1, 0, 0, 1, 0, 0, 0, 1, 1, 1, 1, 1, 0, 0, 1, 1, 0, 1, 1, 0,\n",
       "       0, 1, 0, 1, 1, 0, 0, 1, 1, 1, 1, 1, 0, 1, 1, 0, 0, 0, 0, 1, 1, 0,\n",
       "       1, 1, 0, 0, 1, 0, 1, 0, 1, 1, 1, 0, 1, 1, 1, 1, 0, 0, 0, 1, 0, 0,\n",
       "       1, 0, 1, 0])"
      ]
     },
     "execution_count": 33,
     "metadata": {},
     "output_type": "execute_result"
    }
   ],
   "source": [
    "y_train"
   ]
  },
  {
   "cell_type": "code",
   "execution_count": 34,
   "id": "c37dd0a5",
   "metadata": {},
   "outputs": [
    {
     "data": {
      "text/plain": [
       "array([0, 1])"
      ]
     },
     "execution_count": 34,
     "metadata": {},
     "output_type": "execute_result"
    }
   ],
   "source": [
    "np.unique(y_test)"
   ]
  },
  {
   "cell_type": "code",
   "execution_count": 35,
   "id": "8f54c723",
   "metadata": {},
   "outputs": [
    {
     "data": {
      "text/plain": [
       "array([0, 1])"
      ]
     },
     "execution_count": 35,
     "metadata": {},
     "output_type": "execute_result"
    }
   ],
   "source": [
    "np.unique(y_train)"
   ]
  },
  {
   "cell_type": "markdown",
   "id": "33b58adb",
   "metadata": {},
   "source": [
    "# Обучаем классификатор"
   ]
  },
  {
   "cell_type": "markdown",
   "id": "14ddfd42",
   "metadata": {},
   "source": [
    "## 1 скрытный слой"
   ]
  },
  {
   "cell_type": "code",
   "execution_count": 36,
   "id": "5498b2c7",
   "metadata": {},
   "outputs": [],
   "source": [
    "from sklearn.neural_network import MLPClassifier"
   ]
  },
  {
   "cell_type": "code",
   "execution_count": 37,
   "id": "951ea7a7",
   "metadata": {},
   "outputs": [],
   "source": [
    "mlp_model = MLPClassifier(hidden_layer_sizes = (50,),\n",
    "                          solver = 'adam', \n",
    "                          activation = 'logistic',\n",
    "                          max_iter=2000,\n",
    "                          random_state = 42,\n",
    "                          verbose=1,\n",
    "                          tol=1e-4)"
   ]
  },
  {
   "cell_type": "code",
   "execution_count": 38,
   "id": "be703106",
   "metadata": {},
   "outputs": [
    {
     "name": "stdout",
     "output_type": "stream",
     "text": [
      "Iteration 1, loss = 0.88891755\n",
      "Iteration 2, loss = 0.87125194\n",
      "Iteration 3, loss = 0.85347680\n",
      "Iteration 4, loss = 0.83581099\n",
      "Iteration 5, loss = 0.81973203\n",
      "Iteration 6, loss = 0.80510892\n",
      "Iteration 7, loss = 0.78954938\n",
      "Iteration 8, loss = 0.77568879\n",
      "Iteration 9, loss = 0.76288591\n",
      "Iteration 10, loss = 0.75025151\n",
      "Iteration 11, loss = 0.73846215\n",
      "Iteration 12, loss = 0.72826868\n",
      "Iteration 13, loss = 0.71785359\n",
      "Iteration 14, loss = 0.70888404\n",
      "Iteration 15, loss = 0.70004792\n",
      "Iteration 16, loss = 0.69187296\n",
      "Iteration 17, loss = 0.68510612\n",
      "Iteration 18, loss = 0.67834363\n",
      "Iteration 19, loss = 0.67296526\n",
      "Iteration 20, loss = 0.66710661\n",
      "Iteration 21, loss = 0.66239911\n",
      "Iteration 22, loss = 0.65789431\n",
      "Iteration 23, loss = 0.65426014\n",
      "Iteration 24, loss = 0.65039836\n",
      "Iteration 25, loss = 0.64722063\n",
      "Iteration 26, loss = 0.64429738\n",
      "Iteration 27, loss = 0.64188003\n",
      "Iteration 28, loss = 0.63936139\n",
      "Iteration 29, loss = 0.63723533\n",
      "Iteration 30, loss = 0.63515862\n",
      "Iteration 31, loss = 0.63339233\n",
      "Iteration 32, loss = 0.63145219\n",
      "Iteration 33, loss = 0.62992342\n",
      "Iteration 34, loss = 0.62839779\n",
      "Iteration 35, loss = 0.62685146\n",
      "Iteration 36, loss = 0.62545153\n",
      "Iteration 37, loss = 0.62406558\n",
      "Iteration 38, loss = 0.62287809\n",
      "Iteration 39, loss = 0.62150061\n",
      "Iteration 40, loss = 0.62016612\n",
      "Iteration 41, loss = 0.61903476\n",
      "Iteration 42, loss = 0.61778686\n",
      "Iteration 43, loss = 0.61667878\n",
      "Iteration 44, loss = 0.61540629\n",
      "Iteration 45, loss = 0.61429034\n",
      "Iteration 46, loss = 0.61308363\n",
      "Iteration 47, loss = 0.61199858\n",
      "Iteration 48, loss = 0.61098911\n",
      "Iteration 49, loss = 0.60970664\n",
      "Iteration 50, loss = 0.60863776\n",
      "Iteration 51, loss = 0.60763741\n",
      "Iteration 52, loss = 0.60653336\n",
      "Iteration 53, loss = 0.60538889\n",
      "Iteration 54, loss = 0.60434843\n",
      "Iteration 55, loss = 0.60330679\n",
      "Iteration 56, loss = 0.60227471\n",
      "Iteration 57, loss = 0.60114809\n",
      "Iteration 58, loss = 0.60016938\n",
      "Iteration 59, loss = 0.59907366\n",
      "Iteration 60, loss = 0.59807937\n",
      "Iteration 61, loss = 0.59707191\n",
      "Iteration 62, loss = 0.59599081\n",
      "Iteration 63, loss = 0.59502706\n",
      "Iteration 64, loss = 0.59402450\n",
      "Iteration 65, loss = 0.59306309\n",
      "Iteration 66, loss = 0.59201383\n",
      "Iteration 67, loss = 0.59106097\n",
      "Iteration 68, loss = 0.59004690\n",
      "Iteration 69, loss = 0.58909869\n",
      "Iteration 70, loss = 0.58809271\n",
      "Iteration 71, loss = 0.58719616\n",
      "Iteration 72, loss = 0.58626668\n",
      "Iteration 73, loss = 0.58521171\n",
      "Iteration 74, loss = 0.58426555\n",
      "Iteration 75, loss = 0.58329161\n",
      "Iteration 76, loss = 0.58240589\n",
      "Iteration 77, loss = 0.58146203\n",
      "Iteration 78, loss = 0.58047643\n",
      "Iteration 79, loss = 0.57951805\n",
      "Iteration 80, loss = 0.57857598\n",
      "Iteration 81, loss = 0.57767942\n",
      "Iteration 82, loss = 0.57679131\n",
      "Iteration 83, loss = 0.57583217\n",
      "Iteration 84, loss = 0.57500267\n",
      "Iteration 85, loss = 0.57402800\n",
      "Iteration 86, loss = 0.57313825\n",
      "Iteration 87, loss = 0.57218145\n",
      "Iteration 88, loss = 0.57136806\n",
      "Iteration 89, loss = 0.57039034\n",
      "Iteration 90, loss = 0.56949202\n",
      "Iteration 91, loss = 0.56854702\n",
      "Iteration 92, loss = 0.56772586\n",
      "Iteration 93, loss = 0.56679227\n",
      "Iteration 94, loss = 0.56589559\n",
      "Iteration 95, loss = 0.56503513\n",
      "Iteration 96, loss = 0.56408481\n",
      "Iteration 97, loss = 0.56330652\n",
      "Iteration 98, loss = 0.56240619\n",
      "Iteration 99, loss = 0.56149671\n",
      "Iteration 100, loss = 0.56067746\n",
      "Iteration 101, loss = 0.55984734\n",
      "Iteration 102, loss = 0.55897218\n",
      "Iteration 103, loss = 0.55812586\n",
      "Iteration 104, loss = 0.55731502\n",
      "Iteration 105, loss = 0.55663518\n",
      "Iteration 106, loss = 0.55567036\n",
      "Iteration 107, loss = 0.55488416\n",
      "Iteration 108, loss = 0.55415458\n",
      "Iteration 109, loss = 0.55326468\n",
      "Iteration 110, loss = 0.55256589\n",
      "Iteration 111, loss = 0.55169756\n",
      "Iteration 112, loss = 0.55098265\n",
      "Iteration 113, loss = 0.55007683\n",
      "Iteration 114, loss = 0.54941891\n",
      "Iteration 115, loss = 0.54856534\n",
      "Iteration 116, loss = 0.54780907\n",
      "Iteration 117, loss = 0.54707565\n",
      "Iteration 118, loss = 0.54630767\n",
      "Iteration 119, loss = 0.54558816\n",
      "Iteration 120, loss = 0.54489131\n",
      "Iteration 121, loss = 0.54406571\n",
      "Iteration 122, loss = 0.54339719\n",
      "Iteration 123, loss = 0.54268105\n",
      "Iteration 124, loss = 0.54195750\n",
      "Iteration 125, loss = 0.54129541\n",
      "Iteration 126, loss = 0.54051434\n",
      "Iteration 127, loss = 0.53985105\n",
      "Iteration 128, loss = 0.53910722\n",
      "Iteration 129, loss = 0.53839609\n",
      "Iteration 130, loss = 0.53762042\n",
      "Iteration 131, loss = 0.53705451\n",
      "Iteration 132, loss = 0.53625834\n",
      "Iteration 133, loss = 0.53554044\n",
      "Iteration 134, loss = 0.53486224\n",
      "Iteration 135, loss = 0.53413832\n",
      "Iteration 136, loss = 0.53349982\n",
      "Iteration 137, loss = 0.53280380\n",
      "Iteration 138, loss = 0.53213370\n",
      "Iteration 139, loss = 0.53148008\n",
      "Iteration 140, loss = 0.53083025\n",
      "Iteration 141, loss = 0.53020504\n",
      "Iteration 142, loss = 0.52949790\n",
      "Iteration 143, loss = 0.52894345\n",
      "Iteration 144, loss = 0.52829807\n",
      "Iteration 145, loss = 0.52761426\n",
      "Iteration 146, loss = 0.52704065\n",
      "Iteration 147, loss = 0.52642560\n",
      "Iteration 148, loss = 0.52577981\n",
      "Iteration 149, loss = 0.52521944\n",
      "Iteration 150, loss = 0.52471006\n",
      "Iteration 151, loss = 0.52406146\n",
      "Iteration 152, loss = 0.52347978\n",
      "Iteration 153, loss = 0.52287288\n",
      "Iteration 154, loss = 0.52234734\n",
      "Iteration 155, loss = 0.52178400\n",
      "Iteration 156, loss = 0.52120312\n",
      "Iteration 157, loss = 0.52061071\n",
      "Iteration 158, loss = 0.52005701\n",
      "Iteration 159, loss = 0.51952566\n",
      "Iteration 160, loss = 0.51893705\n",
      "Iteration 161, loss = 0.51856619\n",
      "Iteration 162, loss = 0.51796172\n",
      "Iteration 163, loss = 0.51740579\n",
      "Iteration 164, loss = 0.51710465\n",
      "Iteration 165, loss = 0.51650801\n",
      "Iteration 166, loss = 0.51600424\n",
      "Iteration 167, loss = 0.51550714\n",
      "Iteration 168, loss = 0.51500264\n",
      "Iteration 169, loss = 0.51448222\n",
      "Iteration 170, loss = 0.51396816\n",
      "Iteration 171, loss = 0.51349967\n",
      "Iteration 172, loss = 0.51299028\n",
      "Iteration 173, loss = 0.51243419\n",
      "Iteration 174, loss = 0.51199056\n",
      "Iteration 175, loss = 0.51150826\n",
      "Iteration 176, loss = 0.51108732\n",
      "Iteration 177, loss = 0.51068038\n",
      "Iteration 178, loss = 0.51012912\n",
      "Iteration 179, loss = 0.50972294\n",
      "Iteration 180, loss = 0.50926607\n",
      "Iteration 181, loss = 0.50879782\n",
      "Iteration 182, loss = 0.50838707\n",
      "Iteration 183, loss = 0.50787149\n",
      "Iteration 184, loss = 0.50742195\n",
      "Iteration 185, loss = 0.50705445\n",
      "Iteration 186, loss = 0.50660731\n",
      "Iteration 187, loss = 0.50616041\n",
      "Iteration 188, loss = 0.50576394\n",
      "Iteration 189, loss = 0.50533834\n",
      "Iteration 190, loss = 0.50490001\n",
      "Iteration 191, loss = 0.50451425\n",
      "Iteration 192, loss = 0.50414427\n",
      "Iteration 193, loss = 0.50370826\n",
      "Iteration 194, loss = 0.50330430\n",
      "Iteration 195, loss = 0.50287407\n",
      "Iteration 196, loss = 0.50240490\n",
      "Iteration 197, loss = 0.50196672\n",
      "Iteration 198, loss = 0.50159031\n",
      "Iteration 199, loss = 0.50108539\n",
      "Iteration 200, loss = 0.50069447\n",
      "Iteration 201, loss = 0.50026997\n",
      "Iteration 202, loss = 0.49986351\n",
      "Iteration 203, loss = 0.49941607\n",
      "Iteration 204, loss = 0.49906142\n",
      "Iteration 205, loss = 0.49861551\n",
      "Iteration 206, loss = 0.49823166\n",
      "Iteration 207, loss = 0.49780608\n",
      "Iteration 208, loss = 0.49748517\n",
      "Iteration 209, loss = 0.49703981\n",
      "Iteration 210, loss = 0.49666800\n",
      "Iteration 211, loss = 0.49629577\n",
      "Iteration 212, loss = 0.49590970\n",
      "Iteration 213, loss = 0.49557255\n",
      "Iteration 214, loss = 0.49516820\n",
      "Iteration 215, loss = 0.49480343\n",
      "Iteration 216, loss = 0.49446057\n",
      "Iteration 217, loss = 0.49417198\n",
      "Iteration 218, loss = 0.49381118\n",
      "Iteration 219, loss = 0.49342193\n",
      "Iteration 220, loss = 0.49315335\n",
      "Iteration 221, loss = 0.49273775\n",
      "Iteration 222, loss = 0.49242226\n",
      "Iteration 223, loss = 0.49203366\n",
      "Iteration 224, loss = 0.49179708\n",
      "Iteration 225, loss = 0.49138353\n",
      "Iteration 226, loss = 0.49105662\n",
      "Iteration 227, loss = 0.49068041\n",
      "Iteration 228, loss = 0.49030438\n",
      "Iteration 229, loss = 0.49008189\n",
      "Iteration 230, loss = 0.48971113\n",
      "Iteration 231, loss = 0.48937986\n",
      "Iteration 232, loss = 0.48908378\n",
      "Iteration 233, loss = 0.48870485\n",
      "Iteration 234, loss = 0.48844111\n",
      "Iteration 235, loss = 0.48809652\n",
      "Iteration 236, loss = 0.48777983\n",
      "Iteration 237, loss = 0.48747264\n",
      "Iteration 238, loss = 0.48717898\n",
      "Iteration 239, loss = 0.48686798\n",
      "Iteration 240, loss = 0.48654418\n",
      "Iteration 241, loss = 0.48634057\n",
      "Iteration 242, loss = 0.48596291\n",
      "Iteration 243, loss = 0.48566145\n",
      "Iteration 244, loss = 0.48534681\n",
      "Iteration 245, loss = 0.48501061\n",
      "Iteration 246, loss = 0.48474791\n",
      "Iteration 247, loss = 0.48442937\n",
      "Iteration 248, loss = 0.48412006\n",
      "Iteration 249, loss = 0.48383455\n",
      "Iteration 250, loss = 0.48350648\n",
      "Iteration 251, loss = 0.48326401\n",
      "Iteration 252, loss = 0.48296600\n",
      "Iteration 253, loss = 0.48269381\n",
      "Iteration 254, loss = 0.48240060\n",
      "Iteration 255, loss = 0.48212772\n",
      "Iteration 256, loss = 0.48186274\n",
      "Iteration 257, loss = 0.48154150\n",
      "Iteration 258, loss = 0.48132375\n",
      "Iteration 259, loss = 0.48101309\n",
      "Iteration 260, loss = 0.48074464\n",
      "Iteration 261, loss = 0.48047574\n",
      "Iteration 262, loss = 0.48024289\n",
      "Iteration 263, loss = 0.47997626\n",
      "Iteration 264, loss = 0.47968037\n",
      "Iteration 265, loss = 0.47943227\n",
      "Iteration 266, loss = 0.47915910\n",
      "Iteration 267, loss = 0.47892075\n",
      "Iteration 268, loss = 0.47873921\n",
      "Iteration 269, loss = 0.47846214\n",
      "Iteration 270, loss = 0.47816428\n",
      "Iteration 271, loss = 0.47792451\n",
      "Iteration 272, loss = 0.47771921\n",
      "Iteration 273, loss = 0.47747984\n",
      "Iteration 274, loss = 0.47721198\n",
      "Iteration 275, loss = 0.47704273\n",
      "Iteration 276, loss = 0.47675773\n",
      "Iteration 277, loss = 0.47650527\n",
      "Iteration 278, loss = 0.47624333\n",
      "Iteration 279, loss = 0.47602707\n",
      "Iteration 280, loss = 0.47577490\n",
      "Iteration 281, loss = 0.47551656\n",
      "Iteration 282, loss = 0.47527088\n",
      "Iteration 283, loss = 0.47500914\n",
      "Iteration 284, loss = 0.47481315\n",
      "Iteration 285, loss = 0.47457946\n",
      "Iteration 286, loss = 0.47434036\n",
      "Iteration 287, loss = 0.47416887\n",
      "Iteration 288, loss = 0.47387298\n"
     ]
    },
    {
     "name": "stdout",
     "output_type": "stream",
     "text": [
      "Iteration 289, loss = 0.47366536\n",
      "Iteration 290, loss = 0.47346782\n",
      "Iteration 291, loss = 0.47326142\n",
      "Iteration 292, loss = 0.47302809\n",
      "Iteration 293, loss = 0.47276518\n",
      "Iteration 294, loss = 0.47260545\n",
      "Iteration 295, loss = 0.47245469\n",
      "Iteration 296, loss = 0.47217442\n",
      "Iteration 297, loss = 0.47196882\n",
      "Iteration 298, loss = 0.47176747\n",
      "Iteration 299, loss = 0.47158232\n",
      "Iteration 300, loss = 0.47134602\n",
      "Iteration 301, loss = 0.47115303\n",
      "Iteration 302, loss = 0.47097493\n",
      "Iteration 303, loss = 0.47074383\n",
      "Iteration 304, loss = 0.47054819\n",
      "Iteration 305, loss = 0.47032974\n",
      "Iteration 306, loss = 0.47011170\n",
      "Iteration 307, loss = 0.47001664\n",
      "Iteration 308, loss = 0.46970573\n",
      "Iteration 309, loss = 0.46953487\n",
      "Iteration 310, loss = 0.46934435\n",
      "Iteration 311, loss = 0.46916920\n",
      "Iteration 312, loss = 0.46906907\n",
      "Iteration 313, loss = 0.46878617\n",
      "Iteration 314, loss = 0.46859711\n",
      "Iteration 315, loss = 0.46841118\n",
      "Iteration 316, loss = 0.46822182\n",
      "Iteration 317, loss = 0.46808730\n",
      "Iteration 318, loss = 0.46787443\n",
      "Iteration 319, loss = 0.46772249\n",
      "Iteration 320, loss = 0.46753681\n",
      "Iteration 321, loss = 0.46740396\n",
      "Iteration 322, loss = 0.46718106\n",
      "Iteration 323, loss = 0.46701588\n",
      "Iteration 324, loss = 0.46687742\n",
      "Iteration 325, loss = 0.46670344\n",
      "Iteration 326, loss = 0.46659638\n",
      "Iteration 327, loss = 0.46645350\n",
      "Iteration 328, loss = 0.46630247\n",
      "Iteration 329, loss = 0.46622211\n",
      "Iteration 330, loss = 0.46613848\n",
      "Iteration 331, loss = 0.46599737\n",
      "Iteration 332, loss = 0.46587866\n",
      "Iteration 333, loss = 0.46571846\n",
      "Iteration 334, loss = 0.46553561\n",
      "Iteration 335, loss = 0.46538623\n",
      "Iteration 336, loss = 0.46518114\n",
      "Iteration 337, loss = 0.46504913\n",
      "Iteration 338, loss = 0.46487132\n",
      "Iteration 339, loss = 0.46468167\n",
      "Iteration 340, loss = 0.46449995\n",
      "Iteration 341, loss = 0.46434737\n",
      "Iteration 342, loss = 0.46417254\n",
      "Iteration 343, loss = 0.46401698\n",
      "Iteration 344, loss = 0.46388089\n",
      "Iteration 345, loss = 0.46389973\n",
      "Iteration 346, loss = 0.46369382\n",
      "Iteration 347, loss = 0.46360326\n",
      "Iteration 348, loss = 0.46344880\n",
      "Iteration 349, loss = 0.46338034\n",
      "Iteration 350, loss = 0.46321561\n",
      "Iteration 351, loss = 0.46312057\n",
      "Iteration 352, loss = 0.46298910\n",
      "Iteration 353, loss = 0.46281971\n",
      "Iteration 354, loss = 0.46269856\n",
      "Iteration 355, loss = 0.46253342\n",
      "Iteration 356, loss = 0.46250439\n",
      "Iteration 357, loss = 0.46235477\n",
      "Iteration 358, loss = 0.46224189\n",
      "Iteration 359, loss = 0.46209944\n",
      "Iteration 360, loss = 0.46203750\n",
      "Iteration 361, loss = 0.46192213\n",
      "Iteration 362, loss = 0.46182723\n",
      "Iteration 363, loss = 0.46173628\n",
      "Iteration 364, loss = 0.46161367\n",
      "Iteration 365, loss = 0.46149297\n",
      "Iteration 366, loss = 0.46137360\n",
      "Iteration 367, loss = 0.46137568\n",
      "Iteration 368, loss = 0.46120537\n",
      "Iteration 369, loss = 0.46119106\n",
      "Iteration 370, loss = 0.46112855\n",
      "Iteration 371, loss = 0.46094352\n",
      "Iteration 372, loss = 0.46084630\n",
      "Iteration 373, loss = 0.46074426\n",
      "Iteration 374, loss = 0.46068896\n",
      "Iteration 375, loss = 0.46062339\n",
      "Iteration 376, loss = 0.46057337\n",
      "Iteration 377, loss = 0.46048445\n",
      "Iteration 378, loss = 0.46041878\n",
      "Iteration 379, loss = 0.46035565\n",
      "Iteration 380, loss = 0.46022968\n",
      "Iteration 381, loss = 0.46020278\n",
      "Iteration 382, loss = 0.46009893\n",
      "Iteration 383, loss = 0.46006921\n",
      "Iteration 384, loss = 0.45996507\n",
      "Iteration 385, loss = 0.45989620\n",
      "Iteration 386, loss = 0.45984523\n",
      "Iteration 387, loss = 0.45971815\n",
      "Iteration 388, loss = 0.45962685\n",
      "Iteration 389, loss = 0.45955524\n",
      "Iteration 390, loss = 0.45948493\n",
      "Iteration 391, loss = 0.45934357\n",
      "Iteration 392, loss = 0.45926172\n",
      "Iteration 393, loss = 0.45919915\n",
      "Iteration 394, loss = 0.45908491\n",
      "Iteration 395, loss = 0.45901923\n",
      "Iteration 396, loss = 0.45895318\n",
      "Iteration 397, loss = 0.45890982\n",
      "Iteration 398, loss = 0.45881735\n",
      "Iteration 399, loss = 0.45874134\n",
      "Iteration 400, loss = 0.45867626\n",
      "Iteration 401, loss = 0.45859350\n",
      "Iteration 402, loss = 0.45857830\n",
      "Iteration 403, loss = 0.45848258\n",
      "Iteration 404, loss = 0.45841145\n",
      "Iteration 405, loss = 0.45836192\n",
      "Training loss did not improve more than tol=0.000100 for 10 consecutive epochs. Stopping.\n",
      "Wall time: 2.04 s\n"
     ]
    },
    {
     "data": {
      "text/plain": [
       "MLPClassifier(activation='logistic', hidden_layer_sizes=(50,), max_iter=2000,\n",
       "              random_state=42, verbose=1)"
      ]
     },
     "execution_count": 38,
     "metadata": {},
     "output_type": "execute_result"
    }
   ],
   "source": [
    "%%time\n",
    "mlp_model.fit(X_train, y_train)"
   ]
  },
  {
   "cell_type": "markdown",
   "id": "a786c2eb",
   "metadata": {},
   "source": [
    "Ошибки на тестовой выборке"
   ]
  },
  {
   "cell_type": "code",
   "execution_count": 39,
   "id": "86811c3b",
   "metadata": {},
   "outputs": [
    {
     "data": {
      "text/plain": [
       "0.248"
      ]
     },
     "execution_count": 39,
     "metadata": {},
     "output_type": "execute_result"
    }
   ],
   "source": [
    "y_test_pred = mlp_model.predict(X_test)\n",
    "err_test  = np.mean(y_test  != y_test_pred)\n",
    "err_test"
   ]
  },
  {
   "cell_type": "markdown",
   "id": "d357495c",
   "metadata": {},
   "source": [
    "Ошибки на тренировочной выборке"
   ]
  },
  {
   "cell_type": "code",
   "execution_count": 40,
   "id": "65b4080e",
   "metadata": {},
   "outputs": [
    {
     "data": {
      "text/plain": [
       "0.20344827586206896"
      ]
     },
     "execution_count": 40,
     "metadata": {},
     "output_type": "execute_result"
    }
   ],
   "source": [
    "y_train_pred = mlp_model.predict(X_train)\n",
    "err_train  = np.mean(y_train  != y_train_pred)\n",
    "err_train"
   ]
  },
  {
   "cell_type": "markdown",
   "id": "64a556d4",
   "metadata": {},
   "source": [
    "## 2 скрытых слоя"
   ]
  },
  {
   "cell_type": "code",
   "execution_count": 41,
   "id": "299dac33",
   "metadata": {},
   "outputs": [],
   "source": [
    "from sklearn.neural_network import MLPClassifier\n",
    "\n",
    "mlp_model = MLPClassifier(hidden_layer_sizes = (50, 12),\n",
    "                          solver = 'adam', \n",
    "                          activation = 'logistic',\n",
    "                          max_iter=2000,\n",
    "                          random_state = 42,\n",
    "                          verbose=1,\n",
    "                          tol=1e-4)"
   ]
  },
  {
   "cell_type": "code",
   "execution_count": 42,
   "id": "e123a883",
   "metadata": {},
   "outputs": [
    {
     "name": "stdout",
     "output_type": "stream",
     "text": [
      "Iteration 1, loss = 0.70080673\n",
      "Iteration 2, loss = 0.69489276\n",
      "Iteration 3, loss = 0.68958018\n",
      "Iteration 4, loss = 0.68448908\n",
      "Iteration 5, loss = 0.68119398\n",
      "Iteration 6, loss = 0.67750247\n",
      "Iteration 7, loss = 0.67456810\n",
      "Iteration 8, loss = 0.67182980\n",
      "Iteration 9, loss = 0.66985456\n",
      "Iteration 10, loss = 0.66844609\n",
      "Iteration 11, loss = 0.66754463\n",
      "Iteration 12, loss = 0.66650749\n",
      "Iteration 13, loss = 0.66552370\n",
      "Iteration 14, loss = 0.66538797\n",
      "Iteration 15, loss = 0.66478692\n",
      "Iteration 16, loss = 0.66443948\n",
      "Iteration 17, loss = 0.66390418\n",
      "Iteration 18, loss = 0.66335807\n",
      "Iteration 19, loss = 0.66278198\n",
      "Iteration 20, loss = 0.66223264\n",
      "Iteration 21, loss = 0.66168336\n",
      "Iteration 22, loss = 0.66105838\n",
      "Iteration 23, loss = 0.66044464\n",
      "Iteration 24, loss = 0.65981751\n",
      "Iteration 25, loss = 0.65916352\n",
      "Iteration 26, loss = 0.65851548\n",
      "Iteration 27, loss = 0.65779447\n",
      "Iteration 28, loss = 0.65708356\n",
      "Iteration 29, loss = 0.65641398\n",
      "Iteration 30, loss = 0.65571064\n",
      "Iteration 31, loss = 0.65493384\n",
      "Iteration 32, loss = 0.65422658\n",
      "Iteration 33, loss = 0.65346743\n",
      "Iteration 34, loss = 0.65266107\n",
      "Iteration 35, loss = 0.65185166\n",
      "Iteration 36, loss = 0.65104241\n",
      "Iteration 37, loss = 0.65019993\n",
      "Iteration 38, loss = 0.64935797\n",
      "Iteration 39, loss = 0.64842266\n",
      "Iteration 40, loss = 0.64748466\n",
      "Iteration 41, loss = 0.64650202\n",
      "Iteration 42, loss = 0.64552397\n",
      "Iteration 43, loss = 0.64447304\n",
      "Iteration 44, loss = 0.64348845\n",
      "Iteration 45, loss = 0.64239406\n",
      "Iteration 46, loss = 0.64127087\n",
      "Iteration 47, loss = 0.64012102\n",
      "Iteration 48, loss = 0.63889958\n",
      "Iteration 49, loss = 0.63776397\n",
      "Iteration 50, loss = 0.63653602\n",
      "Iteration 51, loss = 0.63522990\n",
      "Iteration 52, loss = 0.63389111\n",
      "Iteration 53, loss = 0.63259934\n",
      "Iteration 54, loss = 0.63129711\n",
      "Iteration 55, loss = 0.62983836\n",
      "Iteration 56, loss = 0.62844200\n",
      "Iteration 57, loss = 0.62694770\n",
      "Iteration 58, loss = 0.62547377\n",
      "Iteration 59, loss = 0.62397310\n",
      "Iteration 60, loss = 0.62233437\n",
      "Iteration 61, loss = 0.62083622\n",
      "Iteration 62, loss = 0.61929854\n",
      "Iteration 63, loss = 0.61751562\n",
      "Iteration 64, loss = 0.61581144\n",
      "Iteration 65, loss = 0.61421909\n",
      "Iteration 66, loss = 0.61242504\n",
      "Iteration 67, loss = 0.61080726\n",
      "Iteration 68, loss = 0.60911946\n",
      "Iteration 69, loss = 0.60738577\n",
      "Iteration 70, loss = 0.60584571\n",
      "Iteration 71, loss = 0.60407658\n",
      "Iteration 72, loss = 0.60228068\n",
      "Iteration 73, loss = 0.60053848\n",
      "Iteration 74, loss = 0.59858440\n",
      "Iteration 75, loss = 0.59699237\n",
      "Iteration 76, loss = 0.59496946\n",
      "Iteration 77, loss = 0.59302376\n",
      "Iteration 78, loss = 0.59141391\n",
      "Iteration 79, loss = 0.58943956\n",
      "Iteration 80, loss = 0.58761014\n",
      "Iteration 81, loss = 0.58584429\n",
      "Iteration 82, loss = 0.58399874\n",
      "Iteration 83, loss = 0.58216281\n",
      "Iteration 84, loss = 0.58028374\n",
      "Iteration 85, loss = 0.57848812\n",
      "Iteration 86, loss = 0.57663061\n",
      "Iteration 87, loss = 0.57482732\n",
      "Iteration 88, loss = 0.57300094\n",
      "Iteration 89, loss = 0.57118042\n",
      "Iteration 90, loss = 0.56934253\n",
      "Iteration 91, loss = 0.56769110\n",
      "Iteration 92, loss = 0.56571928\n",
      "Iteration 93, loss = 0.56397275\n",
      "Iteration 94, loss = 0.56234778\n",
      "Iteration 95, loss = 0.56056779\n",
      "Iteration 96, loss = 0.55892272\n",
      "Iteration 97, loss = 0.55723689\n",
      "Iteration 98, loss = 0.55566343\n",
      "Iteration 99, loss = 0.55395885\n",
      "Iteration 100, loss = 0.55233340\n",
      "Iteration 101, loss = 0.55073269\n",
      "Iteration 102, loss = 0.54905710\n",
      "Iteration 103, loss = 0.54750553\n",
      "Iteration 104, loss = 0.54596711\n",
      "Iteration 105, loss = 0.54440689\n",
      "Iteration 106, loss = 0.54301506\n",
      "Iteration 107, loss = 0.54161469\n",
      "Iteration 108, loss = 0.54019348\n",
      "Iteration 109, loss = 0.53876664\n",
      "Iteration 110, loss = 0.53732031\n",
      "Iteration 111, loss = 0.53617866\n",
      "Iteration 112, loss = 0.53461222\n",
      "Iteration 113, loss = 0.53326775\n",
      "Iteration 114, loss = 0.53206426\n",
      "Iteration 115, loss = 0.53073975\n",
      "Iteration 116, loss = 0.52964288\n",
      "Iteration 117, loss = 0.52831957\n",
      "Iteration 118, loss = 0.52710008\n",
      "Iteration 119, loss = 0.52604547\n",
      "Iteration 120, loss = 0.52477876\n",
      "Iteration 121, loss = 0.52371214\n",
      "Iteration 122, loss = 0.52257440\n",
      "Iteration 123, loss = 0.52149828\n",
      "Iteration 124, loss = 0.52046328\n",
      "Iteration 125, loss = 0.51930282\n",
      "Iteration 126, loss = 0.51828664\n",
      "Iteration 127, loss = 0.51730129\n",
      "Iteration 128, loss = 0.51625331\n",
      "Iteration 129, loss = 0.51530452\n",
      "Iteration 130, loss = 0.51433260\n",
      "Iteration 131, loss = 0.51334543\n",
      "Iteration 132, loss = 0.51235859\n",
      "Iteration 133, loss = 0.51147334\n",
      "Iteration 134, loss = 0.51053262\n",
      "Iteration 135, loss = 0.50954355\n",
      "Iteration 136, loss = 0.50862818\n",
      "Iteration 137, loss = 0.50766987\n",
      "Iteration 138, loss = 0.50697055\n",
      "Iteration 139, loss = 0.50594021\n",
      "Iteration 140, loss = 0.50510593\n",
      "Iteration 141, loss = 0.50420572\n",
      "Iteration 142, loss = 0.50339387\n",
      "Iteration 143, loss = 0.50259704\n",
      "Iteration 144, loss = 0.50185789\n",
      "Iteration 145, loss = 0.50107541\n",
      "Iteration 146, loss = 0.50025897\n",
      "Iteration 147, loss = 0.49949799\n",
      "Iteration 148, loss = 0.49875988\n",
      "Iteration 149, loss = 0.49812331\n",
      "Iteration 150, loss = 0.49748344\n",
      "Iteration 151, loss = 0.49677823\n",
      "Iteration 152, loss = 0.49607979\n",
      "Iteration 153, loss = 0.49529000\n",
      "Iteration 154, loss = 0.49466800\n",
      "Iteration 155, loss = 0.49392602\n",
      "Iteration 156, loss = 0.49336251\n",
      "Iteration 157, loss = 0.49276964\n",
      "Iteration 158, loss = 0.49225681\n",
      "Iteration 159, loss = 0.49160287\n",
      "Iteration 160, loss = 0.49114358\n",
      "Iteration 161, loss = 0.49044912\n",
      "Iteration 162, loss = 0.48988431\n",
      "Iteration 163, loss = 0.48915453\n",
      "Iteration 164, loss = 0.48855840\n",
      "Iteration 165, loss = 0.48792916\n",
      "Iteration 166, loss = 0.48733931\n",
      "Iteration 167, loss = 0.48691223\n",
      "Iteration 168, loss = 0.48622884\n",
      "Iteration 169, loss = 0.48570652\n",
      "Iteration 170, loss = 0.48508766\n",
      "Iteration 171, loss = 0.48460560\n",
      "Iteration 172, loss = 0.48403967\n",
      "Iteration 173, loss = 0.48351800\n",
      "Iteration 174, loss = 0.48306404\n",
      "Iteration 175, loss = 0.48253669\n",
      "Iteration 176, loss = 0.48208118\n",
      "Iteration 177, loss = 0.48166172\n",
      "Iteration 178, loss = 0.48111259\n",
      "Iteration 179, loss = 0.48059345\n",
      "Iteration 180, loss = 0.48023018\n",
      "Iteration 181, loss = 0.47970072\n",
      "Iteration 182, loss = 0.47924816\n",
      "Iteration 183, loss = 0.47882161\n",
      "Iteration 184, loss = 0.47834849\n",
      "Iteration 185, loss = 0.47786368\n",
      "Iteration 186, loss = 0.47744092\n",
      "Iteration 187, loss = 0.47707397\n",
      "Iteration 188, loss = 0.47655766\n",
      "Iteration 189, loss = 0.47617185\n",
      "Iteration 190, loss = 0.47572551\n",
      "Iteration 191, loss = 0.47536607\n",
      "Iteration 192, loss = 0.47499346\n",
      "Iteration 193, loss = 0.47448067\n",
      "Iteration 194, loss = 0.47412520\n",
      "Iteration 195, loss = 0.47387108\n",
      "Iteration 196, loss = 0.47350624\n",
      "Iteration 197, loss = 0.47315516\n",
      "Iteration 198, loss = 0.47274757\n",
      "Iteration 199, loss = 0.47234372\n",
      "Iteration 200, loss = 0.47212742\n",
      "Iteration 201, loss = 0.47167290\n",
      "Iteration 202, loss = 0.47132706\n",
      "Iteration 203, loss = 0.47096818\n",
      "Iteration 204, loss = 0.47071120\n",
      "Iteration 205, loss = 0.47032765\n",
      "Iteration 206, loss = 0.47011611\n",
      "Iteration 207, loss = 0.46986405\n",
      "Iteration 208, loss = 0.46945045\n",
      "Iteration 209, loss = 0.46925781\n",
      "Iteration 210, loss = 0.46886047\n",
      "Iteration 211, loss = 0.46868067\n",
      "Iteration 212, loss = 0.46849606\n",
      "Iteration 213, loss = 0.46819671\n",
      "Iteration 214, loss = 0.46790251\n",
      "Iteration 215, loss = 0.46759543\n",
      "Iteration 216, loss = 0.46734698\n",
      "Iteration 217, loss = 0.46708560\n",
      "Iteration 218, loss = 0.46693540\n",
      "Iteration 219, loss = 0.46673208\n",
      "Iteration 220, loss = 0.46649598\n",
      "Iteration 221, loss = 0.46613253\n",
      "Iteration 222, loss = 0.46592974\n",
      "Iteration 223, loss = 0.46564655\n",
      "Iteration 224, loss = 0.46549478\n",
      "Iteration 225, loss = 0.46525475\n",
      "Iteration 226, loss = 0.46499571\n",
      "Iteration 227, loss = 0.46486622\n",
      "Iteration 228, loss = 0.46453044\n",
      "Iteration 229, loss = 0.46439609\n",
      "Iteration 230, loss = 0.46423082\n",
      "Iteration 231, loss = 0.46403452\n",
      "Iteration 232, loss = 0.46380924\n",
      "Iteration 233, loss = 0.46360619\n",
      "Iteration 234, loss = 0.46333789\n",
      "Iteration 235, loss = 0.46321791\n",
      "Iteration 236, loss = 0.46297917\n",
      "Iteration 237, loss = 0.46313860\n",
      "Iteration 238, loss = 0.46265548\n",
      "Iteration 239, loss = 0.46246059\n",
      "Iteration 240, loss = 0.46233083\n",
      "Iteration 241, loss = 0.46224739\n",
      "Iteration 242, loss = 0.46227029\n",
      "Iteration 243, loss = 0.46194269\n",
      "Iteration 244, loss = 0.46184186\n",
      "Iteration 245, loss = 0.46165631\n",
      "Iteration 246, loss = 0.46151865\n",
      "Iteration 247, loss = 0.46136271\n",
      "Iteration 248, loss = 0.46125098\n",
      "Iteration 249, loss = 0.46130333\n",
      "Iteration 250, loss = 0.46106558\n",
      "Iteration 251, loss = 0.46083957\n",
      "Iteration 252, loss = 0.46070533\n",
      "Iteration 253, loss = 0.46062813\n",
      "Iteration 254, loss = 0.46055060\n",
      "Iteration 255, loss = 0.46039117\n",
      "Iteration 256, loss = 0.46025234\n",
      "Iteration 257, loss = 0.46014266\n",
      "Iteration 258, loss = 0.46001929\n",
      "Iteration 259, loss = 0.45990927\n",
      "Iteration 260, loss = 0.45987001\n",
      "Iteration 261, loss = 0.45977742\n",
      "Iteration 262, loss = 0.45964897\n",
      "Iteration 263, loss = 0.45951029\n",
      "Iteration 264, loss = 0.45953170\n",
      "Iteration 265, loss = 0.45938517\n",
      "Iteration 266, loss = 0.45935923\n",
      "Iteration 267, loss = 0.45943571\n",
      "Iteration 268, loss = 0.45920171\n",
      "Iteration 269, loss = 0.45909986\n",
      "Iteration 270, loss = 0.45902585\n",
      "Iteration 271, loss = 0.45877171\n",
      "Iteration 272, loss = 0.45875076\n",
      "Iteration 273, loss = 0.45862677\n",
      "Iteration 274, loss = 0.45857268\n",
      "Iteration 275, loss = 0.45856691\n",
      "Iteration 276, loss = 0.45844597\n"
     ]
    },
    {
     "name": "stdout",
     "output_type": "stream",
     "text": [
      "Iteration 277, loss = 0.45833487\n",
      "Iteration 278, loss = 0.45823433\n",
      "Iteration 279, loss = 0.45813290\n",
      "Iteration 280, loss = 0.45807341\n",
      "Iteration 281, loss = 0.45798491\n",
      "Iteration 282, loss = 0.45800993\n",
      "Iteration 283, loss = 0.45793579\n",
      "Iteration 284, loss = 0.45784164\n",
      "Iteration 285, loss = 0.45773936\n",
      "Iteration 286, loss = 0.45763474\n",
      "Iteration 287, loss = 0.45773249\n",
      "Iteration 288, loss = 0.45767810\n",
      "Iteration 289, loss = 0.45761667\n",
      "Iteration 290, loss = 0.45767285\n",
      "Iteration 291, loss = 0.45768983\n",
      "Iteration 292, loss = 0.45786107\n",
      "Iteration 293, loss = 0.45776704\n",
      "Iteration 294, loss = 0.45762981\n",
      "Iteration 295, loss = 0.45744151\n",
      "Iteration 296, loss = 0.45737284\n",
      "Iteration 297, loss = 0.45718609\n",
      "Iteration 298, loss = 0.45697087\n",
      "Iteration 299, loss = 0.45720186\n",
      "Iteration 300, loss = 0.45704003\n",
      "Iteration 301, loss = 0.45689036\n",
      "Iteration 302, loss = 0.45687955\n",
      "Iteration 303, loss = 0.45678449\n",
      "Iteration 304, loss = 0.45677188\n",
      "Iteration 305, loss = 0.45668778\n",
      "Iteration 306, loss = 0.45675493\n",
      "Iteration 307, loss = 0.45665198\n",
      "Iteration 308, loss = 0.45656743\n",
      "Iteration 309, loss = 0.45655468\n",
      "Training loss did not improve more than tol=0.000100 for 10 consecutive epochs. Stopping.\n",
      "Wall time: 1.68 s\n"
     ]
    },
    {
     "data": {
      "text/plain": [
       "MLPClassifier(activation='logistic', hidden_layer_sizes=(50, 12), max_iter=2000,\n",
       "              random_state=42, verbose=1)"
      ]
     },
     "execution_count": 42,
     "metadata": {},
     "output_type": "execute_result"
    }
   ],
   "source": [
    "%%time\n",
    "mlp_model.fit(X_train, y_train)"
   ]
  },
  {
   "cell_type": "markdown",
   "id": "3887eb22",
   "metadata": {},
   "source": [
    "Ошибки на тестовой выборке"
   ]
  },
  {
   "cell_type": "code",
   "execution_count": 43,
   "id": "31b54fc5",
   "metadata": {},
   "outputs": [
    {
     "data": {
      "text/plain": [
       "0.248"
      ]
     },
     "execution_count": 43,
     "metadata": {},
     "output_type": "execute_result"
    }
   ],
   "source": [
    "y_test_predict = mlp_model.predict(X_test)\n",
    "err_test  = np.mean(y_test  != y_test_predict)\n",
    "err_test"
   ]
  },
  {
   "cell_type": "markdown",
   "id": "431f93eb",
   "metadata": {},
   "source": [
    "Ошибки на тренировочной выборке"
   ]
  },
  {
   "cell_type": "code",
   "execution_count": 44,
   "id": "1ca431a3",
   "metadata": {},
   "outputs": [
    {
     "data": {
      "text/plain": [
       "0.19310344827586207"
      ]
     },
     "execution_count": 44,
     "metadata": {},
     "output_type": "execute_result"
    }
   ],
   "source": [
    "y_train_predict = mlp_model.predict(X_train)\n",
    "err_train  = np.mean(y_train  != y_train_predict)\n",
    "err_train"
   ]
  },
  {
   "cell_type": "markdown",
   "id": "96f6d084",
   "metadata": {},
   "source": [
    "# Подберем оптимальное значение параметра регуляризации alpha\n",
    "## 1 скрытый слой"
   ]
  },
  {
   "cell_type": "code",
   "execution_count": 45,
   "id": "137cab60",
   "metadata": {},
   "outputs": [
    {
     "name": "stderr",
     "output_type": "stream",
     "text": [
      "C:\\TEMP/ipykernel_12424/3799792417.py:9: TqdmDeprecationWarning: This function will be removed in tqdm==5.0.0\n",
      "Please use `tqdm.notebook.tqdm` instead of `tqdm.tqdm_notebook`\n",
      "  for alpha in tqdm.tqdm_notebook(alpha_arr):\n"
     ]
    },
    {
     "data": {
      "application/vnd.jupyter.widget-view+json": {
       "model_id": "6828ea2376d64aed8357cd78e07f3b45",
       "version_major": 2,
       "version_minor": 0
      },
      "text/plain": [
       "  0%|          | 0/21 [00:00<?, ?it/s]"
      ]
     },
     "metadata": {},
     "output_type": "display_data"
    }
   ],
   "source": [
    "from sklearn.metrics import accuracy_score\n",
    "import tqdm\n",
    "alpha_arr = np.logspace(-10, 10, 21)\n",
    "test_err = []\n",
    "train_err = []\n",
    "train_acc = []\n",
    "test_acc = []\n",
    "\n",
    "for alpha in tqdm.tqdm_notebook(alpha_arr):\n",
    "    mlp_model = MLPClassifier(alpha=alpha,\n",
    "                              hidden_layer_sizes = (50,),\n",
    "                              solver = 'adam', \n",
    "                              activation = 'logistic',\n",
    "                              max_iter=2000,\n",
    "                              random_state = 42,\n",
    "                              #verbose=1,\n",
    "                              tol=1e-4)\n",
    "    mlp_model.fit(X_train, y_train)\n",
    "\n",
    "    y_train_pred = mlp_model.predict(X_train)\n",
    "    y_test_pred = mlp_model.predict(X_test)\n",
    "    \n",
    "    train_err.append(np.mean(y_train != y_train_pred))\n",
    "    test_err.append(np.mean(y_test != y_test_pred))\n",
    "    train_acc.append(accuracy_score(y_train, y_train_pred))\n",
    "    test_acc.append(accuracy_score(y_test, y_test_pred))"
   ]
  },
  {
   "cell_type": "code",
   "execution_count": 46,
   "id": "38ab33f3",
   "metadata": {},
   "outputs": [
    {
     "data": {
      "text/plain": [
       "<matplotlib.legend.Legend at 0x1358bd48>"
      ]
     },
     "execution_count": 46,
     "metadata": {},
     "output_type": "execute_result"
    },
    {
     "data": {
      "image/png": "[encoded data removed]",
      "text/plain": [
       "<Figure size 432x288 with 1 Axes>"
      ]
     },
     "metadata": {
      "needs_background": "light"
     },
     "output_type": "display_data"
    }
   ],
   "source": [
    "plt.semilogx(alpha_arr, train_err, 'b-o', label = 'train')\n",
    "plt.semilogx(alpha_arr, test_err, 'r-o', label = 'test')\n",
    "plt.xlim([np.min(alpha_arr), np.max(alpha_arr)])\n",
    "plt.title('Error vs. alpha')\n",
    "plt.xlabel('alpha')\n",
    "plt.ylabel('error')\n",
    "plt.legend()"
   ]
  },
  {
   "cell_type": "markdown",
   "id": "ce9d0a6f",
   "metadata": {},
   "source": [
    "### Рассмотрим как у нас менялась метрика в зависимости от гиперпараметра:"
   ]
  },
  {
   "cell_type": "code",
   "execution_count": 47,
   "id": "97a4df8b",
   "metadata": {},
   "outputs": [
    {
     "data": {
      "text/plain": [
       "<matplotlib.legend.Legend at 0x13dcc6e8>"
      ]
     },
     "execution_count": 47,
     "metadata": {},
     "output_type": "execute_result"
    },
    {
     "data": {
      "image/png": "[encoded data removed]",
      "text/plain": [
       "<Figure size 432x288 with 1 Axes>"
      ]
     },
     "metadata": {
      "needs_background": "light"
     },
     "output_type": "display_data"
    }
   ],
   "source": [
    "plt.semilogx(alpha_arr, train_acc, 'r-o', label = 'train')\n",
    "plt.semilogx(alpha_arr, test_acc, 'b-o', label = 'test')\n",
    "plt.xlim([np.min(alpha_arr), np.max(alpha_arr)])\n",
    "plt.title('Accuracy vs. alpha')\n",
    "plt.xlabel('alpha')\n",
    "plt.ylabel('Accuracy')\n",
    "plt.legend()"
   ]
  },
  {
   "cell_type": "markdown",
   "id": "58f7a63c",
   "metadata": {},
   "source": [
    "Минимальное значение ошибки:"
   ]
  },
  {
   "cell_type": "code",
   "execution_count": 48,
   "id": "90f81901",
   "metadata": {},
   "outputs": [
    {
     "name": "stdout",
     "output_type": "stream",
     "text": [
      "0.19655172413793104 0.232\n"
     ]
    }
   ],
   "source": [
    "min_train_err = np.min(train_err)\n",
    "min_test_err = np.min(test_err)\n",
    "print(min_train_err, min_test_err)"
   ]
  },
  {
   "cell_type": "markdown",
   "id": "57f1b11c",
   "metadata": {},
   "source": [
    "Оптимальное значение alpha:"
   ]
  },
  {
   "cell_type": "code",
   "execution_count": 49,
   "id": "896453b2",
   "metadata": {},
   "outputs": [
    {
     "name": "stdout",
     "output_type": "stream",
     "text": [
      "[0.1 1. ]\n"
     ]
    }
   ],
   "source": [
    "alpha_opt = alpha_arr[test_err == min_test_err]\n",
    "print(alpha_opt)"
   ]
  },
  {
   "cell_type": "code",
   "execution_count": 50,
   "id": "6393cb99",
   "metadata": {},
   "outputs": [],
   "source": [
    "alpha_opt = alpha_opt[0]"
   ]
  },
  {
   "cell_type": "markdown",
   "id": "a700a8a6",
   "metadata": {},
   "source": [
    "## Подбор числа нейронов (1 скрытый слой)"
   ]
  },
  {
   "cell_type": "code",
   "execution_count": 51,
   "id": "9c9cc84e",
   "metadata": {},
   "outputs": [
    {
     "name": "stderr",
     "output_type": "stream",
     "text": [
      "C:\\TEMP/ipykernel_12424/1571838247.py:9: TqdmDeprecationWarning: This function will be removed in tqdm==5.0.0\n",
      "Please use `tqdm.notebook.tqdm` instead of `tqdm.tqdm_notebook`\n",
      "  for neurons_count in tqdm.tqdm_notebook(neurons_count_arr):\n"
     ]
    },
    {
     "data": {
      "application/vnd.jupyter.widget-view+json": {
       "model_id": "adfa2d97eff9479393bf54d7471ac829",
       "version_major": 2,
       "version_minor": 0
      },
      "text/plain": [
       "  0%|          | 0/99 [00:00<?, ?it/s]"
      ]
     },
     "metadata": {},
     "output_type": "display_data"
    }
   ],
   "source": [
    "from sklearn.metrics import accuracy_score\n",
    "import tqdm\n",
    "neurons_count_arr = np.array([i for i in range(2, 100+1)])\n",
    "test_err = []\n",
    "train_err = []\n",
    "train_acc = []\n",
    "test_acc = []\n",
    "\n",
    "for neurons_count in tqdm.tqdm_notebook(neurons_count_arr):\n",
    "    mlp_model = MLPClassifier(alpha=alpha_opt,\n",
    "                              hidden_layer_sizes = (neurons_count,),\n",
    "                              solver = 'adam', \n",
    "                              activation = 'logistic',\n",
    "                              max_iter=2000,\n",
    "                              random_state = 42,\n",
    "                              #verbose=1,\n",
    "                              tol=1e-3)\n",
    "    mlp_model.fit(X_train, y_train)\n",
    "\n",
    "    y_train_pred = mlp_model.predict(X_train)\n",
    "    y_test_pred = mlp_model.predict(X_test)\n",
    "    \n",
    "    train_err.append(np.mean(y_train != y_train_pred))\n",
    "    test_err.append(np.mean(y_test != y_test_pred))\n",
    "    train_acc.append(accuracy_score(y_train, y_train_pred))\n",
    "    test_acc.append(accuracy_score(y_test, y_test_pred))"
   ]
  },
  {
   "cell_type": "code",
   "execution_count": 52,
   "id": "189e64be",
   "metadata": {},
   "outputs": [
    {
     "data": {
      "text/plain": [
       "<matplotlib.legend.Legend at 0x13d75040>"
      ]
     },
     "execution_count": 52,
     "metadata": {},
     "output_type": "execute_result"
    },
    {
     "data": {
      "image/png": "[encoded data removed]",
      "text/plain": [
       "<Figure size 432x288 with 1 Axes>"
      ]
     },
     "metadata": {
      "needs_background": "light"
     },
     "output_type": "display_data"
    }
   ],
   "source": [
    "plt.semilogx(neurons_count_arr, train_err, 'b-o', label = 'train')\n",
    "plt.semilogx(neurons_count_arr, test_err, 'r-o', label = 'test')\n",
    "plt.xlim([np.min(neurons_count_arr), np.max(neurons_count_arr)])\n",
    "plt.title('Error vs. neurons count')\n",
    "plt.xlabel('neurons count')\n",
    "plt.ylabel('error')\n",
    "plt.legend()"
   ]
  },
  {
   "cell_type": "code",
   "execution_count": 53,
   "id": "be0fbbd9",
   "metadata": {},
   "outputs": [
    {
     "data": {
      "text/plain": [
       "<matplotlib.legend.Legend at 0x13dc2028>"
      ]
     },
     "execution_count": 53,
     "metadata": {},
     "output_type": "execute_result"
    },
    {
     "data": {
      "image/png": "[encoded data removed]",
      "text/plain": [
       "<Figure size 432x288 with 1 Axes>"
      ]
     },
     "metadata": {
      "needs_background": "light"
     },
     "output_type": "display_data"
    }
   ],
   "source": [
    "plt.semilogx(neurons_count_arr, train_acc, 'r-o', label = 'train')\n",
    "plt.semilogx(neurons_count_arr, test_acc, 'b-o', label = 'test')\n",
    "plt.xlim([np.min(neurons_count_arr), np.max(neurons_count_arr)])\n",
    "plt.title('Accuracy vs. neurons count')\n",
    "plt.xlabel('neurons count')\n",
    "plt.ylabel('Accuracy')\n",
    "plt.legend()"
   ]
  },
  {
   "cell_type": "code",
   "execution_count": 65,
   "id": "b886df79",
   "metadata": {},
   "outputs": [
    {
     "data": {
      "text/plain": [
       "94"
      ]
     },
     "execution_count": 65,
     "metadata": {},
     "output_type": "execute_result"
    }
   ],
   "source": [
    "max_accuracy = max(test_acc)\n",
    "id_of_maximum = 0\n",
    "for i in range(len(test_acc)):\n",
    "    if test_acc[i] == max_accuracy:\n",
    "        id_of_maximum = i\n",
    "neurons = neurons_count_arr[id_of_maximum]\n",
    "neurons"
   ]
  },
  {
   "cell_type": "markdown",
   "id": "156bd080",
   "metadata": {},
   "source": [
    "# Финальное обучение с оптимальными параметрами (по точности и времени)"
   ]
  },
  {
   "cell_type": "code",
   "execution_count": 66,
   "id": "70a420b2",
   "metadata": {},
   "outputs": [],
   "source": [
    "from sklearn.neural_network import MLPClassifier\n",
    "\n",
    "mlp_model = MLPClassifier(hidden_layer_sizes = (neurons,),\n",
    "                          alpha=alpha_opt,\n",
    "                          solver = 'adam', \n",
    "                          activation = 'logistic',\n",
    "                          max_iter=2000,\n",
    "                          random_state = 42,\n",
    "                          #verbose=1,\n",
    "                          tol=1e-4)"
   ]
  },
  {
   "cell_type": "code",
   "execution_count": 67,
   "id": "b0f47785",
   "metadata": {},
   "outputs": [
    {
     "name": "stdout",
     "output_type": "stream",
     "text": [
      "Wall time: 1.11 s\n"
     ]
    },
    {
     "data": {
      "text/plain": [
       "MLPClassifier(activation='logistic', alpha=0.1, hidden_layer_sizes=(94,),\n",
       "              max_iter=2000, random_state=42)"
      ]
     },
     "execution_count": 67,
     "metadata": {},
     "output_type": "execute_result"
    }
   ],
   "source": [
    "%%time\n",
    "mlp_model.fit(X_train, y_train)"
   ]
  },
  {
   "cell_type": "markdown",
   "id": "f0e737fa",
   "metadata": {},
   "source": [
    "Ошибки на тестовой выборке"
   ]
  },
  {
   "cell_type": "code",
   "execution_count": 68,
   "id": "49984ec5",
   "metadata": {},
   "outputs": [
    {
     "data": {
      "text/plain": [
       "0.232"
      ]
     },
     "execution_count": 68,
     "metadata": {},
     "output_type": "execute_result"
    }
   ],
   "source": [
    "y_test_predict = mlp_model.predict(X_test)\n",
    "err_test  = np.mean(y_test  != y_test_predict)\n",
    "err_test"
   ]
  },
  {
   "cell_type": "markdown",
   "id": "6a874127",
   "metadata": {},
   "source": [
    "Ошибки на тренировочной выборке"
   ]
  },
  {
   "cell_type": "code",
   "execution_count": 69,
   "id": "3d1f719a",
   "metadata": {},
   "outputs": [
    {
     "data": {
      "text/plain": [
       "0.20344827586206896"
      ]
     },
     "execution_count": 69,
     "metadata": {},
     "output_type": "execute_result"
    }
   ],
   "source": [
    "y_train_predict = mlp_model.predict(X_train)\n",
    "err_train  = np.mean(y_train  != y_train_predict)\n",
    "err_train"
   ]
  },
  {
   "cell_type": "code",
   "execution_count": 70,
   "id": "38c5e8cf",
   "metadata": {},
   "outputs": [
    {
     "data": {
      "text/plain": [
       "(0.768, 0.7965517241379311)"
      ]
     },
     "execution_count": 70,
     "metadata": {},
     "output_type": "execute_result"
    }
   ],
   "source": [
    "1-err_test, 1-err_train"
   ]
  },
  {
   "cell_type": "code",
   "execution_count": null,
   "id": "ed434eee",
   "metadata": {},
   "outputs": [],
   "source": []
  },
  {
   "cell_type": "markdown",
   "id": "e2319092",
   "metadata": {},
   "source": [
    "## Матрица рассогласования:"
   ]
  },
  {
   "cell_type": "code",
   "execution_count": 71,
   "id": "128dd946",
   "metadata": {},
   "outputs": [
    {
     "name": "stdout",
     "output_type": "stream",
     "text": [
      "[[28  8]\n",
      " [23 66]]\n"
     ]
    },
    {
     "data": {
      "text/plain": [
       "array([1, 0, 0, 1, 1, 1, 1, 1, 1, 1, 0, 1, 1, 1, 0, 0, 1, 1, 0, 1, 0, 0,\n",
       "       1, 0, 1, 1, 0, 1, 1, 0, 1, 0, 1, 1, 1, 1, 1, 1, 1, 1, 1, 1, 0, 1,\n",
       "       1, 1, 0, 1, 1, 1, 0, 0, 1, 1, 1, 1, 1, 1, 1, 1, 1, 1, 1, 1, 1, 1,\n",
       "       1, 1, 0, 1, 1, 1, 1, 1, 1, 1, 1, 1, 1, 1, 0, 1, 0, 0, 1, 1, 0, 1,\n",
       "       1, 0, 0, 1, 0, 1, 0, 1, 1, 1, 0, 1, 0, 1, 1, 1, 0, 1, 1, 1, 1, 0,\n",
       "       1, 1, 1, 1, 1, 0, 0, 1, 0, 0, 0, 0, 0, 1, 1])"
      ]
     },
     "execution_count": 71,
     "metadata": {},
     "output_type": "execute_result"
    }
   ],
   "source": [
    "from sklearn.metrics import confusion_matrix\n",
    "print(confusion_matrix(y_test_pred, y_test))\n",
    "y_test_pred"
   ]
  },
  {
   "cell_type": "code",
   "execution_count": 72,
   "id": "9318dcf7",
   "metadata": {},
   "outputs": [
    {
     "data": {
      "text/plain": [
       "array([1, 0, 0, 1, 0, 1, 1, 1, 0, 1, 0, 1, 1, 1, 0, 0, 1, 1, 0, 0, 0, 0,\n",
       "       1, 0, 1, 0, 0, 1, 1, 0, 1, 0, 1, 0, 0, 1, 0, 1, 1, 0, 1, 1, 0, 1,\n",
       "       1, 1, 1, 1, 1, 1, 1, 1, 1, 1, 1, 1, 1, 1, 1, 1, 0, 0, 1, 0, 0, 1,\n",
       "       1, 1, 0, 1, 1, 1, 1, 1, 0, 1, 1, 0, 1, 1, 0, 0, 0, 0, 1, 1, 1, 1,\n",
       "       1, 0, 0, 1, 0, 0, 1, 1, 1, 1, 0, 0, 0, 1, 1, 0, 0, 1, 1, 1, 1, 0,\n",
       "       1, 1, 0, 0, 0, 1, 1, 0, 0, 0, 1, 0, 0, 1, 0])"
      ]
     },
     "execution_count": 72,
     "metadata": {},
     "output_type": "execute_result"
    }
   ],
   "source": [
    "y_test"
   ]
  },
  {
   "cell_type": "code",
   "execution_count": 73,
   "id": "b0134e0f",
   "metadata": {},
   "outputs": [
    {
     "data": {
      "image/png": "[encoded data removed]",
      "text/plain": [
       "<Figure size 432x288 with 2 Axes>"
      ]
     },
     "metadata": {
      "needs_background": "light"
     },
     "output_type": "display_data"
    }
   ],
   "source": [
    "M = confusion_matrix(y_test_pred, y_test)\n",
    "M = np.sqrt(M)\n",
    "plt.imshow(M, interpolation = 'nearest')\n",
    "plt.set_cmap('binary')\n",
    "plt.xticks(range(2))\n",
    "plt.yticks(range(2))\n",
    "plt.xlabel(\"true label\")\n",
    "plt.ylabel(\"predicted label\")\n",
    "plt.colorbar()\n",
    "pass"
   ]
  },
  {
   "cell_type": "markdown",
   "id": "2076d0c0",
   "metadata": {},
   "source": [
    "# Метрики качества:"
   ]
  },
  {
   "cell_type": "code",
   "execution_count": 74,
   "id": "435c1e20",
   "metadata": {},
   "outputs": [
    {
     "name": "stdout",
     "output_type": "stream",
     "text": [
      "              precision    recall  f1-score   support\n",
      "\n",
      "           0       0.78      0.55      0.64        51\n",
      "           1       0.74      0.89      0.81        74\n",
      "\n",
      "    accuracy                           0.75       125\n",
      "   macro avg       0.76      0.72      0.73       125\n",
      "weighted avg       0.76      0.75      0.74       125\n",
      "\n"
     ]
    }
   ],
   "source": [
    "from sklearn.metrics import classification_report\n",
    "print(classification_report(y_test, y_test_pred))"
   ]
  },
  {
   "cell_type": "code",
   "execution_count": null,
   "id": "0f90cb11",
   "metadata": {},
   "outputs": [],
   "source": []
  },
  {
   "cell_type": "code",
   "execution_count": null,
   "id": "9715bcc2",
   "metadata": {},
   "outputs": [],
   "source": []
  },
  {
   "cell_type": "code",
   "execution_count": null,
   "id": "d38f8d50",
   "metadata": {},
   "outputs": [],
   "source": []
  }
 ],
 "metadata": {
  "kernelspec": {
   "display_name": "Python 3 (ipykernel)",
   "language": "python",
   "name": "python3"
  },
  "language_info": {
   "codemirror_mode": {
    "name": "ipython",
    "version": 3
   },
   "file_extension": ".py",
   "mimetype": "text/x-python",
   "name": "python",
   "nbconvert_exporter": "python",
   "pygments_lexer": "ipython3",
   "version": "3.9.5"
  }
 },
 "nbformat": 4,
 "nbformat_minor": 5
}
